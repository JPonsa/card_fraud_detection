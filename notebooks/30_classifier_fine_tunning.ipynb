{
 "cells": [
  {
   "cell_type": "code",
   "execution_count": 51,
   "metadata": {},
   "outputs": [],
   "source": [
    "from collections import Counter\n",
    "import numpy as np\n",
    "import pandas as pd\n",
    "\n",
    "# Plotting\n",
    "import matplotlib.pyplot as plt\n",
    "import seaborn as sns\n",
    "import dataframe_image as dfi\n",
    "\n",
    "# Preprocessing and Model Selection\n",
    "from sklearn.compose import ColumnTransformer\n",
    "from sklearn.model_selection import cross_validate\n",
    "from sklearn.pipeline import Pipeline\n",
    "from sklearn.preprocessing import RobustScaler\n",
    "from sklearn.metrics import classification_report, ConfusionMatrixDisplay, roc_curve\n",
    "\n",
    "from sklearn.preprocessing import StandardScaler\n",
    "\n",
    "from imblearn.over_sampling import SMOTE\n",
    "from imblearn.under_sampling import RandomUnderSampler\n",
    "from imblearn.pipeline import Pipeline as imbpipeline\n",
    "\n",
    "from catboost import CatBoostClassifier"
   ]
  },
  {
   "cell_type": "code",
   "execution_count": 52,
   "metadata": {},
   "outputs": [],
   "source": [
    "preprocessed_path = \"../data/preprocessed/\"\n",
    "\n",
    "train_df = pd.read_csv(preprocessed_path + \"train.csv\")\n",
    "test_df = pd.read_csv(preprocessed_path + \"test.csv\")\n",
    "val_df = pd.read_csv(preprocessed_path + \"validate.csv\")\n",
    "\n",
    "\n",
    "target = [\"TX_FRAUD\"]\n",
    "\n",
    "y_train = train_df[target].values\n",
    "y_val = val_df[target].values\n",
    "y_test = test_df[target].values\n",
    "\n",
    "X_train = train_df.drop(target, axis=1)\n",
    "X_val = val_df.drop(target, axis=1)\n",
    "X_test = test_df.drop(target, axis=1)"
   ]
  },
  {
   "cell_type": "code",
   "execution_count": 53,
   "metadata": {},
   "outputs": [
    {
     "name": "stderr",
     "output_type": "stream",
     "text": [
      "[I 2023-12-19 13:05:48,717] Using an existing study with name 'quadratic-simple' instead of creating a new one.\n"
     ]
    },
    {
     "data": {
      "application/vnd.jupyter.widget-view+json": {
       "model_id": "7f026cbaecf541a1a91cfe2ddb287c29",
       "version_major": 2,
       "version_minor": 0
      },
      "text/plain": [
       "  0%|          | 0/100 [00:00<?, ?it/s]"
      ]
     },
     "metadata": {},
     "output_type": "display_data"
    },
    {
     "name": "stderr",
     "output_type": "stream",
     "text": [
      "C:\\Users\\joanp\\AppData\\Local\\Temp\\ipykernel_25508\\1214387694.py:14: FutureWarning: suggest_loguniform has been deprecated in v3.0.0. This feature will be removed in v6.0.0. See https://github.com/optuna/optuna/releases/tag/v3.0.0. Use suggest_float(..., log=True) instead.\n",
      "  \"learning_rate\": trial.suggest_loguniform(\"learning_rate\", 0.0001, 0.1),\n",
      "C:\\Users\\joanp\\AppData\\Local\\Temp\\ipykernel_25508\\1214387694.py:16: FutureWarning: suggest_loguniform has been deprecated in v3.0.0. This feature will be removed in v6.0.0. See https://github.com/optuna/optuna/releases/tag/v3.0.0. Use suggest_float(..., log=True) instead.\n",
      "  \"l2_leaf_reg\": trial.suggest_loguniform(\"l2_leaf_reg\", 0.1, 10.0),\n"
     ]
    },
    {
     "name": "stdout",
     "output_type": "stream",
     "text": [
      "[I 2023-12-19 13:05:50,715] Trial 200 finished with value: 0.6987012987012987 and parameters: {'iterations': 207, 'learning_rate': 0.0008786187071034391, 'depth': 6, 'l2_leaf_reg': 4.632448185297568}. Best is trial 129 with value: 0.7038961038961039.\n"
     ]
    },
    {
     "name": "stderr",
     "output_type": "stream",
     "text": [
      "C:\\Users\\joanp\\AppData\\Local\\Temp\\ipykernel_25508\\1214387694.py:14: FutureWarning: suggest_loguniform has been deprecated in v3.0.0. This feature will be removed in v6.0.0. See https://github.com/optuna/optuna/releases/tag/v3.0.0. Use suggest_float(..., log=True) instead.\n",
      "  \"learning_rate\": trial.suggest_loguniform(\"learning_rate\", 0.0001, 0.1),\n",
      "C:\\Users\\joanp\\AppData\\Local\\Temp\\ipykernel_25508\\1214387694.py:16: FutureWarning: suggest_loguniform has been deprecated in v3.0.0. This feature will be removed in v6.0.0. See https://github.com/optuna/optuna/releases/tag/v3.0.0. Use suggest_float(..., log=True) instead.\n",
      "  \"l2_leaf_reg\": trial.suggest_loguniform(\"l2_leaf_reg\", 0.1, 10.0),\n"
     ]
    },
    {
     "name": "stdout",
     "output_type": "stream",
     "text": [
      "[I 2023-12-19 13:05:52,598] Trial 201 finished with value: 0.7012987012987013 and parameters: {'iterations': 228, 'learning_rate': 0.0008352659172989378, 'depth': 6, 'l2_leaf_reg': 4.605240031987445}. Best is trial 129 with value: 0.7038961038961039.\n"
     ]
    },
    {
     "name": "stderr",
     "output_type": "stream",
     "text": [
      "C:\\Users\\joanp\\AppData\\Local\\Temp\\ipykernel_25508\\1214387694.py:14: FutureWarning: suggest_loguniform has been deprecated in v3.0.0. This feature will be removed in v6.0.0. See https://github.com/optuna/optuna/releases/tag/v3.0.0. Use suggest_float(..., log=True) instead.\n",
      "  \"learning_rate\": trial.suggest_loguniform(\"learning_rate\", 0.0001, 0.1),\n",
      "C:\\Users\\joanp\\AppData\\Local\\Temp\\ipykernel_25508\\1214387694.py:16: FutureWarning: suggest_loguniform has been deprecated in v3.0.0. This feature will be removed in v6.0.0. See https://github.com/optuna/optuna/releases/tag/v3.0.0. Use suggest_float(..., log=True) instead.\n",
      "  \"l2_leaf_reg\": trial.suggest_loguniform(\"l2_leaf_reg\", 0.1, 10.0),\n"
     ]
    },
    {
     "name": "stdout",
     "output_type": "stream",
     "text": [
      "[I 2023-12-19 13:05:54,421] Trial 202 finished with value: 0.6831168831168831 and parameters: {'iterations': 206, 'learning_rate': 0.0008543735523826822, 'depth': 6, 'l2_leaf_reg': 4.630319776012005}. Best is trial 129 with value: 0.7038961038961039.\n"
     ]
    },
    {
     "name": "stderr",
     "output_type": "stream",
     "text": [
      "C:\\Users\\joanp\\AppData\\Local\\Temp\\ipykernel_25508\\1214387694.py:14: FutureWarning: suggest_loguniform has been deprecated in v3.0.0. This feature will be removed in v6.0.0. See https://github.com/optuna/optuna/releases/tag/v3.0.0. Use suggest_float(..., log=True) instead.\n",
      "  \"learning_rate\": trial.suggest_loguniform(\"learning_rate\", 0.0001, 0.1),\n",
      "C:\\Users\\joanp\\AppData\\Local\\Temp\\ipykernel_25508\\1214387694.py:16: FutureWarning: suggest_loguniform has been deprecated in v3.0.0. This feature will be removed in v6.0.0. See https://github.com/optuna/optuna/releases/tag/v3.0.0. Use suggest_float(..., log=True) instead.\n",
      "  \"l2_leaf_reg\": trial.suggest_loguniform(\"l2_leaf_reg\", 0.1, 10.0),\n"
     ]
    },
    {
     "name": "stdout",
     "output_type": "stream",
     "text": [
      "[I 2023-12-19 13:05:56,458] Trial 203 finished with value: 0.6883116883116883 and parameters: {'iterations': 229, 'learning_rate': 0.0009882162496135847, 'depth': 6, 'l2_leaf_reg': 3.7928933515678263}. Best is trial 129 with value: 0.7038961038961039.\n"
     ]
    },
    {
     "name": "stderr",
     "output_type": "stream",
     "text": [
      "C:\\Users\\joanp\\AppData\\Local\\Temp\\ipykernel_25508\\1214387694.py:14: FutureWarning: suggest_loguniform has been deprecated in v3.0.0. This feature will be removed in v6.0.0. See https://github.com/optuna/optuna/releases/tag/v3.0.0. Use suggest_float(..., log=True) instead.\n",
      "  \"learning_rate\": trial.suggest_loguniform(\"learning_rate\", 0.0001, 0.1),\n",
      "C:\\Users\\joanp\\AppData\\Local\\Temp\\ipykernel_25508\\1214387694.py:16: FutureWarning: suggest_loguniform has been deprecated in v3.0.0. This feature will be removed in v6.0.0. See https://github.com/optuna/optuna/releases/tag/v3.0.0. Use suggest_float(..., log=True) instead.\n",
      "  \"l2_leaf_reg\": trial.suggest_loguniform(\"l2_leaf_reg\", 0.1, 10.0),\n"
     ]
    },
    {
     "name": "stdout",
     "output_type": "stream",
     "text": [
      "[I 2023-12-19 13:05:57,448] Trial 204 finished with value: 0.6909090909090909 and parameters: {'iterations': 179, 'learning_rate': 0.0007554840804598635, 'depth': 6, 'l2_leaf_reg': 6.984043663999322}. Best is trial 129 with value: 0.7038961038961039.\n"
     ]
    },
    {
     "name": "stderr",
     "output_type": "stream",
     "text": [
      "C:\\Users\\joanp\\AppData\\Local\\Temp\\ipykernel_25508\\1214387694.py:14: FutureWarning: suggest_loguniform has been deprecated in v3.0.0. This feature will be removed in v6.0.0. See https://github.com/optuna/optuna/releases/tag/v3.0.0. Use suggest_float(..., log=True) instead.\n",
      "  \"learning_rate\": trial.suggest_loguniform(\"learning_rate\", 0.0001, 0.1),\n",
      "C:\\Users\\joanp\\AppData\\Local\\Temp\\ipykernel_25508\\1214387694.py:16: FutureWarning: suggest_loguniform has been deprecated in v3.0.0. This feature will be removed in v6.0.0. See https://github.com/optuna/optuna/releases/tag/v3.0.0. Use suggest_float(..., log=True) instead.\n",
      "  \"l2_leaf_reg\": trial.suggest_loguniform(\"l2_leaf_reg\", 0.1, 10.0),\n"
     ]
    },
    {
     "name": "stdout",
     "output_type": "stream",
     "text": [
      "[I 2023-12-19 13:05:59,207] Trial 205 finished with value: 0.7012987012987013 and parameters: {'iterations': 203, 'learning_rate': 0.0009195004769929491, 'depth': 6, 'l2_leaf_reg': 2.179063967570467}. Best is trial 129 with value: 0.7038961038961039.\n"
     ]
    },
    {
     "name": "stderr",
     "output_type": "stream",
     "text": [
      "C:\\Users\\joanp\\AppData\\Local\\Temp\\ipykernel_25508\\1214387694.py:14: FutureWarning: suggest_loguniform has been deprecated in v3.0.0. This feature will be removed in v6.0.0. See https://github.com/optuna/optuna/releases/tag/v3.0.0. Use suggest_float(..., log=True) instead.\n",
      "  \"learning_rate\": trial.suggest_loguniform(\"learning_rate\", 0.0001, 0.1),\n",
      "C:\\Users\\joanp\\AppData\\Local\\Temp\\ipykernel_25508\\1214387694.py:16: FutureWarning: suggest_loguniform has been deprecated in v3.0.0. This feature will be removed in v6.0.0. See https://github.com/optuna/optuna/releases/tag/v3.0.0. Use suggest_float(..., log=True) instead.\n",
      "  \"l2_leaf_reg\": trial.suggest_loguniform(\"l2_leaf_reg\", 0.1, 10.0),\n"
     ]
    },
    {
     "name": "stdout",
     "output_type": "stream",
     "text": [
      "[I 2023-12-19 13:06:00,100] Trial 206 finished with value: 0.6779220779220779 and parameters: {'iterations': 151, 'learning_rate': 0.000829765177252655, 'depth': 6, 'l2_leaf_reg': 4.129648005274579}. Best is trial 129 with value: 0.7038961038961039.\n"
     ]
    },
    {
     "name": "stderr",
     "output_type": "stream",
     "text": [
      "C:\\Users\\joanp\\AppData\\Local\\Temp\\ipykernel_25508\\1214387694.py:14: FutureWarning: suggest_loguniform has been deprecated in v3.0.0. This feature will be removed in v6.0.0. See https://github.com/optuna/optuna/releases/tag/v3.0.0. Use suggest_float(..., log=True) instead.\n",
      "  \"learning_rate\": trial.suggest_loguniform(\"learning_rate\", 0.0001, 0.1),\n",
      "C:\\Users\\joanp\\AppData\\Local\\Temp\\ipykernel_25508\\1214387694.py:16: FutureWarning: suggest_loguniform has been deprecated in v3.0.0. This feature will be removed in v6.0.0. See https://github.com/optuna/optuna/releases/tag/v3.0.0. Use suggest_float(..., log=True) instead.\n",
      "  \"l2_leaf_reg\": trial.suggest_loguniform(\"l2_leaf_reg\", 0.1, 10.0),\n"
     ]
    },
    {
     "name": "stdout",
     "output_type": "stream",
     "text": [
      "[I 2023-12-19 13:06:01,964] Trial 207 finished with value: 0.6909090909090909 and parameters: {'iterations': 219, 'learning_rate': 0.0009034778190767233, 'depth': 6, 'l2_leaf_reg': 4.6537836413661}. Best is trial 129 with value: 0.7038961038961039.\n"
     ]
    },
    {
     "name": "stderr",
     "output_type": "stream",
     "text": [
      "C:\\Users\\joanp\\AppData\\Local\\Temp\\ipykernel_25508\\1214387694.py:14: FutureWarning: suggest_loguniform has been deprecated in v3.0.0. This feature will be removed in v6.0.0. See https://github.com/optuna/optuna/releases/tag/v3.0.0. Use suggest_float(..., log=True) instead.\n",
      "  \"learning_rate\": trial.suggest_loguniform(\"learning_rate\", 0.0001, 0.1),\n",
      "C:\\Users\\joanp\\AppData\\Local\\Temp\\ipykernel_25508\\1214387694.py:16: FutureWarning: suggest_loguniform has been deprecated in v3.0.0. This feature will be removed in v6.0.0. See https://github.com/optuna/optuna/releases/tag/v3.0.0. Use suggest_float(..., log=True) instead.\n",
      "  \"l2_leaf_reg\": trial.suggest_loguniform(\"l2_leaf_reg\", 0.1, 10.0),\n"
     ]
    },
    {
     "name": "stdout",
     "output_type": "stream",
     "text": [
      "[I 2023-12-19 13:06:07,027] Trial 208 finished with value: 0.6883116883116883 and parameters: {'iterations': 676, 'learning_rate': 0.0006997083061277509, 'depth': 6, 'l2_leaf_reg': 3.1855957668695045}. Best is trial 129 with value: 0.7038961038961039.\n"
     ]
    },
    {
     "name": "stderr",
     "output_type": "stream",
     "text": [
      "C:\\Users\\joanp\\AppData\\Local\\Temp\\ipykernel_25508\\1214387694.py:14: FutureWarning: suggest_loguniform has been deprecated in v3.0.0. This feature will be removed in v6.0.0. See https://github.com/optuna/optuna/releases/tag/v3.0.0. Use suggest_float(..., log=True) instead.\n",
      "  \"learning_rate\": trial.suggest_loguniform(\"learning_rate\", 0.0001, 0.1),\n",
      "C:\\Users\\joanp\\AppData\\Local\\Temp\\ipykernel_25508\\1214387694.py:16: FutureWarning: suggest_loguniform has been deprecated in v3.0.0. This feature will be removed in v6.0.0. See https://github.com/optuna/optuna/releases/tag/v3.0.0. Use suggest_float(..., log=True) instead.\n",
      "  \"l2_leaf_reg\": trial.suggest_loguniform(\"l2_leaf_reg\", 0.1, 10.0),\n"
     ]
    },
    {
     "name": "stdout",
     "output_type": "stream",
     "text": [
      "[I 2023-12-19 13:06:08,114] Trial 209 finished with value: 0.6857142857142857 and parameters: {'iterations': 194, 'learning_rate': 0.0009088399907640794, 'depth': 6, 'l2_leaf_reg': 5.2615027354441475}. Best is trial 129 with value: 0.7038961038961039.\n"
     ]
    },
    {
     "name": "stderr",
     "output_type": "stream",
     "text": [
      "C:\\Users\\joanp\\AppData\\Local\\Temp\\ipykernel_25508\\1214387694.py:14: FutureWarning: suggest_loguniform has been deprecated in v3.0.0. This feature will be removed in v6.0.0. See https://github.com/optuna/optuna/releases/tag/v3.0.0. Use suggest_float(..., log=True) instead.\n",
      "  \"learning_rate\": trial.suggest_loguniform(\"learning_rate\", 0.0001, 0.1),\n",
      "C:\\Users\\joanp\\AppData\\Local\\Temp\\ipykernel_25508\\1214387694.py:16: FutureWarning: suggest_loguniform has been deprecated in v3.0.0. This feature will be removed in v6.0.0. See https://github.com/optuna/optuna/releases/tag/v3.0.0. Use suggest_float(..., log=True) instead.\n",
      "  \"l2_leaf_reg\": trial.suggest_loguniform(\"l2_leaf_reg\", 0.1, 10.0),\n"
     ]
    },
    {
     "name": "stdout",
     "output_type": "stream",
     "text": [
      "[I 2023-12-19 13:06:10,600] Trial 210 finished with value: 0.6909090909090909 and parameters: {'iterations': 267, 'learning_rate': 0.0007338605972461004, 'depth': 6, 'l2_leaf_reg': 0.715015772086366}. Best is trial 129 with value: 0.7038961038961039.\n"
     ]
    },
    {
     "name": "stderr",
     "output_type": "stream",
     "text": [
      "C:\\Users\\joanp\\AppData\\Local\\Temp\\ipykernel_25508\\1214387694.py:14: FutureWarning: suggest_loguniform has been deprecated in v3.0.0. This feature will be removed in v6.0.0. See https://github.com/optuna/optuna/releases/tag/v3.0.0. Use suggest_float(..., log=True) instead.\n",
      "  \"learning_rate\": trial.suggest_loguniform(\"learning_rate\", 0.0001, 0.1),\n",
      "C:\\Users\\joanp\\AppData\\Local\\Temp\\ipykernel_25508\\1214387694.py:16: FutureWarning: suggest_loguniform has been deprecated in v3.0.0. This feature will be removed in v6.0.0. See https://github.com/optuna/optuna/releases/tag/v3.0.0. Use suggest_float(..., log=True) instead.\n",
      "  \"l2_leaf_reg\": trial.suggest_loguniform(\"l2_leaf_reg\", 0.1, 10.0),\n"
     ]
    },
    {
     "name": "stdout",
     "output_type": "stream",
     "text": [
      "[I 2023-12-19 13:06:12,693] Trial 211 finished with value: 0.6935064935064935 and parameters: {'iterations': 213, 'learning_rate': 0.003140562697622591, 'depth': 6, 'l2_leaf_reg': 2.204137053034319}. Best is trial 129 with value: 0.7038961038961039.\n"
     ]
    },
    {
     "name": "stderr",
     "output_type": "stream",
     "text": [
      "C:\\Users\\joanp\\AppData\\Local\\Temp\\ipykernel_25508\\1214387694.py:14: FutureWarning: suggest_loguniform has been deprecated in v3.0.0. This feature will be removed in v6.0.0. See https://github.com/optuna/optuna/releases/tag/v3.0.0. Use suggest_float(..., log=True) instead.\n",
      "  \"learning_rate\": trial.suggest_loguniform(\"learning_rate\", 0.0001, 0.1),\n",
      "C:\\Users\\joanp\\AppData\\Local\\Temp\\ipykernel_25508\\1214387694.py:16: FutureWarning: suggest_loguniform has been deprecated in v3.0.0. This feature will be removed in v6.0.0. See https://github.com/optuna/optuna/releases/tag/v3.0.0. Use suggest_float(..., log=True) instead.\n",
      "  \"l2_leaf_reg\": trial.suggest_loguniform(\"l2_leaf_reg\", 0.1, 10.0),\n"
     ]
    },
    {
     "name": "stdout",
     "output_type": "stream",
     "text": [
      "[I 2023-12-19 13:06:14,755] Trial 212 finished with value: 0.6961038961038961 and parameters: {'iterations': 235, 'learning_rate': 0.0008682232816859187, 'depth': 6, 'l2_leaf_reg': 0.5363377025524292}. Best is trial 129 with value: 0.7038961038961039.\n"
     ]
    },
    {
     "name": "stderr",
     "output_type": "stream",
     "text": [
      "C:\\Users\\joanp\\AppData\\Local\\Temp\\ipykernel_25508\\1214387694.py:14: FutureWarning: suggest_loguniform has been deprecated in v3.0.0. This feature will be removed in v6.0.0. See https://github.com/optuna/optuna/releases/tag/v3.0.0. Use suggest_float(..., log=True) instead.\n",
      "  \"learning_rate\": trial.suggest_loguniform(\"learning_rate\", 0.0001, 0.1),\n",
      "C:\\Users\\joanp\\AppData\\Local\\Temp\\ipykernel_25508\\1214387694.py:16: FutureWarning: suggest_loguniform has been deprecated in v3.0.0. This feature will be removed in v6.0.0. See https://github.com/optuna/optuna/releases/tag/v3.0.0. Use suggest_float(..., log=True) instead.\n",
      "  \"l2_leaf_reg\": trial.suggest_loguniform(\"l2_leaf_reg\", 0.1, 10.0),\n"
     ]
    },
    {
     "name": "stdout",
     "output_type": "stream",
     "text": [
      "[I 2023-12-19 13:06:16,836] Trial 213 finished with value: 0.6727272727272727 and parameters: {'iterations': 231, 'learning_rate': 0.0008067991705172536, 'depth': 6, 'l2_leaf_reg': 0.4821181726176691}. Best is trial 129 with value: 0.7038961038961039.\n"
     ]
    },
    {
     "name": "stderr",
     "output_type": "stream",
     "text": [
      "C:\\Users\\joanp\\AppData\\Local\\Temp\\ipykernel_25508\\1214387694.py:14: FutureWarning: suggest_loguniform has been deprecated in v3.0.0. This feature will be removed in v6.0.0. See https://github.com/optuna/optuna/releases/tag/v3.0.0. Use suggest_float(..., log=True) instead.\n",
      "  \"learning_rate\": trial.suggest_loguniform(\"learning_rate\", 0.0001, 0.1),\n",
      "C:\\Users\\joanp\\AppData\\Local\\Temp\\ipykernel_25508\\1214387694.py:16: FutureWarning: suggest_loguniform has been deprecated in v3.0.0. This feature will be removed in v6.0.0. See https://github.com/optuna/optuna/releases/tag/v3.0.0. Use suggest_float(..., log=True) instead.\n",
      "  \"l2_leaf_reg\": trial.suggest_loguniform(\"l2_leaf_reg\", 0.1, 10.0),\n"
     ]
    },
    {
     "name": "stdout",
     "output_type": "stream",
     "text": [
      "[I 2023-12-19 13:06:18,953] Trial 214 finished with value: 0.6883116883116883 and parameters: {'iterations': 235, 'learning_rate': 0.0006429656625113835, 'depth': 6, 'l2_leaf_reg': 0.5319441023991175}. Best is trial 129 with value: 0.7038961038961039.\n"
     ]
    },
    {
     "name": "stderr",
     "output_type": "stream",
     "text": [
      "C:\\Users\\joanp\\AppData\\Local\\Temp\\ipykernel_25508\\1214387694.py:14: FutureWarning: suggest_loguniform has been deprecated in v3.0.0. This feature will be removed in v6.0.0. See https://github.com/optuna/optuna/releases/tag/v3.0.0. Use suggest_float(..., log=True) instead.\n",
      "  \"learning_rate\": trial.suggest_loguniform(\"learning_rate\", 0.0001, 0.1),\n",
      "C:\\Users\\joanp\\AppData\\Local\\Temp\\ipykernel_25508\\1214387694.py:16: FutureWarning: suggest_loguniform has been deprecated in v3.0.0. This feature will be removed in v6.0.0. See https://github.com/optuna/optuna/releases/tag/v3.0.0. Use suggest_float(..., log=True) instead.\n",
      "  \"l2_leaf_reg\": trial.suggest_loguniform(\"l2_leaf_reg\", 0.1, 10.0),\n"
     ]
    },
    {
     "name": "stdout",
     "output_type": "stream",
     "text": [
      "[I 2023-12-19 13:06:21,349] Trial 215 finished with value: 0.6857142857142857 and parameters: {'iterations': 262, 'learning_rate': 0.0009270874462386837, 'depth': 6, 'l2_leaf_reg': 0.4374943374091235}. Best is trial 129 with value: 0.7038961038961039.\n"
     ]
    },
    {
     "name": "stderr",
     "output_type": "stream",
     "text": [
      "C:\\Users\\joanp\\AppData\\Local\\Temp\\ipykernel_25508\\1214387694.py:14: FutureWarning: suggest_loguniform has been deprecated in v3.0.0. This feature will be removed in v6.0.0. See https://github.com/optuna/optuna/releases/tag/v3.0.0. Use suggest_float(..., log=True) instead.\n",
      "  \"learning_rate\": trial.suggest_loguniform(\"learning_rate\", 0.0001, 0.1),\n",
      "C:\\Users\\joanp\\AppData\\Local\\Temp\\ipykernel_25508\\1214387694.py:16: FutureWarning: suggest_loguniform has been deprecated in v3.0.0. This feature will be removed in v6.0.0. See https://github.com/optuna/optuna/releases/tag/v3.0.0. Use suggest_float(..., log=True) instead.\n",
      "  \"l2_leaf_reg\": trial.suggest_loguniform(\"l2_leaf_reg\", 0.1, 10.0),\n"
     ]
    },
    {
     "name": "stdout",
     "output_type": "stream",
     "text": [
      "[I 2023-12-19 13:06:22,369] Trial 216 finished with value: 0.6727272727272727 and parameters: {'iterations': 167, 'learning_rate': 0.0005481810298660139, 'depth': 6, 'l2_leaf_reg': 0.6101804280493793}. Best is trial 129 with value: 0.7038961038961039.\n"
     ]
    },
    {
     "name": "stderr",
     "output_type": "stream",
     "text": [
      "C:\\Users\\joanp\\AppData\\Local\\Temp\\ipykernel_25508\\1214387694.py:14: FutureWarning: suggest_loguniform has been deprecated in v3.0.0. This feature will be removed in v6.0.0. See https://github.com/optuna/optuna/releases/tag/v3.0.0. Use suggest_float(..., log=True) instead.\n",
      "  \"learning_rate\": trial.suggest_loguniform(\"learning_rate\", 0.0001, 0.1),\n",
      "C:\\Users\\joanp\\AppData\\Local\\Temp\\ipykernel_25508\\1214387694.py:16: FutureWarning: suggest_loguniform has been deprecated in v3.0.0. This feature will be removed in v6.0.0. See https://github.com/optuna/optuna/releases/tag/v3.0.0. Use suggest_float(..., log=True) instead.\n",
      "  \"l2_leaf_reg\": trial.suggest_loguniform(\"l2_leaf_reg\", 0.1, 10.0),\n"
     ]
    },
    {
     "name": "stdout",
     "output_type": "stream",
     "text": [
      "[I 2023-12-19 13:06:23,507] Trial 217 finished with value: 0.6623376623376623 and parameters: {'iterations': 198, 'learning_rate': 0.0009518313871690412, 'depth': 6, 'l2_leaf_reg': 3.186033595359469}. Best is trial 129 with value: 0.7038961038961039.\n"
     ]
    },
    {
     "name": "stderr",
     "output_type": "stream",
     "text": [
      "C:\\Users\\joanp\\AppData\\Local\\Temp\\ipykernel_25508\\1214387694.py:14: FutureWarning: suggest_loguniform has been deprecated in v3.0.0. This feature will be removed in v6.0.0. See https://github.com/optuna/optuna/releases/tag/v3.0.0. Use suggest_float(..., log=True) instead.\n",
      "  \"learning_rate\": trial.suggest_loguniform(\"learning_rate\", 0.0001, 0.1),\n",
      "C:\\Users\\joanp\\AppData\\Local\\Temp\\ipykernel_25508\\1214387694.py:16: FutureWarning: suggest_loguniform has been deprecated in v3.0.0. This feature will be removed in v6.0.0. See https://github.com/optuna/optuna/releases/tag/v3.0.0. Use suggest_float(..., log=True) instead.\n",
      "  \"l2_leaf_reg\": trial.suggest_loguniform(\"l2_leaf_reg\", 0.1, 10.0),\n"
     ]
    },
    {
     "name": "stdout",
     "output_type": "stream",
     "text": [
      "[I 2023-12-19 13:06:25,582] Trial 218 finished with value: 0.6831168831168831 and parameters: {'iterations': 252, 'learning_rate': 0.0008604196897868537, 'depth': 5, 'l2_leaf_reg': 0.5527203639878894}. Best is trial 129 with value: 0.7038961038961039.\n"
     ]
    },
    {
     "name": "stderr",
     "output_type": "stream",
     "text": [
      "C:\\Users\\joanp\\AppData\\Local\\Temp\\ipykernel_25508\\1214387694.py:14: FutureWarning: suggest_loguniform has been deprecated in v3.0.0. This feature will be removed in v6.0.0. See https://github.com/optuna/optuna/releases/tag/v3.0.0. Use suggest_float(..., log=True) instead.\n",
      "  \"learning_rate\": trial.suggest_loguniform(\"learning_rate\", 0.0001, 0.1),\n",
      "C:\\Users\\joanp\\AppData\\Local\\Temp\\ipykernel_25508\\1214387694.py:16: FutureWarning: suggest_loguniform has been deprecated in v3.0.0. This feature will be removed in v6.0.0. See https://github.com/optuna/optuna/releases/tag/v3.0.0. Use suggest_float(..., log=True) instead.\n",
      "  \"l2_leaf_reg\": trial.suggest_loguniform(\"l2_leaf_reg\", 0.1, 10.0),\n"
     ]
    },
    {
     "name": "stdout",
     "output_type": "stream",
     "text": [
      "[I 2023-12-19 13:06:28,371] Trial 219 finished with value: 0.6909090909090909 and parameters: {'iterations': 294, 'learning_rate': 0.0010227748884882228, 'depth': 6, 'l2_leaf_reg': 0.38173178324605633}. Best is trial 129 with value: 0.7038961038961039.\n"
     ]
    },
    {
     "name": "stderr",
     "output_type": "stream",
     "text": [
      "C:\\Users\\joanp\\AppData\\Local\\Temp\\ipykernel_25508\\1214387694.py:14: FutureWarning: suggest_loguniform has been deprecated in v3.0.0. This feature will be removed in v6.0.0. See https://github.com/optuna/optuna/releases/tag/v3.0.0. Use suggest_float(..., log=True) instead.\n",
      "  \"learning_rate\": trial.suggest_loguniform(\"learning_rate\", 0.0001, 0.1),\n",
      "C:\\Users\\joanp\\AppData\\Local\\Temp\\ipykernel_25508\\1214387694.py:16: FutureWarning: suggest_loguniform has been deprecated in v3.0.0. This feature will be removed in v6.0.0. See https://github.com/optuna/optuna/releases/tag/v3.0.0. Use suggest_float(..., log=True) instead.\n",
      "  \"l2_leaf_reg\": trial.suggest_loguniform(\"l2_leaf_reg\", 0.1, 10.0),\n"
     ]
    },
    {
     "name": "stdout",
     "output_type": "stream",
     "text": [
      "[I 2023-12-19 13:06:30,471] Trial 220 finished with value: 0.6935064935064935 and parameters: {'iterations': 228, 'learning_rate': 0.001024748747625788, 'depth': 6, 'l2_leaf_reg': 1.686436801788448}. Best is trial 129 with value: 0.7038961038961039.\n"
     ]
    },
    {
     "name": "stderr",
     "output_type": "stream",
     "text": [
      "C:\\Users\\joanp\\AppData\\Local\\Temp\\ipykernel_25508\\1214387694.py:14: FutureWarning: suggest_loguniform has been deprecated in v3.0.0. This feature will be removed in v6.0.0. See https://github.com/optuna/optuna/releases/tag/v3.0.0. Use suggest_float(..., log=True) instead.\n",
      "  \"learning_rate\": trial.suggest_loguniform(\"learning_rate\", 0.0001, 0.1),\n",
      "C:\\Users\\joanp\\AppData\\Local\\Temp\\ipykernel_25508\\1214387694.py:16: FutureWarning: suggest_loguniform has been deprecated in v3.0.0. This feature will be removed in v6.0.0. See https://github.com/optuna/optuna/releases/tag/v3.0.0. Use suggest_float(..., log=True) instead.\n",
      "  \"l2_leaf_reg\": trial.suggest_loguniform(\"l2_leaf_reg\", 0.1, 10.0),\n"
     ]
    },
    {
     "name": "stdout",
     "output_type": "stream",
     "text": [
      "[I 2023-12-19 13:06:32,474] Trial 221 finished with value: 0.6909090909090909 and parameters: {'iterations': 209, 'learning_rate': 0.0024837341909503758, 'depth': 6, 'l2_leaf_reg': 0.10776588885652977}. Best is trial 129 with value: 0.7038961038961039.\n"
     ]
    },
    {
     "name": "stderr",
     "output_type": "stream",
     "text": [
      "C:\\Users\\joanp\\AppData\\Local\\Temp\\ipykernel_25508\\1214387694.py:14: FutureWarning: suggest_loguniform has been deprecated in v3.0.0. This feature will be removed in v6.0.0. See https://github.com/optuna/optuna/releases/tag/v3.0.0. Use suggest_float(..., log=True) instead.\n",
      "  \"learning_rate\": trial.suggest_loguniform(\"learning_rate\", 0.0001, 0.1),\n",
      "C:\\Users\\joanp\\AppData\\Local\\Temp\\ipykernel_25508\\1214387694.py:16: FutureWarning: suggest_loguniform has been deprecated in v3.0.0. This feature will be removed in v6.0.0. See https://github.com/optuna/optuna/releases/tag/v3.0.0. Use suggest_float(..., log=True) instead.\n",
      "  \"l2_leaf_reg\": trial.suggest_loguniform(\"l2_leaf_reg\", 0.1, 10.0),\n"
     ]
    },
    {
     "name": "stdout",
     "output_type": "stream",
     "text": [
      "[I 2023-12-19 13:06:33,618] Trial 222 finished with value: 0.6779220779220779 and parameters: {'iterations': 198, 'learning_rate': 0.0003405560925478969, 'depth': 6, 'l2_leaf_reg': 0.233515420195456}. Best is trial 129 with value: 0.7038961038961039.\n"
     ]
    },
    {
     "name": "stderr",
     "output_type": "stream",
     "text": [
      "C:\\Users\\joanp\\AppData\\Local\\Temp\\ipykernel_25508\\1214387694.py:14: FutureWarning: suggest_loguniform has been deprecated in v3.0.0. This feature will be removed in v6.0.0. See https://github.com/optuna/optuna/releases/tag/v3.0.0. Use suggest_float(..., log=True) instead.\n",
      "  \"learning_rate\": trial.suggest_loguniform(\"learning_rate\", 0.0001, 0.1),\n",
      "C:\\Users\\joanp\\AppData\\Local\\Temp\\ipykernel_25508\\1214387694.py:16: FutureWarning: suggest_loguniform has been deprecated in v3.0.0. This feature will be removed in v6.0.0. See https://github.com/optuna/optuna/releases/tag/v3.0.0. Use suggest_float(..., log=True) instead.\n",
      "  \"l2_leaf_reg\": trial.suggest_loguniform(\"l2_leaf_reg\", 0.1, 10.0),\n"
     ]
    },
    {
     "name": "stdout",
     "output_type": "stream",
     "text": [
      "[I 2023-12-19 13:06:35,749] Trial 223 finished with value: 0.6831168831168831 and parameters: {'iterations': 238, 'learning_rate': 0.00010864090113231233, 'depth': 6, 'l2_leaf_reg': 0.6506996106108952}. Best is trial 129 with value: 0.7038961038961039.\n"
     ]
    },
    {
     "name": "stderr",
     "output_type": "stream",
     "text": [
      "C:\\Users\\joanp\\AppData\\Local\\Temp\\ipykernel_25508\\1214387694.py:14: FutureWarning: suggest_loguniform has been deprecated in v3.0.0. This feature will be removed in v6.0.0. See https://github.com/optuna/optuna/releases/tag/v3.0.0. Use suggest_float(..., log=True) instead.\n",
      "  \"learning_rate\": trial.suggest_loguniform(\"learning_rate\", 0.0001, 0.1),\n",
      "C:\\Users\\joanp\\AppData\\Local\\Temp\\ipykernel_25508\\1214387694.py:16: FutureWarning: suggest_loguniform has been deprecated in v3.0.0. This feature will be removed in v6.0.0. See https://github.com/optuna/optuna/releases/tag/v3.0.0. Use suggest_float(..., log=True) instead.\n",
      "  \"l2_leaf_reg\": trial.suggest_loguniform(\"l2_leaf_reg\", 0.1, 10.0),\n"
     ]
    },
    {
     "name": "stdout",
     "output_type": "stream",
     "text": [
      "[I 2023-12-19 13:06:37,756] Trial 224 finished with value: 0.6909090909090909 and parameters: {'iterations': 215, 'learning_rate': 0.002698966884004997, 'depth': 6, 'l2_leaf_reg': 0.879719246019908}. Best is trial 129 with value: 0.7038961038961039.\n"
     ]
    },
    {
     "name": "stderr",
     "output_type": "stream",
     "text": [
      "C:\\Users\\joanp\\AppData\\Local\\Temp\\ipykernel_25508\\1214387694.py:14: FutureWarning: suggest_loguniform has been deprecated in v3.0.0. This feature will be removed in v6.0.0. See https://github.com/optuna/optuna/releases/tag/v3.0.0. Use suggest_float(..., log=True) instead.\n",
      "  \"learning_rate\": trial.suggest_loguniform(\"learning_rate\", 0.0001, 0.1),\n",
      "C:\\Users\\joanp\\AppData\\Local\\Temp\\ipykernel_25508\\1214387694.py:16: FutureWarning: suggest_loguniform has been deprecated in v3.0.0. This feature will be removed in v6.0.0. See https://github.com/optuna/optuna/releases/tag/v3.0.0. Use suggest_float(..., log=True) instead.\n",
      "  \"l2_leaf_reg\": trial.suggest_loguniform(\"l2_leaf_reg\", 0.1, 10.0),\n"
     ]
    },
    {
     "name": "stdout",
     "output_type": "stream",
     "text": [
      "[I 2023-12-19 13:06:38,816] Trial 225 finished with value: 0.6675324675324675 and parameters: {'iterations': 173, 'learning_rate': 0.004424116875439862, 'depth': 6, 'l2_leaf_reg': 0.2689558952932438}. Best is trial 129 with value: 0.7038961038961039.\n"
     ]
    },
    {
     "name": "stderr",
     "output_type": "stream",
     "text": [
      "C:\\Users\\joanp\\AppData\\Local\\Temp\\ipykernel_25508\\1214387694.py:14: FutureWarning: suggest_loguniform has been deprecated in v3.0.0. This feature will be removed in v6.0.0. See https://github.com/optuna/optuna/releases/tag/v3.0.0. Use suggest_float(..., log=True) instead.\n",
      "  \"learning_rate\": trial.suggest_loguniform(\"learning_rate\", 0.0001, 0.1),\n",
      "C:\\Users\\joanp\\AppData\\Local\\Temp\\ipykernel_25508\\1214387694.py:16: FutureWarning: suggest_loguniform has been deprecated in v3.0.0. This feature will be removed in v6.0.0. See https://github.com/optuna/optuna/releases/tag/v3.0.0. Use suggest_float(..., log=True) instead.\n",
      "  \"l2_leaf_reg\": trial.suggest_loguniform(\"l2_leaf_reg\", 0.1, 10.0),\n"
     ]
    },
    {
     "name": "stdout",
     "output_type": "stream",
     "text": [
      "[I 2023-12-19 13:06:39,980] Trial 226 finished with value: 0.6831168831168831 and parameters: {'iterations': 193, 'learning_rate': 0.0010923847420087516, 'depth': 6, 'l2_leaf_reg': 0.3369551289037864}. Best is trial 129 with value: 0.7038961038961039.\n"
     ]
    },
    {
     "name": "stderr",
     "output_type": "stream",
     "text": [
      "C:\\Users\\joanp\\AppData\\Local\\Temp\\ipykernel_25508\\1214387694.py:14: FutureWarning: suggest_loguniform has been deprecated in v3.0.0. This feature will be removed in v6.0.0. See https://github.com/optuna/optuna/releases/tag/v3.0.0. Use suggest_float(..., log=True) instead.\n",
      "  \"learning_rate\": trial.suggest_loguniform(\"learning_rate\", 0.0001, 0.1),\n",
      "C:\\Users\\joanp\\AppData\\Local\\Temp\\ipykernel_25508\\1214387694.py:16: FutureWarning: suggest_loguniform has been deprecated in v3.0.0. This feature will be removed in v6.0.0. See https://github.com/optuna/optuna/releases/tag/v3.0.0. Use suggest_float(..., log=True) instead.\n",
      "  \"l2_leaf_reg\": trial.suggest_loguniform(\"l2_leaf_reg\", 0.1, 10.0),\n"
     ]
    },
    {
     "name": "stdout",
     "output_type": "stream",
     "text": [
      "[I 2023-12-19 13:06:42,579] Trial 227 finished with value: 0.6961038961038961 and parameters: {'iterations': 270, 'learning_rate': 0.0021897741864289754, 'depth': 6, 'l2_leaf_reg': 0.7810993667558479}. Best is trial 129 with value: 0.7038961038961039.\n"
     ]
    },
    {
     "name": "stderr",
     "output_type": "stream",
     "text": [
      "C:\\Users\\joanp\\AppData\\Local\\Temp\\ipykernel_25508\\1214387694.py:14: FutureWarning: suggest_loguniform has been deprecated in v3.0.0. This feature will be removed in v6.0.0. See https://github.com/optuna/optuna/releases/tag/v3.0.0. Use suggest_float(..., log=True) instead.\n",
      "  \"learning_rate\": trial.suggest_loguniform(\"learning_rate\", 0.0001, 0.1),\n",
      "C:\\Users\\joanp\\AppData\\Local\\Temp\\ipykernel_25508\\1214387694.py:16: FutureWarning: suggest_loguniform has been deprecated in v3.0.0. This feature will be removed in v6.0.0. See https://github.com/optuna/optuna/releases/tag/v3.0.0. Use suggest_float(..., log=True) instead.\n",
      "  \"l2_leaf_reg\": trial.suggest_loguniform(\"l2_leaf_reg\", 0.1, 10.0),\n"
     ]
    },
    {
     "name": "stdout",
     "output_type": "stream",
     "text": [
      "[I 2023-12-19 13:06:45,109] Trial 228 finished with value: 0.6857142857142857 and parameters: {'iterations': 276, 'learning_rate': 0.002141465252450856, 'depth': 6, 'l2_leaf_reg': 0.5238761367690661}. Best is trial 129 with value: 0.7038961038961039.\n"
     ]
    },
    {
     "name": "stderr",
     "output_type": "stream",
     "text": [
      "C:\\Users\\joanp\\AppData\\Local\\Temp\\ipykernel_25508\\1214387694.py:14: FutureWarning: suggest_loguniform has been deprecated in v3.0.0. This feature will be removed in v6.0.0. See https://github.com/optuna/optuna/releases/tag/v3.0.0. Use suggest_float(..., log=True) instead.\n",
      "  \"learning_rate\": trial.suggest_loguniform(\"learning_rate\", 0.0001, 0.1),\n",
      "C:\\Users\\joanp\\AppData\\Local\\Temp\\ipykernel_25508\\1214387694.py:16: FutureWarning: suggest_loguniform has been deprecated in v3.0.0. This feature will be removed in v6.0.0. See https://github.com/optuna/optuna/releases/tag/v3.0.0. Use suggest_float(..., log=True) instead.\n",
      "  \"l2_leaf_reg\": trial.suggest_loguniform(\"l2_leaf_reg\", 0.1, 10.0),\n"
     ]
    },
    {
     "name": "stdout",
     "output_type": "stream",
     "text": [
      "[I 2023-12-19 13:06:47,850] Trial 229 finished with value: 0.6805194805194805 and parameters: {'iterations': 303, 'learning_rate': 0.0030355166045699616, 'depth': 6, 'l2_leaf_reg': 0.7681803680714822}. Best is trial 129 with value: 0.7038961038961039.\n"
     ]
    },
    {
     "name": "stderr",
     "output_type": "stream",
     "text": [
      "C:\\Users\\joanp\\AppData\\Local\\Temp\\ipykernel_25508\\1214387694.py:14: FutureWarning: suggest_loguniform has been deprecated in v3.0.0. This feature will be removed in v6.0.0. See https://github.com/optuna/optuna/releases/tag/v3.0.0. Use suggest_float(..., log=True) instead.\n",
      "  \"learning_rate\": trial.suggest_loguniform(\"learning_rate\", 0.0001, 0.1),\n",
      "C:\\Users\\joanp\\AppData\\Local\\Temp\\ipykernel_25508\\1214387694.py:16: FutureWarning: suggest_loguniform has been deprecated in v3.0.0. This feature will be removed in v6.0.0. See https://github.com/optuna/optuna/releases/tag/v3.0.0. Use suggest_float(..., log=True) instead.\n",
      "  \"l2_leaf_reg\": trial.suggest_loguniform(\"l2_leaf_reg\", 0.1, 10.0),\n"
     ]
    },
    {
     "name": "stdout",
     "output_type": "stream",
     "text": [
      "[I 2023-12-19 13:06:50,222] Trial 230 finished with value: 0.6935064935064935 and parameters: {'iterations': 256, 'learning_rate': 0.0023912007474254974, 'depth': 6, 'l2_leaf_reg': 0.5879022270063352}. Best is trial 129 with value: 0.7038961038961039.\n"
     ]
    },
    {
     "name": "stderr",
     "output_type": "stream",
     "text": [
      "C:\\Users\\joanp\\AppData\\Local\\Temp\\ipykernel_25508\\1214387694.py:14: FutureWarning: suggest_loguniform has been deprecated in v3.0.0. This feature will be removed in v6.0.0. See https://github.com/optuna/optuna/releases/tag/v3.0.0. Use suggest_float(..., log=True) instead.\n",
      "  \"learning_rate\": trial.suggest_loguniform(\"learning_rate\", 0.0001, 0.1),\n",
      "C:\\Users\\joanp\\AppData\\Local\\Temp\\ipykernel_25508\\1214387694.py:16: FutureWarning: suggest_loguniform has been deprecated in v3.0.0. This feature will be removed in v6.0.0. See https://github.com/optuna/optuna/releases/tag/v3.0.0. Use suggest_float(..., log=True) instead.\n",
      "  \"l2_leaf_reg\": trial.suggest_loguniform(\"l2_leaf_reg\", 0.1, 10.0),\n"
     ]
    },
    {
     "name": "stdout",
     "output_type": "stream",
     "text": [
      "[I 2023-12-19 13:06:52,390] Trial 231 finished with value: 0.6987012987012987 and parameters: {'iterations': 231, 'learning_rate': 0.0022557726132791346, 'depth': 6, 'l2_leaf_reg': 5.522749288246714}. Best is trial 129 with value: 0.7038961038961039.\n"
     ]
    },
    {
     "name": "stderr",
     "output_type": "stream",
     "text": [
      "C:\\Users\\joanp\\AppData\\Local\\Temp\\ipykernel_25508\\1214387694.py:14: FutureWarning: suggest_loguniform has been deprecated in v3.0.0. This feature will be removed in v6.0.0. See https://github.com/optuna/optuna/releases/tag/v3.0.0. Use suggest_float(..., log=True) instead.\n",
      "  \"learning_rate\": trial.suggest_loguniform(\"learning_rate\", 0.0001, 0.1),\n",
      "C:\\Users\\joanp\\AppData\\Local\\Temp\\ipykernel_25508\\1214387694.py:16: FutureWarning: suggest_loguniform has been deprecated in v3.0.0. This feature will be removed in v6.0.0. See https://github.com/optuna/optuna/releases/tag/v3.0.0. Use suggest_float(..., log=True) instead.\n",
      "  \"l2_leaf_reg\": trial.suggest_loguniform(\"l2_leaf_reg\", 0.1, 10.0),\n"
     ]
    },
    {
     "name": "stdout",
     "output_type": "stream",
     "text": [
      "[I 2023-12-19 13:06:54,632] Trial 232 finished with value: 0.6987012987012987 and parameters: {'iterations': 239, 'learning_rate': 0.002420843201618682, 'depth': 6, 'l2_leaf_reg': 5.22603132181293}. Best is trial 129 with value: 0.7038961038961039.\n"
     ]
    },
    {
     "name": "stderr",
     "output_type": "stream",
     "text": [
      "C:\\Users\\joanp\\AppData\\Local\\Temp\\ipykernel_25508\\1214387694.py:14: FutureWarning: suggest_loguniform has been deprecated in v3.0.0. This feature will be removed in v6.0.0. See https://github.com/optuna/optuna/releases/tag/v3.0.0. Use suggest_float(..., log=True) instead.\n",
      "  \"learning_rate\": trial.suggest_loguniform(\"learning_rate\", 0.0001, 0.1),\n",
      "C:\\Users\\joanp\\AppData\\Local\\Temp\\ipykernel_25508\\1214387694.py:16: FutureWarning: suggest_loguniform has been deprecated in v3.0.0. This feature will be removed in v6.0.0. See https://github.com/optuna/optuna/releases/tag/v3.0.0. Use suggest_float(..., log=True) instead.\n",
      "  \"l2_leaf_reg\": trial.suggest_loguniform(\"l2_leaf_reg\", 0.1, 10.0),\n"
     ]
    },
    {
     "name": "stdout",
     "output_type": "stream",
     "text": [
      "[I 2023-12-19 13:06:56,935] Trial 233 finished with value: 0.6753246753246753 and parameters: {'iterations': 243, 'learning_rate': 0.0035183294794481636, 'depth': 6, 'l2_leaf_reg': 5.746014136072656}. Best is trial 129 with value: 0.7038961038961039.\n"
     ]
    },
    {
     "name": "stderr",
     "output_type": "stream",
     "text": [
      "C:\\Users\\joanp\\AppData\\Local\\Temp\\ipykernel_25508\\1214387694.py:14: FutureWarning: suggest_loguniform has been deprecated in v3.0.0. This feature will be removed in v6.0.0. See https://github.com/optuna/optuna/releases/tag/v3.0.0. Use suggest_float(..., log=True) instead.\n",
      "  \"learning_rate\": trial.suggest_loguniform(\"learning_rate\", 0.0001, 0.1),\n",
      "C:\\Users\\joanp\\AppData\\Local\\Temp\\ipykernel_25508\\1214387694.py:16: FutureWarning: suggest_loguniform has been deprecated in v3.0.0. This feature will be removed in v6.0.0. See https://github.com/optuna/optuna/releases/tag/v3.0.0. Use suggest_float(..., log=True) instead.\n",
      "  \"l2_leaf_reg\": trial.suggest_loguniform(\"l2_leaf_reg\", 0.1, 10.0),\n"
     ]
    },
    {
     "name": "stdout",
     "output_type": "stream",
     "text": [
      "[I 2023-12-19 13:06:59,531] Trial 234 finished with value: 0.6805194805194805 and parameters: {'iterations': 265, 'learning_rate': 0.0026780718511548915, 'depth': 6, 'l2_leaf_reg': 5.243874726857667}. Best is trial 129 with value: 0.7038961038961039.\n"
     ]
    },
    {
     "name": "stderr",
     "output_type": "stream",
     "text": [
      "C:\\Users\\joanp\\AppData\\Local\\Temp\\ipykernel_25508\\1214387694.py:14: FutureWarning: suggest_loguniform has been deprecated in v3.0.0. This feature will be removed in v6.0.0. See https://github.com/optuna/optuna/releases/tag/v3.0.0. Use suggest_float(..., log=True) instead.\n",
      "  \"learning_rate\": trial.suggest_loguniform(\"learning_rate\", 0.0001, 0.1),\n",
      "C:\\Users\\joanp\\AppData\\Local\\Temp\\ipykernel_25508\\1214387694.py:16: FutureWarning: suggest_loguniform has been deprecated in v3.0.0. This feature will be removed in v6.0.0. See https://github.com/optuna/optuna/releases/tag/v3.0.0. Use suggest_float(..., log=True) instead.\n",
      "  \"l2_leaf_reg\": trial.suggest_loguniform(\"l2_leaf_reg\", 0.1, 10.0),\n"
     ]
    },
    {
     "name": "stdout",
     "output_type": "stream",
     "text": [
      "[I 2023-12-19 13:07:01,745] Trial 235 finished with value: 0.6233766233766234 and parameters: {'iterations': 239, 'learning_rate': 0.054696712360912426, 'depth': 6, 'l2_leaf_reg': 6.481504990657131}. Best is trial 129 with value: 0.7038961038961039.\n"
     ]
    },
    {
     "name": "stderr",
     "output_type": "stream",
     "text": [
      "C:\\Users\\joanp\\AppData\\Local\\Temp\\ipykernel_25508\\1214387694.py:14: FutureWarning: suggest_loguniform has been deprecated in v3.0.0. This feature will be removed in v6.0.0. See https://github.com/optuna/optuna/releases/tag/v3.0.0. Use suggest_float(..., log=True) instead.\n",
      "  \"learning_rate\": trial.suggest_loguniform(\"learning_rate\", 0.0001, 0.1),\n",
      "C:\\Users\\joanp\\AppData\\Local\\Temp\\ipykernel_25508\\1214387694.py:16: FutureWarning: suggest_loguniform has been deprecated in v3.0.0. This feature will be removed in v6.0.0. See https://github.com/optuna/optuna/releases/tag/v3.0.0. Use suggest_float(..., log=True) instead.\n",
      "  \"l2_leaf_reg\": trial.suggest_loguniform(\"l2_leaf_reg\", 0.1, 10.0),\n"
     ]
    },
    {
     "name": "stdout",
     "output_type": "stream",
     "text": [
      "[I 2023-12-19 13:07:05,218] Trial 236 finished with value: 0.6701298701298701 and parameters: {'iterations': 411, 'learning_rate': 0.002227018285484483, 'depth': 6, 'l2_leaf_reg': 4.443141305209356}. Best is trial 129 with value: 0.7038961038961039.\n"
     ]
    },
    {
     "name": "stderr",
     "output_type": "stream",
     "text": [
      "C:\\Users\\joanp\\AppData\\Local\\Temp\\ipykernel_25508\\1214387694.py:14: FutureWarning: suggest_loguniform has been deprecated in v3.0.0. This feature will be removed in v6.0.0. See https://github.com/optuna/optuna/releases/tag/v3.0.0. Use suggest_float(..., log=True) instead.\n",
      "  \"learning_rate\": trial.suggest_loguniform(\"learning_rate\", 0.0001, 0.1),\n",
      "C:\\Users\\joanp\\AppData\\Local\\Temp\\ipykernel_25508\\1214387694.py:16: FutureWarning: suggest_loguniform has been deprecated in v3.0.0. This feature will be removed in v6.0.0. See https://github.com/optuna/optuna/releases/tag/v3.0.0. Use suggest_float(..., log=True) instead.\n",
      "  \"l2_leaf_reg\": trial.suggest_loguniform(\"l2_leaf_reg\", 0.1, 10.0),\n"
     ]
    },
    {
     "name": "stdout",
     "output_type": "stream",
     "text": [
      "[I 2023-12-19 13:07:08,204] Trial 237 finished with value: 0.6831168831168831 and parameters: {'iterations': 283, 'learning_rate': 0.002909302710652799, 'depth': 7, 'l2_leaf_reg': 8.032161677555866}. Best is trial 129 with value: 0.7038961038961039.\n"
     ]
    },
    {
     "name": "stderr",
     "output_type": "stream",
     "text": [
      "C:\\Users\\joanp\\AppData\\Local\\Temp\\ipykernel_25508\\1214387694.py:14: FutureWarning: suggest_loguniform has been deprecated in v3.0.0. This feature will be removed in v6.0.0. See https://github.com/optuna/optuna/releases/tag/v3.0.0. Use suggest_float(..., log=True) instead.\n",
      "  \"learning_rate\": trial.suggest_loguniform(\"learning_rate\", 0.0001, 0.1),\n",
      "C:\\Users\\joanp\\AppData\\Local\\Temp\\ipykernel_25508\\1214387694.py:16: FutureWarning: suggest_loguniform has been deprecated in v3.0.0. This feature will be removed in v6.0.0. See https://github.com/optuna/optuna/releases/tag/v3.0.0. Use suggest_float(..., log=True) instead.\n",
      "  \"l2_leaf_reg\": trial.suggest_loguniform(\"l2_leaf_reg\", 0.1, 10.0),\n"
     ]
    },
    {
     "name": "stdout",
     "output_type": "stream",
     "text": [
      "[I 2023-12-19 13:07:10,380] Trial 238 finished with value: 0.6935064935064935 and parameters: {'iterations': 226, 'learning_rate': 0.0024293912201718616, 'depth': 6, 'l2_leaf_reg': 5.804056485997227}. Best is trial 129 with value: 0.7038961038961039.\n"
     ]
    },
    {
     "name": "stderr",
     "output_type": "stream",
     "text": [
      "C:\\Users\\joanp\\AppData\\Local\\Temp\\ipykernel_25508\\1214387694.py:14: FutureWarning: suggest_loguniform has been deprecated in v3.0.0. This feature will be removed in v6.0.0. See https://github.com/optuna/optuna/releases/tag/v3.0.0. Use suggest_float(..., log=True) instead.\n",
      "  \"learning_rate\": trial.suggest_loguniform(\"learning_rate\", 0.0001, 0.1),\n",
      "C:\\Users\\joanp\\AppData\\Local\\Temp\\ipykernel_25508\\1214387694.py:16: FutureWarning: suggest_loguniform has been deprecated in v3.0.0. This feature will be removed in v6.0.0. See https://github.com/optuna/optuna/releases/tag/v3.0.0. Use suggest_float(..., log=True) instead.\n",
      "  \"l2_leaf_reg\": trial.suggest_loguniform(\"l2_leaf_reg\", 0.1, 10.0),\n"
     ]
    },
    {
     "name": "stdout",
     "output_type": "stream",
     "text": [
      "[I 2023-12-19 13:07:13,143] Trial 239 finished with value: 0.6987012987012987 and parameters: {'iterations': 263, 'learning_rate': 0.0011156798423999001, 'depth': 7, 'l2_leaf_reg': 5.138905918202546}. Best is trial 129 with value: 0.7038961038961039.\n"
     ]
    },
    {
     "name": "stderr",
     "output_type": "stream",
     "text": [
      "C:\\Users\\joanp\\AppData\\Local\\Temp\\ipykernel_25508\\1214387694.py:14: FutureWarning: suggest_loguniform has been deprecated in v3.0.0. This feature will be removed in v6.0.0. See https://github.com/optuna/optuna/releases/tag/v3.0.0. Use suggest_float(..., log=True) instead.\n",
      "  \"learning_rate\": trial.suggest_loguniform(\"learning_rate\", 0.0001, 0.1),\n",
      "C:\\Users\\joanp\\AppData\\Local\\Temp\\ipykernel_25508\\1214387694.py:16: FutureWarning: suggest_loguniform has been deprecated in v3.0.0. This feature will be removed in v6.0.0. See https://github.com/optuna/optuna/releases/tag/v3.0.0. Use suggest_float(..., log=True) instead.\n",
      "  \"l2_leaf_reg\": trial.suggest_loguniform(\"l2_leaf_reg\", 0.1, 10.0),\n"
     ]
    },
    {
     "name": "stdout",
     "output_type": "stream",
     "text": [
      "[I 2023-12-19 13:07:17,875] Trial 240 finished with value: 0.6883116883116883 and parameters: {'iterations': 437, 'learning_rate': 0.0009138786725135164, 'depth': 7, 'l2_leaf_reg': 4.943195609361569}. Best is trial 129 with value: 0.7038961038961039.\n"
     ]
    },
    {
     "name": "stderr",
     "output_type": "stream",
     "text": [
      "C:\\Users\\joanp\\AppData\\Local\\Temp\\ipykernel_25508\\1214387694.py:14: FutureWarning: suggest_loguniform has been deprecated in v3.0.0. This feature will be removed in v6.0.0. See https://github.com/optuna/optuna/releases/tag/v3.0.0. Use suggest_float(..., log=True) instead.\n",
      "  \"learning_rate\": trial.suggest_loguniform(\"learning_rate\", 0.0001, 0.1),\n",
      "C:\\Users\\joanp\\AppData\\Local\\Temp\\ipykernel_25508\\1214387694.py:16: FutureWarning: suggest_loguniform has been deprecated in v3.0.0. This feature will be removed in v6.0.0. See https://github.com/optuna/optuna/releases/tag/v3.0.0. Use suggest_float(..., log=True) instead.\n",
      "  \"l2_leaf_reg\": trial.suggest_loguniform(\"l2_leaf_reg\", 0.1, 10.0),\n"
     ]
    },
    {
     "name": "stdout",
     "output_type": "stream",
     "text": [
      "[I 2023-12-19 13:07:20,775] Trial 241 finished with value: 0.6883116883116883 and parameters: {'iterations': 256, 'learning_rate': 0.0011435566492739428, 'depth': 7, 'l2_leaf_reg': 9.87384734428736}. Best is trial 129 with value: 0.7038961038961039.\n"
     ]
    },
    {
     "name": "stderr",
     "output_type": "stream",
     "text": [
      "C:\\Users\\joanp\\AppData\\Local\\Temp\\ipykernel_25508\\1214387694.py:14: FutureWarning: suggest_loguniform has been deprecated in v3.0.0. This feature will be removed in v6.0.0. See https://github.com/optuna/optuna/releases/tag/v3.0.0. Use suggest_float(..., log=True) instead.\n",
      "  \"learning_rate\": trial.suggest_loguniform(\"learning_rate\", 0.0001, 0.1),\n",
      "C:\\Users\\joanp\\AppData\\Local\\Temp\\ipykernel_25508\\1214387694.py:16: FutureWarning: suggest_loguniform has been deprecated in v3.0.0. This feature will be removed in v6.0.0. See https://github.com/optuna/optuna/releases/tag/v3.0.0. Use suggest_float(..., log=True) instead.\n",
      "  \"l2_leaf_reg\": trial.suggest_loguniform(\"l2_leaf_reg\", 0.1, 10.0),\n"
     ]
    },
    {
     "name": "stdout",
     "output_type": "stream",
     "text": [
      "[I 2023-12-19 13:07:23,821] Trial 242 finished with value: 0.6935064935064935 and parameters: {'iterations': 272, 'learning_rate': 0.0019272298245490973, 'depth': 7, 'l2_leaf_reg': 5.145067562965598}. Best is trial 129 with value: 0.7038961038961039.\n"
     ]
    },
    {
     "name": "stderr",
     "output_type": "stream",
     "text": [
      "C:\\Users\\joanp\\AppData\\Local\\Temp\\ipykernel_25508\\1214387694.py:14: FutureWarning: suggest_loguniform has been deprecated in v3.0.0. This feature will be removed in v6.0.0. See https://github.com/optuna/optuna/releases/tag/v3.0.0. Use suggest_float(..., log=True) instead.\n",
      "  \"learning_rate\": trial.suggest_loguniform(\"learning_rate\", 0.0001, 0.1),\n",
      "C:\\Users\\joanp\\AppData\\Local\\Temp\\ipykernel_25508\\1214387694.py:16: FutureWarning: suggest_loguniform has been deprecated in v3.0.0. This feature will be removed in v6.0.0. See https://github.com/optuna/optuna/releases/tag/v3.0.0. Use suggest_float(..., log=True) instead.\n",
      "  \"l2_leaf_reg\": trial.suggest_loguniform(\"l2_leaf_reg\", 0.1, 10.0),\n"
     ]
    },
    {
     "name": "stdout",
     "output_type": "stream",
     "text": [
      "[I 2023-12-19 13:07:26,748] Trial 243 finished with value: 0.6935064935064935 and parameters: {'iterations': 248, 'learning_rate': 0.0010864155438789446, 'depth': 7, 'l2_leaf_reg': 4.2973305940310995}. Best is trial 129 with value: 0.7038961038961039.\n"
     ]
    },
    {
     "name": "stderr",
     "output_type": "stream",
     "text": [
      "C:\\Users\\joanp\\AppData\\Local\\Temp\\ipykernel_25508\\1214387694.py:14: FutureWarning: suggest_loguniform has been deprecated in v3.0.0. This feature will be removed in v6.0.0. See https://github.com/optuna/optuna/releases/tag/v3.0.0. Use suggest_float(..., log=True) instead.\n",
      "  \"learning_rate\": trial.suggest_loguniform(\"learning_rate\", 0.0001, 0.1),\n",
      "C:\\Users\\joanp\\AppData\\Local\\Temp\\ipykernel_25508\\1214387694.py:16: FutureWarning: suggest_loguniform has been deprecated in v3.0.0. This feature will be removed in v6.0.0. See https://github.com/optuna/optuna/releases/tag/v3.0.0. Use suggest_float(..., log=True) instead.\n",
      "  \"l2_leaf_reg\": trial.suggest_loguniform(\"l2_leaf_reg\", 0.1, 10.0),\n"
     ]
    },
    {
     "name": "stdout",
     "output_type": "stream",
     "text": [
      "[I 2023-12-19 13:07:30,437] Trial 244 finished with value: 0.6883116883116883 and parameters: {'iterations': 318, 'learning_rate': 0.0012790235977998383, 'depth': 7, 'l2_leaf_reg': 4.806566317124431}. Best is trial 129 with value: 0.7038961038961039.\n"
     ]
    },
    {
     "name": "stderr",
     "output_type": "stream",
     "text": [
      "C:\\Users\\joanp\\AppData\\Local\\Temp\\ipykernel_25508\\1214387694.py:14: FutureWarning: suggest_loguniform has been deprecated in v3.0.0. This feature will be removed in v6.0.0. See https://github.com/optuna/optuna/releases/tag/v3.0.0. Use suggest_float(..., log=True) instead.\n",
      "  \"learning_rate\": trial.suggest_loguniform(\"learning_rate\", 0.0001, 0.1),\n",
      "C:\\Users\\joanp\\AppData\\Local\\Temp\\ipykernel_25508\\1214387694.py:16: FutureWarning: suggest_loguniform has been deprecated in v3.0.0. This feature will be removed in v6.0.0. See https://github.com/optuna/optuna/releases/tag/v3.0.0. Use suggest_float(..., log=True) instead.\n",
      "  \"l2_leaf_reg\": trial.suggest_loguniform(\"l2_leaf_reg\", 0.1, 10.0),\n"
     ]
    },
    {
     "name": "stdout",
     "output_type": "stream",
     "text": [
      "[I 2023-12-19 13:07:32,912] Trial 245 finished with value: 0.6831168831168831 and parameters: {'iterations': 218, 'learning_rate': 0.0009613581872941049, 'depth': 6, 'l2_leaf_reg': 5.69616984536039}. Best is trial 129 with value: 0.7038961038961039.\n"
     ]
    },
    {
     "name": "stderr",
     "output_type": "stream",
     "text": [
      "C:\\Users\\joanp\\AppData\\Local\\Temp\\ipykernel_25508\\1214387694.py:14: FutureWarning: suggest_loguniform has been deprecated in v3.0.0. This feature will be removed in v6.0.0. See https://github.com/optuna/optuna/releases/tag/v3.0.0. Use suggest_float(..., log=True) instead.\n",
      "  \"learning_rate\": trial.suggest_loguniform(\"learning_rate\", 0.0001, 0.1),\n",
      "C:\\Users\\joanp\\AppData\\Local\\Temp\\ipykernel_25508\\1214387694.py:16: FutureWarning: suggest_loguniform has been deprecated in v3.0.0. This feature will be removed in v6.0.0. See https://github.com/optuna/optuna/releases/tag/v3.0.0. Use suggest_float(..., log=True) instead.\n",
      "  \"l2_leaf_reg\": trial.suggest_loguniform(\"l2_leaf_reg\", 0.1, 10.0),\n"
     ]
    },
    {
     "name": "stdout",
     "output_type": "stream",
     "text": [
      "[I 2023-12-19 13:07:35,906] Trial 246 finished with value: 0.6883116883116883 and parameters: {'iterations': 239, 'learning_rate': 0.0018442845452709348, 'depth': 7, 'l2_leaf_reg': 5.486354557389008}. Best is trial 129 with value: 0.7038961038961039.\n"
     ]
    },
    {
     "name": "stderr",
     "output_type": "stream",
     "text": [
      "C:\\Users\\joanp\\AppData\\Local\\Temp\\ipykernel_25508\\1214387694.py:14: FutureWarning: suggest_loguniform has been deprecated in v3.0.0. This feature will be removed in v6.0.0. See https://github.com/optuna/optuna/releases/tag/v3.0.0. Use suggest_float(..., log=True) instead.\n",
      "  \"learning_rate\": trial.suggest_loguniform(\"learning_rate\", 0.0001, 0.1),\n",
      "C:\\Users\\joanp\\AppData\\Local\\Temp\\ipykernel_25508\\1214387694.py:16: FutureWarning: suggest_loguniform has been deprecated in v3.0.0. This feature will be removed in v6.0.0. See https://github.com/optuna/optuna/releases/tag/v3.0.0. Use suggest_float(..., log=True) instead.\n",
      "  \"l2_leaf_reg\": trial.suggest_loguniform(\"l2_leaf_reg\", 0.1, 10.0),\n"
     ]
    },
    {
     "name": "stdout",
     "output_type": "stream",
     "text": [
      "[I 2023-12-19 13:07:39,082] Trial 247 finished with value: 0.6753246753246753 and parameters: {'iterations': 292, 'learning_rate': 0.0008018982836087304, 'depth': 6, 'l2_leaf_reg': 0.6726846860275829}. Best is trial 129 with value: 0.7038961038961039.\n"
     ]
    },
    {
     "name": "stderr",
     "output_type": "stream",
     "text": [
      "C:\\Users\\joanp\\AppData\\Local\\Temp\\ipykernel_25508\\1214387694.py:14: FutureWarning: suggest_loguniform has been deprecated in v3.0.0. This feature will be removed in v6.0.0. See https://github.com/optuna/optuna/releases/tag/v3.0.0. Use suggest_float(..., log=True) instead.\n",
      "  \"learning_rate\": trial.suggest_loguniform(\"learning_rate\", 0.0001, 0.1),\n",
      "C:\\Users\\joanp\\AppData\\Local\\Temp\\ipykernel_25508\\1214387694.py:16: FutureWarning: suggest_loguniform has been deprecated in v3.0.0. This feature will be removed in v6.0.0. See https://github.com/optuna/optuna/releases/tag/v3.0.0. Use suggest_float(..., log=True) instead.\n",
      "  \"l2_leaf_reg\": trial.suggest_loguniform(\"l2_leaf_reg\", 0.1, 10.0),\n"
     ]
    },
    {
     "name": "stdout",
     "output_type": "stream",
     "text": [
      "[I 2023-12-19 13:07:41,886] Trial 248 finished with value: 0.6883116883116883 and parameters: {'iterations': 213, 'learning_rate': 0.001185127774700993, 'depth': 7, 'l2_leaf_reg': 5.017509712230428}. Best is trial 129 with value: 0.7038961038961039.\n"
     ]
    },
    {
     "name": "stderr",
     "output_type": "stream",
     "text": [
      "C:\\Users\\joanp\\AppData\\Local\\Temp\\ipykernel_25508\\1214387694.py:14: FutureWarning: suggest_loguniform has been deprecated in v3.0.0. This feature will be removed in v6.0.0. See https://github.com/optuna/optuna/releases/tag/v3.0.0. Use suggest_float(..., log=True) instead.\n",
      "  \"learning_rate\": trial.suggest_loguniform(\"learning_rate\", 0.0001, 0.1),\n",
      "C:\\Users\\joanp\\AppData\\Local\\Temp\\ipykernel_25508\\1214387694.py:16: FutureWarning: suggest_loguniform has been deprecated in v3.0.0. This feature will be removed in v6.0.0. See https://github.com/optuna/optuna/releases/tag/v3.0.0. Use suggest_float(..., log=True) instead.\n",
      "  \"l2_leaf_reg\": trial.suggest_loguniform(\"l2_leaf_reg\", 0.1, 10.0),\n"
     ]
    },
    {
     "name": "stdout",
     "output_type": "stream",
     "text": [
      "[I 2023-12-19 13:07:44,791] Trial 249 finished with value: 0.6883116883116883 and parameters: {'iterations': 263, 'learning_rate': 0.0021102013924247597, 'depth': 6, 'l2_leaf_reg': 4.494703734441737}. Best is trial 129 with value: 0.7038961038961039.\n"
     ]
    },
    {
     "name": "stderr",
     "output_type": "stream",
     "text": [
      "C:\\Users\\joanp\\AppData\\Local\\Temp\\ipykernel_25508\\1214387694.py:14: FutureWarning: suggest_loguniform has been deprecated in v3.0.0. This feature will be removed in v6.0.0. See https://github.com/optuna/optuna/releases/tag/v3.0.0. Use suggest_float(..., log=True) instead.\n",
      "  \"learning_rate\": trial.suggest_loguniform(\"learning_rate\", 0.0001, 0.1),\n",
      "C:\\Users\\joanp\\AppData\\Local\\Temp\\ipykernel_25508\\1214387694.py:16: FutureWarning: suggest_loguniform has been deprecated in v3.0.0. This feature will be removed in v6.0.0. See https://github.com/optuna/optuna/releases/tag/v3.0.0. Use suggest_float(..., log=True) instead.\n",
      "  \"l2_leaf_reg\": trial.suggest_loguniform(\"l2_leaf_reg\", 0.1, 10.0),\n"
     ]
    },
    {
     "name": "stdout",
     "output_type": "stream",
     "text": [
      "[I 2023-12-19 13:07:47,966] Trial 250 finished with value: 0.6805194805194805 and parameters: {'iterations': 230, 'learning_rate': 0.0035565427235347185, 'depth': 7, 'l2_leaf_reg': 4.105708535008882}. Best is trial 129 with value: 0.7038961038961039.\n"
     ]
    },
    {
     "name": "stderr",
     "output_type": "stream",
     "text": [
      "C:\\Users\\joanp\\AppData\\Local\\Temp\\ipykernel_25508\\1214387694.py:14: FutureWarning: suggest_loguniform has been deprecated in v3.0.0. This feature will be removed in v6.0.0. See https://github.com/optuna/optuna/releases/tag/v3.0.0. Use suggest_float(..., log=True) instead.\n",
      "  \"learning_rate\": trial.suggest_loguniform(\"learning_rate\", 0.0001, 0.1),\n",
      "C:\\Users\\joanp\\AppData\\Local\\Temp\\ipykernel_25508\\1214387694.py:16: FutureWarning: suggest_loguniform has been deprecated in v3.0.0. This feature will be removed in v6.0.0. See https://github.com/optuna/optuna/releases/tag/v3.0.0. Use suggest_float(..., log=True) instead.\n",
      "  \"l2_leaf_reg\": trial.suggest_loguniform(\"l2_leaf_reg\", 0.1, 10.0),\n"
     ]
    },
    {
     "name": "stdout",
     "output_type": "stream",
     "text": [
      "[I 2023-12-19 13:07:50,778] Trial 251 finished with value: 0.6909090909090909 and parameters: {'iterations': 250, 'learning_rate': 0.0017450744224723539, 'depth': 6, 'l2_leaf_reg': 6.230757909409772}. Best is trial 129 with value: 0.7038961038961039.\n"
     ]
    },
    {
     "name": "stderr",
     "output_type": "stream",
     "text": [
      "C:\\Users\\joanp\\AppData\\Local\\Temp\\ipykernel_25508\\1214387694.py:14: FutureWarning: suggest_loguniform has been deprecated in v3.0.0. This feature will be removed in v6.0.0. See https://github.com/optuna/optuna/releases/tag/v3.0.0. Use suggest_float(..., log=True) instead.\n",
      "  \"learning_rate\": trial.suggest_loguniform(\"learning_rate\", 0.0001, 0.1),\n",
      "C:\\Users\\joanp\\AppData\\Local\\Temp\\ipykernel_25508\\1214387694.py:16: FutureWarning: suggest_loguniform has been deprecated in v3.0.0. This feature will be removed in v6.0.0. See https://github.com/optuna/optuna/releases/tag/v3.0.0. Use suggest_float(..., log=True) instead.\n",
      "  \"l2_leaf_reg\": trial.suggest_loguniform(\"l2_leaf_reg\", 0.1, 10.0),\n"
     ]
    },
    {
     "name": "stdout",
     "output_type": "stream",
     "text": [
      "[I 2023-12-19 13:07:53,528] Trial 252 finished with value: 0.6857142857142857 and parameters: {'iterations': 207, 'learning_rate': 0.002359277038316353, 'depth': 7, 'l2_leaf_reg': 4.931961386688267}. Best is trial 129 with value: 0.7038961038961039.\n"
     ]
    },
    {
     "name": "stderr",
     "output_type": "stream",
     "text": [
      "C:\\Users\\joanp\\AppData\\Local\\Temp\\ipykernel_25508\\1214387694.py:14: FutureWarning: suggest_loguniform has been deprecated in v3.0.0. This feature will be removed in v6.0.0. See https://github.com/optuna/optuna/releases/tag/v3.0.0. Use suggest_float(..., log=True) instead.\n",
      "  \"learning_rate\": trial.suggest_loguniform(\"learning_rate\", 0.0001, 0.1),\n",
      "C:\\Users\\joanp\\AppData\\Local\\Temp\\ipykernel_25508\\1214387694.py:16: FutureWarning: suggest_loguniform has been deprecated in v3.0.0. This feature will be removed in v6.0.0. See https://github.com/optuna/optuna/releases/tag/v3.0.0. Use suggest_float(..., log=True) instead.\n",
      "  \"l2_leaf_reg\": trial.suggest_loguniform(\"l2_leaf_reg\", 0.1, 10.0),\n"
     ]
    },
    {
     "name": "stdout",
     "output_type": "stream",
     "text": [
      "[I 2023-12-19 13:07:56,582] Trial 253 finished with value: 0.7038961038961039 and parameters: {'iterations': 275, 'learning_rate': 0.0010203975216749287, 'depth': 6, 'l2_leaf_reg': 0.7788873751336318}. Best is trial 129 with value: 0.7038961038961039.\n"
     ]
    },
    {
     "name": "stderr",
     "output_type": "stream",
     "text": [
      "C:\\Users\\joanp\\AppData\\Local\\Temp\\ipykernel_25508\\1214387694.py:14: FutureWarning: suggest_loguniform has been deprecated in v3.0.0. This feature will be removed in v6.0.0. See https://github.com/optuna/optuna/releases/tag/v3.0.0. Use suggest_float(..., log=True) instead.\n",
      "  \"learning_rate\": trial.suggest_loguniform(\"learning_rate\", 0.0001, 0.1),\n",
      "C:\\Users\\joanp\\AppData\\Local\\Temp\\ipykernel_25508\\1214387694.py:16: FutureWarning: suggest_loguniform has been deprecated in v3.0.0. This feature will be removed in v6.0.0. See https://github.com/optuna/optuna/releases/tag/v3.0.0. Use suggest_float(..., log=True) instead.\n",
      "  \"l2_leaf_reg\": trial.suggest_loguniform(\"l2_leaf_reg\", 0.1, 10.0),\n"
     ]
    },
    {
     "name": "stdout",
     "output_type": "stream",
     "text": [
      "[I 2023-12-19 13:07:59,833] Trial 254 finished with value: 0.6883116883116883 and parameters: {'iterations': 277, 'learning_rate': 0.0009090920993174707, 'depth': 6, 'l2_leaf_reg': 0.7629798155063248}. Best is trial 129 with value: 0.7038961038961039.\n"
     ]
    },
    {
     "name": "stderr",
     "output_type": "stream",
     "text": [
      "C:\\Users\\joanp\\AppData\\Local\\Temp\\ipykernel_25508\\1214387694.py:14: FutureWarning: suggest_loguniform has been deprecated in v3.0.0. This feature will be removed in v6.0.0. See https://github.com/optuna/optuna/releases/tag/v3.0.0. Use suggest_float(..., log=True) instead.\n",
      "  \"learning_rate\": trial.suggest_loguniform(\"learning_rate\", 0.0001, 0.1),\n",
      "C:\\Users\\joanp\\AppData\\Local\\Temp\\ipykernel_25508\\1214387694.py:16: FutureWarning: suggest_loguniform has been deprecated in v3.0.0. This feature will be removed in v6.0.0. See https://github.com/optuna/optuna/releases/tag/v3.0.0. Use suggest_float(..., log=True) instead.\n",
      "  \"l2_leaf_reg\": trial.suggest_loguniform(\"l2_leaf_reg\", 0.1, 10.0),\n"
     ]
    },
    {
     "name": "stdout",
     "output_type": "stream",
     "text": [
      "[I 2023-12-19 13:08:03,458] Trial 255 finished with value: 0.6805194805194805 and parameters: {'iterations': 303, 'learning_rate': 0.0009659228159774472, 'depth': 6, 'l2_leaf_reg': 0.6396237055194696}. Best is trial 129 with value: 0.7038961038961039.\n"
     ]
    },
    {
     "name": "stderr",
     "output_type": "stream",
     "text": [
      "C:\\Users\\joanp\\AppData\\Local\\Temp\\ipykernel_25508\\1214387694.py:14: FutureWarning: suggest_loguniform has been deprecated in v3.0.0. This feature will be removed in v6.0.0. See https://github.com/optuna/optuna/releases/tag/v3.0.0. Use suggest_float(..., log=True) instead.\n",
      "  \"learning_rate\": trial.suggest_loguniform(\"learning_rate\", 0.0001, 0.1),\n",
      "C:\\Users\\joanp\\AppData\\Local\\Temp\\ipykernel_25508\\1214387694.py:16: FutureWarning: suggest_loguniform has been deprecated in v3.0.0. This feature will be removed in v6.0.0. See https://github.com/optuna/optuna/releases/tag/v3.0.0. Use suggest_float(..., log=True) instead.\n",
      "  \"l2_leaf_reg\": trial.suggest_loguniform(\"l2_leaf_reg\", 0.1, 10.0),\n"
     ]
    },
    {
     "name": "stdout",
     "output_type": "stream",
     "text": [
      "[I 2023-12-19 13:08:04,975] Trial 256 finished with value: 0.6805194805194805 and parameters: {'iterations': 190, 'learning_rate': 0.004005874703069606, 'depth': 6, 'l2_leaf_reg': 0.5775027165727312}. Best is trial 129 with value: 0.7038961038961039.\n"
     ]
    },
    {
     "name": "stderr",
     "output_type": "stream",
     "text": [
      "C:\\Users\\joanp\\AppData\\Local\\Temp\\ipykernel_25508\\1214387694.py:14: FutureWarning: suggest_loguniform has been deprecated in v3.0.0. This feature will be removed in v6.0.0. See https://github.com/optuna/optuna/releases/tag/v3.0.0. Use suggest_float(..., log=True) instead.\n",
      "  \"learning_rate\": trial.suggest_loguniform(\"learning_rate\", 0.0001, 0.1),\n",
      "C:\\Users\\joanp\\AppData\\Local\\Temp\\ipykernel_25508\\1214387694.py:16: FutureWarning: suggest_loguniform has been deprecated in v3.0.0. This feature will be removed in v6.0.0. See https://github.com/optuna/optuna/releases/tag/v3.0.0. Use suggest_float(..., log=True) instead.\n",
      "  \"l2_leaf_reg\": trial.suggest_loguniform(\"l2_leaf_reg\", 0.1, 10.0),\n"
     ]
    },
    {
     "name": "stdout",
     "output_type": "stream",
     "text": [
      "[I 2023-12-19 13:08:07,695] Trial 257 finished with value: 0.6961038961038961 and parameters: {'iterations': 228, 'learning_rate': 0.0011599626626738488, 'depth': 6, 'l2_leaf_reg': 0.6827966101606046}. Best is trial 129 with value: 0.7038961038961039.\n"
     ]
    },
    {
     "name": "stderr",
     "output_type": "stream",
     "text": [
      "C:\\Users\\joanp\\AppData\\Local\\Temp\\ipykernel_25508\\1214387694.py:14: FutureWarning: suggest_loguniform has been deprecated in v3.0.0. This feature will be removed in v6.0.0. See https://github.com/optuna/optuna/releases/tag/v3.0.0. Use suggest_float(..., log=True) instead.\n",
      "  \"learning_rate\": trial.suggest_loguniform(\"learning_rate\", 0.0001, 0.1),\n",
      "C:\\Users\\joanp\\AppData\\Local\\Temp\\ipykernel_25508\\1214387694.py:16: FutureWarning: suggest_loguniform has been deprecated in v3.0.0. This feature will be removed in v6.0.0. See https://github.com/optuna/optuna/releases/tag/v3.0.0. Use suggest_float(..., log=True) instead.\n",
      "  \"l2_leaf_reg\": trial.suggest_loguniform(\"l2_leaf_reg\", 0.1, 10.0),\n"
     ]
    },
    {
     "name": "stdout",
     "output_type": "stream",
     "text": [
      "[I 2023-12-19 13:08:11,047] Trial 258 finished with value: 0.6987012987012987 and parameters: {'iterations': 272, 'learning_rate': 0.0010742885472087515, 'depth': 6, 'l2_leaf_reg': 0.8035159993396533}. Best is trial 129 with value: 0.7038961038961039.\n"
     ]
    },
    {
     "name": "stderr",
     "output_type": "stream",
     "text": [
      "C:\\Users\\joanp\\AppData\\Local\\Temp\\ipykernel_25508\\1214387694.py:14: FutureWarning: suggest_loguniform has been deprecated in v3.0.0. This feature will be removed in v6.0.0. See https://github.com/optuna/optuna/releases/tag/v3.0.0. Use suggest_float(..., log=True) instead.\n",
      "  \"learning_rate\": trial.suggest_loguniform(\"learning_rate\", 0.0001, 0.1),\n",
      "C:\\Users\\joanp\\AppData\\Local\\Temp\\ipykernel_25508\\1214387694.py:16: FutureWarning: suggest_loguniform has been deprecated in v3.0.0. This feature will be removed in v6.0.0. See https://github.com/optuna/optuna/releases/tag/v3.0.0. Use suggest_float(..., log=True) instead.\n",
      "  \"l2_leaf_reg\": trial.suggest_loguniform(\"l2_leaf_reg\", 0.1, 10.0),\n"
     ]
    },
    {
     "name": "stdout",
     "output_type": "stream",
     "text": [
      "[I 2023-12-19 13:08:14,517] Trial 259 finished with value: 0.6987012987012987 and parameters: {'iterations': 286, 'learning_rate': 0.001085655034151487, 'depth': 6, 'l2_leaf_reg': 0.7233194467062087}. Best is trial 129 with value: 0.7038961038961039.\n"
     ]
    },
    {
     "name": "stderr",
     "output_type": "stream",
     "text": [
      "C:\\Users\\joanp\\AppData\\Local\\Temp\\ipykernel_25508\\1214387694.py:14: FutureWarning: suggest_loguniform has been deprecated in v3.0.0. This feature will be removed in v6.0.0. See https://github.com/optuna/optuna/releases/tag/v3.0.0. Use suggest_float(..., log=True) instead.\n",
      "  \"learning_rate\": trial.suggest_loguniform(\"learning_rate\", 0.0001, 0.1),\n",
      "C:\\Users\\joanp\\AppData\\Local\\Temp\\ipykernel_25508\\1214387694.py:16: FutureWarning: suggest_loguniform has been deprecated in v3.0.0. This feature will be removed in v6.0.0. See https://github.com/optuna/optuna/releases/tag/v3.0.0. Use suggest_float(..., log=True) instead.\n",
      "  \"l2_leaf_reg\": trial.suggest_loguniform(\"l2_leaf_reg\", 0.1, 10.0),\n"
     ]
    },
    {
     "name": "stdout",
     "output_type": "stream",
     "text": [
      "[I 2023-12-19 13:08:18,070] Trial 260 finished with value: 0.6987012987012987 and parameters: {'iterations': 293, 'learning_rate': 0.0011003058599487804, 'depth': 6, 'l2_leaf_reg': 0.8147626159994932}. Best is trial 129 with value: 0.7038961038961039.\n"
     ]
    },
    {
     "name": "stderr",
     "output_type": "stream",
     "text": [
      "C:\\Users\\joanp\\AppData\\Local\\Temp\\ipykernel_25508\\1214387694.py:14: FutureWarning: suggest_loguniform has been deprecated in v3.0.0. This feature will be removed in v6.0.0. See https://github.com/optuna/optuna/releases/tag/v3.0.0. Use suggest_float(..., log=True) instead.\n",
      "  \"learning_rate\": trial.suggest_loguniform(\"learning_rate\", 0.0001, 0.1),\n",
      "C:\\Users\\joanp\\AppData\\Local\\Temp\\ipykernel_25508\\1214387694.py:16: FutureWarning: suggest_loguniform has been deprecated in v3.0.0. This feature will be removed in v6.0.0. See https://github.com/optuna/optuna/releases/tag/v3.0.0. Use suggest_float(..., log=True) instead.\n",
      "  \"l2_leaf_reg\": trial.suggest_loguniform(\"l2_leaf_reg\", 0.1, 10.0),\n"
     ]
    },
    {
     "name": "stdout",
     "output_type": "stream",
     "text": [
      "[I 2023-12-19 13:08:22,263] Trial 261 finished with value: 0.6883116883116883 and parameters: {'iterations': 318, 'learning_rate': 0.0010582700017766557, 'depth': 6, 'l2_leaf_reg': 0.797389019757093}. Best is trial 129 with value: 0.7038961038961039.\n"
     ]
    },
    {
     "name": "stderr",
     "output_type": "stream",
     "text": [
      "C:\\Users\\joanp\\AppData\\Local\\Temp\\ipykernel_25508\\1214387694.py:14: FutureWarning: suggest_loguniform has been deprecated in v3.0.0. This feature will be removed in v6.0.0. See https://github.com/optuna/optuna/releases/tag/v3.0.0. Use suggest_float(..., log=True) instead.\n",
      "  \"learning_rate\": trial.suggest_loguniform(\"learning_rate\", 0.0001, 0.1),\n",
      "C:\\Users\\joanp\\AppData\\Local\\Temp\\ipykernel_25508\\1214387694.py:16: FutureWarning: suggest_loguniform has been deprecated in v3.0.0. This feature will be removed in v6.0.0. See https://github.com/optuna/optuna/releases/tag/v3.0.0. Use suggest_float(..., log=True) instead.\n",
      "  \"l2_leaf_reg\": trial.suggest_loguniform(\"l2_leaf_reg\", 0.1, 10.0),\n"
     ]
    },
    {
     "name": "stdout",
     "output_type": "stream",
     "text": [
      "[I 2023-12-19 13:08:25,623] Trial 262 finished with value: 0.6883116883116883 and parameters: {'iterations': 288, 'learning_rate': 0.0008194105965872405, 'depth': 6, 'l2_leaf_reg': 0.7048997860337476}. Best is trial 129 with value: 0.7038961038961039.\n"
     ]
    },
    {
     "name": "stderr",
     "output_type": "stream",
     "text": [
      "C:\\Users\\joanp\\AppData\\Local\\Temp\\ipykernel_25508\\1214387694.py:14: FutureWarning: suggest_loguniform has been deprecated in v3.0.0. This feature will be removed in v6.0.0. See https://github.com/optuna/optuna/releases/tag/v3.0.0. Use suggest_float(..., log=True) instead.\n",
      "  \"learning_rate\": trial.suggest_loguniform(\"learning_rate\", 0.0001, 0.1),\n",
      "C:\\Users\\joanp\\AppData\\Local\\Temp\\ipykernel_25508\\1214387694.py:16: FutureWarning: suggest_loguniform has been deprecated in v3.0.0. This feature will be removed in v6.0.0. See https://github.com/optuna/optuna/releases/tag/v3.0.0. Use suggest_float(..., log=True) instead.\n",
      "  \"l2_leaf_reg\": trial.suggest_loguniform(\"l2_leaf_reg\", 0.1, 10.0),\n"
     ]
    },
    {
     "name": "stdout",
     "output_type": "stream",
     "text": [
      "[I 2023-12-19 13:08:29,209] Trial 263 finished with value: 0.6909090909090909 and parameters: {'iterations': 294, 'learning_rate': 0.0011163917837373669, 'depth': 6, 'l2_leaf_reg': 0.841680729450577}. Best is trial 129 with value: 0.7038961038961039.\n"
     ]
    },
    {
     "name": "stderr",
     "output_type": "stream",
     "text": [
      "C:\\Users\\joanp\\AppData\\Local\\Temp\\ipykernel_25508\\1214387694.py:14: FutureWarning: suggest_loguniform has been deprecated in v3.0.0. This feature will be removed in v6.0.0. See https://github.com/optuna/optuna/releases/tag/v3.0.0. Use suggest_float(..., log=True) instead.\n",
      "  \"learning_rate\": trial.suggest_loguniform(\"learning_rate\", 0.0001, 0.1),\n",
      "C:\\Users\\joanp\\AppData\\Local\\Temp\\ipykernel_25508\\1214387694.py:16: FutureWarning: suggest_loguniform has been deprecated in v3.0.0. This feature will be removed in v6.0.0. See https://github.com/optuna/optuna/releases/tag/v3.0.0. Use suggest_float(..., log=True) instead.\n",
      "  \"l2_leaf_reg\": trial.suggest_loguniform(\"l2_leaf_reg\", 0.1, 10.0),\n"
     ]
    },
    {
     "name": "stdout",
     "output_type": "stream",
     "text": [
      "[I 2023-12-19 13:08:32,332] Trial 264 finished with value: 0.6987012987012987 and parameters: {'iterations': 274, 'learning_rate': 0.001008192301777198, 'depth': 6, 'l2_leaf_reg': 0.7121927563784322}. Best is trial 129 with value: 0.7038961038961039.\n"
     ]
    },
    {
     "name": "stderr",
     "output_type": "stream",
     "text": [
      "C:\\Users\\joanp\\AppData\\Local\\Temp\\ipykernel_25508\\1214387694.py:14: FutureWarning: suggest_loguniform has been deprecated in v3.0.0. This feature will be removed in v6.0.0. See https://github.com/optuna/optuna/releases/tag/v3.0.0. Use suggest_float(..., log=True) instead.\n",
      "  \"learning_rate\": trial.suggest_loguniform(\"learning_rate\", 0.0001, 0.1),\n",
      "C:\\Users\\joanp\\AppData\\Local\\Temp\\ipykernel_25508\\1214387694.py:16: FutureWarning: suggest_loguniform has been deprecated in v3.0.0. This feature will be removed in v6.0.0. See https://github.com/optuna/optuna/releases/tag/v3.0.0. Use suggest_float(..., log=True) instead.\n",
      "  \"l2_leaf_reg\": trial.suggest_loguniform(\"l2_leaf_reg\", 0.1, 10.0),\n"
     ]
    },
    {
     "name": "stdout",
     "output_type": "stream",
     "text": [
      "[I 2023-12-19 13:08:36,281] Trial 265 finished with value: 0.6961038961038961 and parameters: {'iterations': 339, 'learning_rate': 0.000954448781743939, 'depth': 6, 'l2_leaf_reg': 0.8725898088528258}. Best is trial 129 with value: 0.7038961038961039.\n"
     ]
    },
    {
     "name": "stderr",
     "output_type": "stream",
     "text": [
      "C:\\Users\\joanp\\AppData\\Local\\Temp\\ipykernel_25508\\1214387694.py:14: FutureWarning: suggest_loguniform has been deprecated in v3.0.0. This feature will be removed in v6.0.0. See https://github.com/optuna/optuna/releases/tag/v3.0.0. Use suggest_float(..., log=True) instead.\n",
      "  \"learning_rate\": trial.suggest_loguniform(\"learning_rate\", 0.0001, 0.1),\n",
      "C:\\Users\\joanp\\AppData\\Local\\Temp\\ipykernel_25508\\1214387694.py:16: FutureWarning: suggest_loguniform has been deprecated in v3.0.0. This feature will be removed in v6.0.0. See https://github.com/optuna/optuna/releases/tag/v3.0.0. Use suggest_float(..., log=True) instead.\n",
      "  \"l2_leaf_reg\": trial.suggest_loguniform(\"l2_leaf_reg\", 0.1, 10.0),\n"
     ]
    },
    {
     "name": "stdout",
     "output_type": "stream",
     "text": [
      "[I 2023-12-19 13:08:39,438] Trial 266 finished with value: 0.6909090909090909 and parameters: {'iterations': 270, 'learning_rate': 0.0008005174086128865, 'depth': 6, 'l2_leaf_reg': 0.7880991368264461}. Best is trial 129 with value: 0.7038961038961039.\n"
     ]
    },
    {
     "name": "stderr",
     "output_type": "stream",
     "text": [
      "C:\\Users\\joanp\\AppData\\Local\\Temp\\ipykernel_25508\\1214387694.py:14: FutureWarning: suggest_loguniform has been deprecated in v3.0.0. This feature will be removed in v6.0.0. See https://github.com/optuna/optuna/releases/tag/v3.0.0. Use suggest_float(..., log=True) instead.\n",
      "  \"learning_rate\": trial.suggest_loguniform(\"learning_rate\", 0.0001, 0.1),\n",
      "C:\\Users\\joanp\\AppData\\Local\\Temp\\ipykernel_25508\\1214387694.py:16: FutureWarning: suggest_loguniform has been deprecated in v3.0.0. This feature will be removed in v6.0.0. See https://github.com/optuna/optuna/releases/tag/v3.0.0. Use suggest_float(..., log=True) instead.\n",
      "  \"l2_leaf_reg\": trial.suggest_loguniform(\"l2_leaf_reg\", 0.1, 10.0),\n"
     ]
    },
    {
     "name": "stdout",
     "output_type": "stream",
     "text": [
      "[I 2023-12-19 13:08:42,910] Trial 267 finished with value: 0.6961038961038961 and parameters: {'iterations': 300, 'learning_rate': 0.0006714859627404283, 'depth': 6, 'l2_leaf_reg': 0.7466850553754854}. Best is trial 129 with value: 0.7038961038961039.\n"
     ]
    },
    {
     "name": "stderr",
     "output_type": "stream",
     "text": [
      "C:\\Users\\joanp\\AppData\\Local\\Temp\\ipykernel_25508\\1214387694.py:14: FutureWarning: suggest_loguniform has been deprecated in v3.0.0. This feature will be removed in v6.0.0. See https://github.com/optuna/optuna/releases/tag/v3.0.0. Use suggest_float(..., log=True) instead.\n",
      "  \"learning_rate\": trial.suggest_loguniform(\"learning_rate\", 0.0001, 0.1),\n",
      "C:\\Users\\joanp\\AppData\\Local\\Temp\\ipykernel_25508\\1214387694.py:16: FutureWarning: suggest_loguniform has been deprecated in v3.0.0. This feature will be removed in v6.0.0. See https://github.com/optuna/optuna/releases/tag/v3.0.0. Use suggest_float(..., log=True) instead.\n",
      "  \"l2_leaf_reg\": trial.suggest_loguniform(\"l2_leaf_reg\", 0.1, 10.0),\n"
     ]
    },
    {
     "name": "stdout",
     "output_type": "stream",
     "text": [
      "[I 2023-12-19 13:08:46,050] Trial 268 finished with value: 0.6857142857142857 and parameters: {'iterations': 277, 'learning_rate': 0.0010022298701782143, 'depth': 6, 'l2_leaf_reg': 0.9006113007767177}. Best is trial 129 with value: 0.7038961038961039.\n"
     ]
    },
    {
     "name": "stderr",
     "output_type": "stream",
     "text": [
      "C:\\Users\\joanp\\AppData\\Local\\Temp\\ipykernel_25508\\1214387694.py:14: FutureWarning: suggest_loguniform has been deprecated in v3.0.0. This feature will be removed in v6.0.0. See https://github.com/optuna/optuna/releases/tag/v3.0.0. Use suggest_float(..., log=True) instead.\n",
      "  \"learning_rate\": trial.suggest_loguniform(\"learning_rate\", 0.0001, 0.1),\n",
      "C:\\Users\\joanp\\AppData\\Local\\Temp\\ipykernel_25508\\1214387694.py:16: FutureWarning: suggest_loguniform has been deprecated in v3.0.0. This feature will be removed in v6.0.0. See https://github.com/optuna/optuna/releases/tag/v3.0.0. Use suggest_float(..., log=True) instead.\n",
      "  \"l2_leaf_reg\": trial.suggest_loguniform(\"l2_leaf_reg\", 0.1, 10.0),\n"
     ]
    },
    {
     "name": "stdout",
     "output_type": "stream",
     "text": [
      "[I 2023-12-19 13:08:49,392] Trial 269 finished with value: 0.7012987012987013 and parameters: {'iterations': 305, 'learning_rate': 0.0008620456422725682, 'depth': 6, 'l2_leaf_reg': 1.0322176730877268}. Best is trial 129 with value: 0.7038961038961039.\n"
     ]
    },
    {
     "name": "stderr",
     "output_type": "stream",
     "text": [
      "C:\\Users\\joanp\\AppData\\Local\\Temp\\ipykernel_25508\\1214387694.py:14: FutureWarning: suggest_loguniform has been deprecated in v3.0.0. This feature will be removed in v6.0.0. See https://github.com/optuna/optuna/releases/tag/v3.0.0. Use suggest_float(..., log=True) instead.\n",
      "  \"learning_rate\": trial.suggest_loguniform(\"learning_rate\", 0.0001, 0.1),\n",
      "C:\\Users\\joanp\\AppData\\Local\\Temp\\ipykernel_25508\\1214387694.py:16: FutureWarning: suggest_loguniform has been deprecated in v3.0.0. This feature will be removed in v6.0.0. See https://github.com/optuna/optuna/releases/tag/v3.0.0. Use suggest_float(..., log=True) instead.\n",
      "  \"l2_leaf_reg\": trial.suggest_loguniform(\"l2_leaf_reg\", 0.1, 10.0),\n"
     ]
    },
    {
     "name": "stdout",
     "output_type": "stream",
     "text": [
      "[I 2023-12-19 13:08:52,967] Trial 270 finished with value: 0.6987012987012987 and parameters: {'iterations': 313, 'learning_rate': 0.0007748116793944699, 'depth': 6, 'l2_leaf_reg': 0.9535724829361889}. Best is trial 129 with value: 0.7038961038961039.\n"
     ]
    },
    {
     "name": "stderr",
     "output_type": "stream",
     "text": [
      "C:\\Users\\joanp\\AppData\\Local\\Temp\\ipykernel_25508\\1214387694.py:14: FutureWarning: suggest_loguniform has been deprecated in v3.0.0. This feature will be removed in v6.0.0. See https://github.com/optuna/optuna/releases/tag/v3.0.0. Use suggest_float(..., log=True) instead.\n",
      "  \"learning_rate\": trial.suggest_loguniform(\"learning_rate\", 0.0001, 0.1),\n",
      "C:\\Users\\joanp\\AppData\\Local\\Temp\\ipykernel_25508\\1214387694.py:16: FutureWarning: suggest_loguniform has been deprecated in v3.0.0. This feature will be removed in v6.0.0. See https://github.com/optuna/optuna/releases/tag/v3.0.0. Use suggest_float(..., log=True) instead.\n",
      "  \"l2_leaf_reg\": trial.suggest_loguniform(\"l2_leaf_reg\", 0.1, 10.0),\n"
     ]
    },
    {
     "name": "stdout",
     "output_type": "stream",
     "text": [
      "[I 2023-12-19 13:08:56,455] Trial 271 finished with value: 0.6961038961038961 and parameters: {'iterations': 307, 'learning_rate': 0.00075430766125125, 'depth': 6, 'l2_leaf_reg': 1.0228898550407763}. Best is trial 129 with value: 0.7038961038961039.\n"
     ]
    },
    {
     "name": "stderr",
     "output_type": "stream",
     "text": [
      "C:\\Users\\joanp\\AppData\\Local\\Temp\\ipykernel_25508\\1214387694.py:14: FutureWarning: suggest_loguniform has been deprecated in v3.0.0. This feature will be removed in v6.0.0. See https://github.com/optuna/optuna/releases/tag/v3.0.0. Use suggest_float(..., log=True) instead.\n",
      "  \"learning_rate\": trial.suggest_loguniform(\"learning_rate\", 0.0001, 0.1),\n",
      "C:\\Users\\joanp\\AppData\\Local\\Temp\\ipykernel_25508\\1214387694.py:16: FutureWarning: suggest_loguniform has been deprecated in v3.0.0. This feature will be removed in v6.0.0. See https://github.com/optuna/optuna/releases/tag/v3.0.0. Use suggest_float(..., log=True) instead.\n",
      "  \"l2_leaf_reg\": trial.suggest_loguniform(\"l2_leaf_reg\", 0.1, 10.0),\n"
     ]
    },
    {
     "name": "stdout",
     "output_type": "stream",
     "text": [
      "[I 2023-12-19 13:09:00,098] Trial 272 finished with value: 0.6831168831168831 and parameters: {'iterations': 328, 'learning_rate': 0.0012606222771243132, 'depth': 6, 'l2_leaf_reg': 0.9551443583462086}. Best is trial 129 with value: 0.7038961038961039.\n"
     ]
    },
    {
     "name": "stderr",
     "output_type": "stream",
     "text": [
      "C:\\Users\\joanp\\AppData\\Local\\Temp\\ipykernel_25508\\1214387694.py:14: FutureWarning: suggest_loguniform has been deprecated in v3.0.0. This feature will be removed in v6.0.0. See https://github.com/optuna/optuna/releases/tag/v3.0.0. Use suggest_float(..., log=True) instead.\n",
      "  \"learning_rate\": trial.suggest_loguniform(\"learning_rate\", 0.0001, 0.1),\n",
      "C:\\Users\\joanp\\AppData\\Local\\Temp\\ipykernel_25508\\1214387694.py:16: FutureWarning: suggest_loguniform has been deprecated in v3.0.0. This feature will be removed in v6.0.0. See https://github.com/optuna/optuna/releases/tag/v3.0.0. Use suggest_float(..., log=True) instead.\n",
      "  \"l2_leaf_reg\": trial.suggest_loguniform(\"l2_leaf_reg\", 0.1, 10.0),\n"
     ]
    },
    {
     "name": "stdout",
     "output_type": "stream",
     "text": [
      "[I 2023-12-19 13:09:03,595] Trial 273 finished with value: 0.7038961038961039 and parameters: {'iterations': 307, 'learning_rate': 0.0006590333781327306, 'depth': 6, 'l2_leaf_reg': 0.7063210808596697}. Best is trial 129 with value: 0.7038961038961039.\n"
     ]
    },
    {
     "name": "stderr",
     "output_type": "stream",
     "text": [
      "C:\\Users\\joanp\\AppData\\Local\\Temp\\ipykernel_25508\\1214387694.py:14: FutureWarning: suggest_loguniform has been deprecated in v3.0.0. This feature will be removed in v6.0.0. See https://github.com/optuna/optuna/releases/tag/v3.0.0. Use suggest_float(..., log=True) instead.\n",
      "  \"learning_rate\": trial.suggest_loguniform(\"learning_rate\", 0.0001, 0.1),\n",
      "C:\\Users\\joanp\\AppData\\Local\\Temp\\ipykernel_25508\\1214387694.py:16: FutureWarning: suggest_loguniform has been deprecated in v3.0.0. This feature will be removed in v6.0.0. See https://github.com/optuna/optuna/releases/tag/v3.0.0. Use suggest_float(..., log=True) instead.\n",
      "  \"l2_leaf_reg\": trial.suggest_loguniform(\"l2_leaf_reg\", 0.1, 10.0),\n"
     ]
    },
    {
     "name": "stdout",
     "output_type": "stream",
     "text": [
      "[I 2023-12-19 13:09:07,624] Trial 274 finished with value: 0.6987012987012987 and parameters: {'iterations': 352, 'learning_rate': 0.0006242572528165244, 'depth': 6, 'l2_leaf_reg': 0.6886441758539169}. Best is trial 129 with value: 0.7038961038961039.\n"
     ]
    },
    {
     "name": "stderr",
     "output_type": "stream",
     "text": [
      "C:\\Users\\joanp\\AppData\\Local\\Temp\\ipykernel_25508\\1214387694.py:14: FutureWarning: suggest_loguniform has been deprecated in v3.0.0. This feature will be removed in v6.0.0. See https://github.com/optuna/optuna/releases/tag/v3.0.0. Use suggest_float(..., log=True) instead.\n",
      "  \"learning_rate\": trial.suggest_loguniform(\"learning_rate\", 0.0001, 0.1),\n",
      "C:\\Users\\joanp\\AppData\\Local\\Temp\\ipykernel_25508\\1214387694.py:16: FutureWarning: suggest_loguniform has been deprecated in v3.0.0. This feature will be removed in v6.0.0. See https://github.com/optuna/optuna/releases/tag/v3.0.0. Use suggest_float(..., log=True) instead.\n",
      "  \"l2_leaf_reg\": trial.suggest_loguniform(\"l2_leaf_reg\", 0.1, 10.0),\n"
     ]
    },
    {
     "name": "stdout",
     "output_type": "stream",
     "text": [
      "[I 2023-12-19 13:09:11,227] Trial 275 finished with value: 0.6961038961038961 and parameters: {'iterations': 326, 'learning_rate': 0.0007153686098098527, 'depth': 6, 'l2_leaf_reg': 0.6475153975757034}. Best is trial 129 with value: 0.7038961038961039.\n"
     ]
    },
    {
     "name": "stderr",
     "output_type": "stream",
     "text": [
      "C:\\Users\\joanp\\AppData\\Local\\Temp\\ipykernel_25508\\1214387694.py:14: FutureWarning: suggest_loguniform has been deprecated in v3.0.0. This feature will be removed in v6.0.0. See https://github.com/optuna/optuna/releases/tag/v3.0.0. Use suggest_float(..., log=True) instead.\n",
      "  \"learning_rate\": trial.suggest_loguniform(\"learning_rate\", 0.0001, 0.1),\n",
      "C:\\Users\\joanp\\AppData\\Local\\Temp\\ipykernel_25508\\1214387694.py:16: FutureWarning: suggest_loguniform has been deprecated in v3.0.0. This feature will be removed in v6.0.0. See https://github.com/optuna/optuna/releases/tag/v3.0.0. Use suggest_float(..., log=True) instead.\n",
      "  \"l2_leaf_reg\": trial.suggest_loguniform(\"l2_leaf_reg\", 0.1, 10.0),\n"
     ]
    },
    {
     "name": "stdout",
     "output_type": "stream",
     "text": [
      "[I 2023-12-19 13:09:14,958] Trial 276 finished with value: 0.6831168831168831 and parameters: {'iterations': 352, 'learning_rate': 0.000634629804414615, 'depth': 6, 'l2_leaf_reg': 1.0174715405793646}. Best is trial 129 with value: 0.7038961038961039.\n"
     ]
    },
    {
     "name": "stderr",
     "output_type": "stream",
     "text": [
      "C:\\Users\\joanp\\AppData\\Local\\Temp\\ipykernel_25508\\1214387694.py:14: FutureWarning: suggest_loguniform has been deprecated in v3.0.0. This feature will be removed in v6.0.0. See https://github.com/optuna/optuna/releases/tag/v3.0.0. Use suggest_float(..., log=True) instead.\n",
      "  \"learning_rate\": trial.suggest_loguniform(\"learning_rate\", 0.0001, 0.1),\n",
      "C:\\Users\\joanp\\AppData\\Local\\Temp\\ipykernel_25508\\1214387694.py:16: FutureWarning: suggest_loguniform has been deprecated in v3.0.0. This feature will be removed in v6.0.0. See https://github.com/optuna/optuna/releases/tag/v3.0.0. Use suggest_float(..., log=True) instead.\n",
      "  \"l2_leaf_reg\": trial.suggest_loguniform(\"l2_leaf_reg\", 0.1, 10.0),\n"
     ]
    },
    {
     "name": "stdout",
     "output_type": "stream",
     "text": [
      "[I 2023-12-19 13:09:18,035] Trial 277 finished with value: 0.6857142857142857 and parameters: {'iterations': 314, 'learning_rate': 0.0005820518933354176, 'depth': 5, 'l2_leaf_reg': 0.7572541002482656}. Best is trial 129 with value: 0.7038961038961039.\n"
     ]
    },
    {
     "name": "stderr",
     "output_type": "stream",
     "text": [
      "C:\\Users\\joanp\\AppData\\Local\\Temp\\ipykernel_25508\\1214387694.py:14: FutureWarning: suggest_loguniform has been deprecated in v3.0.0. This feature will be removed in v6.0.0. See https://github.com/optuna/optuna/releases/tag/v3.0.0. Use suggest_float(..., log=True) instead.\n",
      "  \"learning_rate\": trial.suggest_loguniform(\"learning_rate\", 0.0001, 0.1),\n",
      "C:\\Users\\joanp\\AppData\\Local\\Temp\\ipykernel_25508\\1214387694.py:16: FutureWarning: suggest_loguniform has been deprecated in v3.0.0. This feature will be removed in v6.0.0. See https://github.com/optuna/optuna/releases/tag/v3.0.0. Use suggest_float(..., log=True) instead.\n",
      "  \"l2_leaf_reg\": trial.suggest_loguniform(\"l2_leaf_reg\", 0.1, 10.0),\n"
     ]
    },
    {
     "name": "stdout",
     "output_type": "stream",
     "text": [
      "[I 2023-12-19 13:09:21,929] Trial 278 finished with value: 0.6909090909090909 and parameters: {'iterations': 309, 'learning_rate': 0.0007695193651739572, 'depth': 6, 'l2_leaf_reg': 0.7107179463915421}. Best is trial 129 with value: 0.7038961038961039.\n"
     ]
    },
    {
     "name": "stderr",
     "output_type": "stream",
     "text": [
      "C:\\Users\\joanp\\AppData\\Local\\Temp\\ipykernel_25508\\1214387694.py:14: FutureWarning: suggest_loguniform has been deprecated in v3.0.0. This feature will be removed in v6.0.0. See https://github.com/optuna/optuna/releases/tag/v3.0.0. Use suggest_float(..., log=True) instead.\n",
      "  \"learning_rate\": trial.suggest_loguniform(\"learning_rate\", 0.0001, 0.1),\n",
      "C:\\Users\\joanp\\AppData\\Local\\Temp\\ipykernel_25508\\1214387694.py:16: FutureWarning: suggest_loguniform has been deprecated in v3.0.0. This feature will be removed in v6.0.0. See https://github.com/optuna/optuna/releases/tag/v3.0.0. Use suggest_float(..., log=True) instead.\n",
      "  \"l2_leaf_reg\": trial.suggest_loguniform(\"l2_leaf_reg\", 0.1, 10.0),\n"
     ]
    },
    {
     "name": "stdout",
     "output_type": "stream",
     "text": [
      "[I 2023-12-19 13:09:26,001] Trial 279 finished with value: 0.6987012987012987 and parameters: {'iterations': 344, 'learning_rate': 0.0005860834438381556, 'depth': 6, 'l2_leaf_reg': 0.8299905801225904}. Best is trial 129 with value: 0.7038961038961039.\n"
     ]
    },
    {
     "name": "stderr",
     "output_type": "stream",
     "text": [
      "C:\\Users\\joanp\\AppData\\Local\\Temp\\ipykernel_25508\\1214387694.py:14: FutureWarning: suggest_loguniform has been deprecated in v3.0.0. This feature will be removed in v6.0.0. See https://github.com/optuna/optuna/releases/tag/v3.0.0. Use suggest_float(..., log=True) instead.\n",
      "  \"learning_rate\": trial.suggest_loguniform(\"learning_rate\", 0.0001, 0.1),\n",
      "C:\\Users\\joanp\\AppData\\Local\\Temp\\ipykernel_25508\\1214387694.py:16: FutureWarning: suggest_loguniform has been deprecated in v3.0.0. This feature will be removed in v6.0.0. See https://github.com/optuna/optuna/releases/tag/v3.0.0. Use suggest_float(..., log=True) instead.\n",
      "  \"l2_leaf_reg\": trial.suggest_loguniform(\"l2_leaf_reg\", 0.1, 10.0),\n"
     ]
    },
    {
     "name": "stdout",
     "output_type": "stream",
     "text": [
      "[I 2023-12-19 13:09:29,926] Trial 280 finished with value: 0.6727272727272727 and parameters: {'iterations': 376, 'learning_rate': 0.0005978572969686281, 'depth': 6, 'l2_leaf_reg': 0.8232991041229836}. Best is trial 129 with value: 0.7038961038961039.\n"
     ]
    },
    {
     "name": "stderr",
     "output_type": "stream",
     "text": [
      "C:\\Users\\joanp\\AppData\\Local\\Temp\\ipykernel_25508\\1214387694.py:14: FutureWarning: suggest_loguniform has been deprecated in v3.0.0. This feature will be removed in v6.0.0. See https://github.com/optuna/optuna/releases/tag/v3.0.0. Use suggest_float(..., log=True) instead.\n",
      "  \"learning_rate\": trial.suggest_loguniform(\"learning_rate\", 0.0001, 0.1),\n",
      "C:\\Users\\joanp\\AppData\\Local\\Temp\\ipykernel_25508\\1214387694.py:16: FutureWarning: suggest_loguniform has been deprecated in v3.0.0. This feature will be removed in v6.0.0. See https://github.com/optuna/optuna/releases/tag/v3.0.0. Use suggest_float(..., log=True) instead.\n",
      "  \"l2_leaf_reg\": trial.suggest_loguniform(\"l2_leaf_reg\", 0.1, 10.0),\n"
     ]
    },
    {
     "name": "stdout",
     "output_type": "stream",
     "text": [
      "[I 2023-12-19 13:09:33,647] Trial 281 finished with value: 0.7012987012987013 and parameters: {'iterations': 345, 'learning_rate': 0.0006917957586218265, 'depth': 6, 'l2_leaf_reg': 0.6816147458077217}. Best is trial 129 with value: 0.7038961038961039.\n"
     ]
    },
    {
     "name": "stderr",
     "output_type": "stream",
     "text": [
      "C:\\Users\\joanp\\AppData\\Local\\Temp\\ipykernel_25508\\1214387694.py:14: FutureWarning: suggest_loguniform has been deprecated in v3.0.0. This feature will be removed in v6.0.0. See https://github.com/optuna/optuna/releases/tag/v3.0.0. Use suggest_float(..., log=True) instead.\n",
      "  \"learning_rate\": trial.suggest_loguniform(\"learning_rate\", 0.0001, 0.1),\n",
      "C:\\Users\\joanp\\AppData\\Local\\Temp\\ipykernel_25508\\1214387694.py:16: FutureWarning: suggest_loguniform has been deprecated in v3.0.0. This feature will be removed in v6.0.0. See https://github.com/optuna/optuna/releases/tag/v3.0.0. Use suggest_float(..., log=True) instead.\n",
      "  \"l2_leaf_reg\": trial.suggest_loguniform(\"l2_leaf_reg\", 0.1, 10.0),\n"
     ]
    },
    {
     "name": "stdout",
     "output_type": "stream",
     "text": [
      "[I 2023-12-19 13:09:37,499] Trial 282 finished with value: 0.6727272727272727 and parameters: {'iterations': 358, 'learning_rate': 0.0005568956780683189, 'depth': 6, 'l2_leaf_reg': 0.6807494769231988}. Best is trial 129 with value: 0.7038961038961039.\n"
     ]
    },
    {
     "name": "stderr",
     "output_type": "stream",
     "text": [
      "C:\\Users\\joanp\\AppData\\Local\\Temp\\ipykernel_25508\\1214387694.py:14: FutureWarning: suggest_loguniform has been deprecated in v3.0.0. This feature will be removed in v6.0.0. See https://github.com/optuna/optuna/releases/tag/v3.0.0. Use suggest_float(..., log=True) instead.\n",
      "  \"learning_rate\": trial.suggest_loguniform(\"learning_rate\", 0.0001, 0.1),\n",
      "C:\\Users\\joanp\\AppData\\Local\\Temp\\ipykernel_25508\\1214387694.py:16: FutureWarning: suggest_loguniform has been deprecated in v3.0.0. This feature will be removed in v6.0.0. See https://github.com/optuna/optuna/releases/tag/v3.0.0. Use suggest_float(..., log=True) instead.\n",
      "  \"l2_leaf_reg\": trial.suggest_loguniform(\"l2_leaf_reg\", 0.1, 10.0),\n"
     ]
    },
    {
     "name": "stdout",
     "output_type": "stream",
     "text": [
      "[I 2023-12-19 13:09:41,551] Trial 283 finished with value: 0.6935064935064935 and parameters: {'iterations': 350, 'learning_rate': 0.0006412104072673771, 'depth': 6, 'l2_leaf_reg': 0.8370752172205557}. Best is trial 129 with value: 0.7038961038961039.\n"
     ]
    },
    {
     "name": "stderr",
     "output_type": "stream",
     "text": [
      "C:\\Users\\joanp\\AppData\\Local\\Temp\\ipykernel_25508\\1214387694.py:14: FutureWarning: suggest_loguniform has been deprecated in v3.0.0. This feature will be removed in v6.0.0. See https://github.com/optuna/optuna/releases/tag/v3.0.0. Use suggest_float(..., log=True) instead.\n",
      "  \"learning_rate\": trial.suggest_loguniform(\"learning_rate\", 0.0001, 0.1),\n",
      "C:\\Users\\joanp\\AppData\\Local\\Temp\\ipykernel_25508\\1214387694.py:16: FutureWarning: suggest_loguniform has been deprecated in v3.0.0. This feature will be removed in v6.0.0. See https://github.com/optuna/optuna/releases/tag/v3.0.0. Use suggest_float(..., log=True) instead.\n",
      "  \"l2_leaf_reg\": trial.suggest_loguniform(\"l2_leaf_reg\", 0.1, 10.0),\n"
     ]
    },
    {
     "name": "stdout",
     "output_type": "stream",
     "text": [
      "[I 2023-12-19 13:09:45,241] Trial 284 finished with value: 0.6909090909090909 and parameters: {'iterations': 339, 'learning_rate': 0.0006608741838589645, 'depth': 6, 'l2_leaf_reg': 0.8886874255912112}. Best is trial 129 with value: 0.7038961038961039.\n"
     ]
    },
    {
     "name": "stderr",
     "output_type": "stream",
     "text": [
      "C:\\Users\\joanp\\AppData\\Local\\Temp\\ipykernel_25508\\1214387694.py:14: FutureWarning: suggest_loguniform has been deprecated in v3.0.0. This feature will be removed in v6.0.0. See https://github.com/optuna/optuna/releases/tag/v3.0.0. Use suggest_float(..., log=True) instead.\n",
      "  \"learning_rate\": trial.suggest_loguniform(\"learning_rate\", 0.0001, 0.1),\n",
      "C:\\Users\\joanp\\AppData\\Local\\Temp\\ipykernel_25508\\1214387694.py:16: FutureWarning: suggest_loguniform has been deprecated in v3.0.0. This feature will be removed in v6.0.0. See https://github.com/optuna/optuna/releases/tag/v3.0.0. Use suggest_float(..., log=True) instead.\n",
      "  \"l2_leaf_reg\": trial.suggest_loguniform(\"l2_leaf_reg\", 0.1, 10.0),\n"
     ]
    },
    {
     "name": "stdout",
     "output_type": "stream",
     "text": [
      "[I 2023-12-19 13:09:48,779] Trial 285 finished with value: 0.7012987012987013 and parameters: {'iterations': 335, 'learning_rate': 0.0007419678645832722, 'depth': 6, 'l2_leaf_reg': 0.6177908857637837}. Best is trial 129 with value: 0.7038961038961039.\n"
     ]
    },
    {
     "name": "stderr",
     "output_type": "stream",
     "text": [
      "C:\\Users\\joanp\\AppData\\Local\\Temp\\ipykernel_25508\\1214387694.py:14: FutureWarning: suggest_loguniform has been deprecated in v3.0.0. This feature will be removed in v6.0.0. See https://github.com/optuna/optuna/releases/tag/v3.0.0. Use suggest_float(..., log=True) instead.\n",
      "  \"learning_rate\": trial.suggest_loguniform(\"learning_rate\", 0.0001, 0.1),\n",
      "C:\\Users\\joanp\\AppData\\Local\\Temp\\ipykernel_25508\\1214387694.py:16: FutureWarning: suggest_loguniform has been deprecated in v3.0.0. This feature will be removed in v6.0.0. See https://github.com/optuna/optuna/releases/tag/v3.0.0. Use suggest_float(..., log=True) instead.\n",
      "  \"l2_leaf_reg\": trial.suggest_loguniform(\"l2_leaf_reg\", 0.1, 10.0),\n"
     ]
    },
    {
     "name": "stdout",
     "output_type": "stream",
     "text": [
      "[I 2023-12-19 13:09:52,262] Trial 286 finished with value: 0.6883116883116883 and parameters: {'iterations': 338, 'learning_rate': 0.00048381016325619095, 'depth': 6, 'l2_leaf_reg': 0.605713307914173}. Best is trial 129 with value: 0.7038961038961039.\n"
     ]
    },
    {
     "name": "stderr",
     "output_type": "stream",
     "text": [
      "C:\\Users\\joanp\\AppData\\Local\\Temp\\ipykernel_25508\\1214387694.py:14: FutureWarning: suggest_loguniform has been deprecated in v3.0.0. This feature will be removed in v6.0.0. See https://github.com/optuna/optuna/releases/tag/v3.0.0. Use suggest_float(..., log=True) instead.\n",
      "  \"learning_rate\": trial.suggest_loguniform(\"learning_rate\", 0.0001, 0.1),\n",
      "C:\\Users\\joanp\\AppData\\Local\\Temp\\ipykernel_25508\\1214387694.py:16: FutureWarning: suggest_loguniform has been deprecated in v3.0.0. This feature will be removed in v6.0.0. See https://github.com/optuna/optuna/releases/tag/v3.0.0. Use suggest_float(..., log=True) instead.\n",
      "  \"l2_leaf_reg\": trial.suggest_loguniform(\"l2_leaf_reg\", 0.1, 10.0),\n"
     ]
    },
    {
     "name": "stdout",
     "output_type": "stream",
     "text": [
      "[I 2023-12-19 13:09:56,388] Trial 287 finished with value: 0.6961038961038961 and parameters: {'iterations': 373, 'learning_rate': 0.0007376491729947242, 'depth': 6, 'l2_leaf_reg': 0.7015981687227898}. Best is trial 129 with value: 0.7038961038961039.\n"
     ]
    },
    {
     "name": "stderr",
     "output_type": "stream",
     "text": [
      "C:\\Users\\joanp\\AppData\\Local\\Temp\\ipykernel_25508\\1214387694.py:14: FutureWarning: suggest_loguniform has been deprecated in v3.0.0. This feature will be removed in v6.0.0. See https://github.com/optuna/optuna/releases/tag/v3.0.0. Use suggest_float(..., log=True) instead.\n",
      "  \"learning_rate\": trial.suggest_loguniform(\"learning_rate\", 0.0001, 0.1),\n",
      "C:\\Users\\joanp\\AppData\\Local\\Temp\\ipykernel_25508\\1214387694.py:16: FutureWarning: suggest_loguniform has been deprecated in v3.0.0. This feature will be removed in v6.0.0. See https://github.com/optuna/optuna/releases/tag/v3.0.0. Use suggest_float(..., log=True) instead.\n",
      "  \"l2_leaf_reg\": trial.suggest_loguniform(\"l2_leaf_reg\", 0.1, 10.0),\n"
     ]
    },
    {
     "name": "stdout",
     "output_type": "stream",
     "text": [
      "[I 2023-12-19 13:10:00,433] Trial 288 finished with value: 0.6987012987012987 and parameters: {'iterations': 391, 'learning_rate': 0.000870092773067931, 'depth': 6, 'l2_leaf_reg': 0.6356879034361421}. Best is trial 129 with value: 0.7038961038961039.\n"
     ]
    },
    {
     "name": "stderr",
     "output_type": "stream",
     "text": [
      "C:\\Users\\joanp\\AppData\\Local\\Temp\\ipykernel_25508\\1214387694.py:14: FutureWarning: suggest_loguniform has been deprecated in v3.0.0. This feature will be removed in v6.0.0. See https://github.com/optuna/optuna/releases/tag/v3.0.0. Use suggest_float(..., log=True) instead.\n",
      "  \"learning_rate\": trial.suggest_loguniform(\"learning_rate\", 0.0001, 0.1),\n",
      "C:\\Users\\joanp\\AppData\\Local\\Temp\\ipykernel_25508\\1214387694.py:16: FutureWarning: suggest_loguniform has been deprecated in v3.0.0. This feature will be removed in v6.0.0. See https://github.com/optuna/optuna/releases/tag/v3.0.0. Use suggest_float(..., log=True) instead.\n",
      "  \"l2_leaf_reg\": trial.suggest_loguniform(\"l2_leaf_reg\", 0.1, 10.0),\n"
     ]
    },
    {
     "name": "stdout",
     "output_type": "stream",
     "text": [
      "[I 2023-12-19 13:10:04,513] Trial 289 finished with value: 0.6883116883116883 and parameters: {'iterations': 397, 'learning_rate': 0.0008266704521661047, 'depth': 6, 'l2_leaf_reg': 0.6767817377263448}. Best is trial 129 with value: 0.7038961038961039.\n"
     ]
    },
    {
     "name": "stderr",
     "output_type": "stream",
     "text": [
      "C:\\Users\\joanp\\AppData\\Local\\Temp\\ipykernel_25508\\1214387694.py:14: FutureWarning: suggest_loguniform has been deprecated in v3.0.0. This feature will be removed in v6.0.0. See https://github.com/optuna/optuna/releases/tag/v3.0.0. Use suggest_float(..., log=True) instead.\n",
      "  \"learning_rate\": trial.suggest_loguniform(\"learning_rate\", 0.0001, 0.1),\n",
      "C:\\Users\\joanp\\AppData\\Local\\Temp\\ipykernel_25508\\1214387694.py:16: FutureWarning: suggest_loguniform has been deprecated in v3.0.0. This feature will be removed in v6.0.0. See https://github.com/optuna/optuna/releases/tag/v3.0.0. Use suggest_float(..., log=True) instead.\n",
      "  \"l2_leaf_reg\": trial.suggest_loguniform(\"l2_leaf_reg\", 0.1, 10.0),\n"
     ]
    },
    {
     "name": "stdout",
     "output_type": "stream",
     "text": [
      "[I 2023-12-19 13:10:07,972] Trial 290 finished with value: 0.7012987012987013 and parameters: {'iterations': 330, 'learning_rate': 0.0007027281778191428, 'depth': 6, 'l2_leaf_reg': 0.6328313806004051}. Best is trial 129 with value: 0.7038961038961039.\n"
     ]
    },
    {
     "name": "stderr",
     "output_type": "stream",
     "text": [
      "C:\\Users\\joanp\\AppData\\Local\\Temp\\ipykernel_25508\\1214387694.py:14: FutureWarning: suggest_loguniform has been deprecated in v3.0.0. This feature will be removed in v6.0.0. See https://github.com/optuna/optuna/releases/tag/v3.0.0. Use suggest_float(..., log=True) instead.\n",
      "  \"learning_rate\": trial.suggest_loguniform(\"learning_rate\", 0.0001, 0.1),\n",
      "C:\\Users\\joanp\\AppData\\Local\\Temp\\ipykernel_25508\\1214387694.py:16: FutureWarning: suggest_loguniform has been deprecated in v3.0.0. This feature will be removed in v6.0.0. See https://github.com/optuna/optuna/releases/tag/v3.0.0. Use suggest_float(..., log=True) instead.\n",
      "  \"l2_leaf_reg\": trial.suggest_loguniform(\"l2_leaf_reg\", 0.1, 10.0),\n"
     ]
    },
    {
     "name": "stdout",
     "output_type": "stream",
     "text": [
      "[I 2023-12-19 13:10:11,980] Trial 291 finished with value: 0.6831168831168831 and parameters: {'iterations': 358, 'learning_rate': 0.0007216819358154885, 'depth': 6, 'l2_leaf_reg': 0.6142048320784871}. Best is trial 129 with value: 0.7038961038961039.\n"
     ]
    },
    {
     "name": "stderr",
     "output_type": "stream",
     "text": [
      "C:\\Users\\joanp\\AppData\\Local\\Temp\\ipykernel_25508\\1214387694.py:14: FutureWarning: suggest_loguniform has been deprecated in v3.0.0. This feature will be removed in v6.0.0. See https://github.com/optuna/optuna/releases/tag/v3.0.0. Use suggest_float(..., log=True) instead.\n",
      "  \"learning_rate\": trial.suggest_loguniform(\"learning_rate\", 0.0001, 0.1),\n",
      "C:\\Users\\joanp\\AppData\\Local\\Temp\\ipykernel_25508\\1214387694.py:16: FutureWarning: suggest_loguniform has been deprecated in v3.0.0. This feature will be removed in v6.0.0. See https://github.com/optuna/optuna/releases/tag/v3.0.0. Use suggest_float(..., log=True) instead.\n",
      "  \"l2_leaf_reg\": trial.suggest_loguniform(\"l2_leaf_reg\", 0.1, 10.0),\n"
     ]
    },
    {
     "name": "stdout",
     "output_type": "stream",
     "text": [
      "[I 2023-12-19 13:10:15,590] Trial 292 finished with value: 0.6961038961038961 and parameters: {'iterations': 335, 'learning_rate': 0.0007664886421522575, 'depth': 6, 'l2_leaf_reg': 0.6289320080647969}. Best is trial 129 with value: 0.7038961038961039.\n"
     ]
    },
    {
     "name": "stderr",
     "output_type": "stream",
     "text": [
      "C:\\Users\\joanp\\AppData\\Local\\Temp\\ipykernel_25508\\1214387694.py:14: FutureWarning: suggest_loguniform has been deprecated in v3.0.0. This feature will be removed in v6.0.0. See https://github.com/optuna/optuna/releases/tag/v3.0.0. Use suggest_float(..., log=True) instead.\n",
      "  \"learning_rate\": trial.suggest_loguniform(\"learning_rate\", 0.0001, 0.1),\n",
      "C:\\Users\\joanp\\AppData\\Local\\Temp\\ipykernel_25508\\1214387694.py:16: FutureWarning: suggest_loguniform has been deprecated in v3.0.0. This feature will be removed in v6.0.0. See https://github.com/optuna/optuna/releases/tag/v3.0.0. Use suggest_float(..., log=True) instead.\n",
      "  \"l2_leaf_reg\": trial.suggest_loguniform(\"l2_leaf_reg\", 0.1, 10.0),\n"
     ]
    },
    {
     "name": "stdout",
     "output_type": "stream",
     "text": [
      "[I 2023-12-19 13:10:19,023] Trial 293 finished with value: 0.7012987012987013 and parameters: {'iterations': 315, 'learning_rate': 0.0008732510609864023, 'depth': 6, 'l2_leaf_reg': 0.5731307357719422}. Best is trial 129 with value: 0.7038961038961039.\n"
     ]
    },
    {
     "name": "stderr",
     "output_type": "stream",
     "text": [
      "C:\\Users\\joanp\\AppData\\Local\\Temp\\ipykernel_25508\\1214387694.py:14: FutureWarning: suggest_loguniform has been deprecated in v3.0.0. This feature will be removed in v6.0.0. See https://github.com/optuna/optuna/releases/tag/v3.0.0. Use suggest_float(..., log=True) instead.\n",
      "  \"learning_rate\": trial.suggest_loguniform(\"learning_rate\", 0.0001, 0.1),\n",
      "C:\\Users\\joanp\\AppData\\Local\\Temp\\ipykernel_25508\\1214387694.py:16: FutureWarning: suggest_loguniform has been deprecated in v3.0.0. This feature will be removed in v6.0.0. See https://github.com/optuna/optuna/releases/tag/v3.0.0. Use suggest_float(..., log=True) instead.\n",
      "  \"l2_leaf_reg\": trial.suggest_loguniform(\"l2_leaf_reg\", 0.1, 10.0),\n"
     ]
    },
    {
     "name": "stdout",
     "output_type": "stream",
     "text": [
      "[I 2023-12-19 13:10:22,459] Trial 294 finished with value: 0.6883116883116883 and parameters: {'iterations': 319, 'learning_rate': 0.0006779615872373814, 'depth': 6, 'l2_leaf_reg': 0.5884754825933768}. Best is trial 129 with value: 0.7038961038961039.\n"
     ]
    },
    {
     "name": "stderr",
     "output_type": "stream",
     "text": [
      "C:\\Users\\joanp\\AppData\\Local\\Temp\\ipykernel_25508\\1214387694.py:14: FutureWarning: suggest_loguniform has been deprecated in v3.0.0. This feature will be removed in v6.0.0. See https://github.com/optuna/optuna/releases/tag/v3.0.0. Use suggest_float(..., log=True) instead.\n",
      "  \"learning_rate\": trial.suggest_loguniform(\"learning_rate\", 0.0001, 0.1),\n",
      "C:\\Users\\joanp\\AppData\\Local\\Temp\\ipykernel_25508\\1214387694.py:16: FutureWarning: suggest_loguniform has been deprecated in v3.0.0. This feature will be removed in v6.0.0. See https://github.com/optuna/optuna/releases/tag/v3.0.0. Use suggest_float(..., log=True) instead.\n",
      "  \"l2_leaf_reg\": trial.suggest_loguniform(\"l2_leaf_reg\", 0.1, 10.0),\n"
     ]
    },
    {
     "name": "stdout",
     "output_type": "stream",
     "text": [
      "[I 2023-12-19 13:10:25,947] Trial 295 finished with value: 0.6883116883116883 and parameters: {'iterations': 324, 'learning_rate': 0.0009039619860139193, 'depth': 6, 'l2_leaf_reg': 0.5113023836017923}. Best is trial 129 with value: 0.7038961038961039.\n"
     ]
    },
    {
     "name": "stderr",
     "output_type": "stream",
     "text": [
      "C:\\Users\\joanp\\AppData\\Local\\Temp\\ipykernel_25508\\1214387694.py:14: FutureWarning: suggest_loguniform has been deprecated in v3.0.0. This feature will be removed in v6.0.0. See https://github.com/optuna/optuna/releases/tag/v3.0.0. Use suggest_float(..., log=True) instead.\n",
      "  \"learning_rate\": trial.suggest_loguniform(\"learning_rate\", 0.0001, 0.1),\n",
      "C:\\Users\\joanp\\AppData\\Local\\Temp\\ipykernel_25508\\1214387694.py:16: FutureWarning: suggest_loguniform has been deprecated in v3.0.0. This feature will be removed in v6.0.0. See https://github.com/optuna/optuna/releases/tag/v3.0.0. Use suggest_float(..., log=True) instead.\n",
      "  \"l2_leaf_reg\": trial.suggest_loguniform(\"l2_leaf_reg\", 0.1, 10.0),\n"
     ]
    },
    {
     "name": "stdout",
     "output_type": "stream",
     "text": [
      "[I 2023-12-19 13:10:29,804] Trial 296 finished with value: 0.6935064935064935 and parameters: {'iterations': 349, 'learning_rate': 0.0008500810152438396, 'depth': 6, 'l2_leaf_reg': 0.5643758989693543}. Best is trial 129 with value: 0.7038961038961039.\n"
     ]
    },
    {
     "name": "stderr",
     "output_type": "stream",
     "text": [
      "C:\\Users\\joanp\\AppData\\Local\\Temp\\ipykernel_25508\\1214387694.py:14: FutureWarning: suggest_loguniform has been deprecated in v3.0.0. This feature will be removed in v6.0.0. See https://github.com/optuna/optuna/releases/tag/v3.0.0. Use suggest_float(..., log=True) instead.\n",
      "  \"learning_rate\": trial.suggest_loguniform(\"learning_rate\", 0.0001, 0.1),\n",
      "C:\\Users\\joanp\\AppData\\Local\\Temp\\ipykernel_25508\\1214387694.py:16: FutureWarning: suggest_loguniform has been deprecated in v3.0.0. This feature will be removed in v6.0.0. See https://github.com/optuna/optuna/releases/tag/v3.0.0. Use suggest_float(..., log=True) instead.\n",
      "  \"l2_leaf_reg\": trial.suggest_loguniform(\"l2_leaf_reg\", 0.1, 10.0),\n"
     ]
    },
    {
     "name": "stdout",
     "output_type": "stream",
     "text": [
      "[I 2023-12-19 13:10:33,706] Trial 297 finished with value: 0.6909090909090909 and parameters: {'iterations': 369, 'learning_rate': 0.0005774926637893628, 'depth': 6, 'l2_leaf_reg': 0.7461514424699079}. Best is trial 129 with value: 0.7038961038961039.\n"
     ]
    },
    {
     "name": "stderr",
     "output_type": "stream",
     "text": [
      "C:\\Users\\joanp\\AppData\\Local\\Temp\\ipykernel_25508\\1214387694.py:14: FutureWarning: suggest_loguniform has been deprecated in v3.0.0. This feature will be removed in v6.0.0. See https://github.com/optuna/optuna/releases/tag/v3.0.0. Use suggest_float(..., log=True) instead.\n",
      "  \"learning_rate\": trial.suggest_loguniform(\"learning_rate\", 0.0001, 0.1),\n",
      "C:\\Users\\joanp\\AppData\\Local\\Temp\\ipykernel_25508\\1214387694.py:16: FutureWarning: suggest_loguniform has been deprecated in v3.0.0. This feature will be removed in v6.0.0. See https://github.com/optuna/optuna/releases/tag/v3.0.0. Use suggest_float(..., log=True) instead.\n",
      "  \"l2_leaf_reg\": trial.suggest_loguniform(\"l2_leaf_reg\", 0.1, 10.0),\n"
     ]
    },
    {
     "name": "stdout",
     "output_type": "stream",
     "text": [
      "[I 2023-12-19 13:10:37,146] Trial 298 finished with value: 0.6935064935064935 and parameters: {'iterations': 329, 'learning_rate': 0.0008312486804328486, 'depth': 6, 'l2_leaf_reg': 0.6453188166699328}. Best is trial 129 with value: 0.7038961038961039.\n"
     ]
    },
    {
     "name": "stderr",
     "output_type": "stream",
     "text": [
      "C:\\Users\\joanp\\AppData\\Local\\Temp\\ipykernel_25508\\1214387694.py:14: FutureWarning: suggest_loguniform has been deprecated in v3.0.0. This feature will be removed in v6.0.0. See https://github.com/optuna/optuna/releases/tag/v3.0.0. Use suggest_float(..., log=True) instead.\n",
      "  \"learning_rate\": trial.suggest_loguniform(\"learning_rate\", 0.0001, 0.1),\n",
      "C:\\Users\\joanp\\AppData\\Local\\Temp\\ipykernel_25508\\1214387694.py:16: FutureWarning: suggest_loguniform has been deprecated in v3.0.0. This feature will be removed in v6.0.0. See https://github.com/optuna/optuna/releases/tag/v3.0.0. Use suggest_float(..., log=True) instead.\n",
      "  \"l2_leaf_reg\": trial.suggest_loguniform(\"l2_leaf_reg\", 0.1, 10.0),\n"
     ]
    },
    {
     "name": "stdout",
     "output_type": "stream",
     "text": [
      "[I 2023-12-19 13:10:41,102] Trial 299 finished with value: 0.7012987012987013 and parameters: {'iterations': 384, 'learning_rate': 0.0005065534923553516, 'depth': 6, 'l2_leaf_reg': 1.0604373693665448}. Best is trial 129 with value: 0.7038961038961039.\n",
      "Best Parameters: {'iterations': 315, 'learning_rate': 0.0012550264938197037, 'depth': 6, 'l2_leaf_reg': 0.15972299165639509}\n",
      "Best Recall: 0.7038961038961039\n"
     ]
    }
   ],
   "source": [
    "import optuna\n",
    "from sklearn.metrics import recall_score\n",
    "\n",
    "# Define the pipeline components\n",
    "scaler = StandardScaler()\n",
    "over = SMOTE(sampling_strategy=0.3)\n",
    "under = RandomUnderSampler(sampling_strategy=1)\n",
    "\n",
    "\n",
    "def objective(trial):\n",
    "    # Define the hyperparameters to be tuned\n",
    "    params = {\n",
    "        \"iterations\": trial.suggest_int(\"iterations\", 100, 1000),\n",
    "        \"learning_rate\": trial.suggest_loguniform(\"learning_rate\", 0.0001, 0.1),\n",
    "        \"depth\": trial.suggest_int(\"depth\", 3, 10),\n",
    "        \"l2_leaf_reg\": trial.suggest_loguniform(\"l2_leaf_reg\", 0.1, 10.0),\n",
    "        #\"random_seed\": 42,\n",
    "        \"random_seed\": 123\n",
    "        # \"eval_metric\": \"Recall\",\n",
    "        \"eval_metric\": \"TotalF1\",\n",
    "        \"verbose\": False,\n",
    "    }\n",
    "\n",
    "    # Create the CatBoost classifier with the suggested hyperparameters\n",
    "    model = CatBoostClassifier(**params)\n",
    "\n",
    "    # Create the pipeline\n",
    "    pipeline = imbpipeline(\n",
    "        [\n",
    "            (\"preprocessor\", scaler),\n",
    "            (\"oversampling\", over),\n",
    "            (\"undersampling\", under),\n",
    "            (\"classifier\", model),\n",
    "        ]\n",
    "    )\n",
    "\n",
    "    # Fit the model on the training data\n",
    "    pipeline.fit(X_train, y_train)\n",
    "\n",
    "    # Predict on the validation data\n",
    "    y_pred = pipeline.predict(X_val)\n",
    "\n",
    "    # Calculate the recall score\n",
    "    recall = recall_score(y_val, y_pred)\n",
    "\n",
    "    return recall\n",
    "\n",
    "\n",
    "# Create an Optuna study\n",
    "study = optuna.create_study(\n",
    "    direction=\"maximize\",\n",
    "    storage=\"sqlite:///db.sqlite3\",\n",
    "    study_name=\"quadratic-simple\",\n",
    "    load_if_exists=True,\n",
    ")\n",
    "\n",
    "# Optimize the objective function\n",
    "study.optimize(objective, n_trials=100, show_progress_bar=True)\n",
    "\n",
    "# Get the best parameters and best recall score\n",
    "best_params = study.best_params\n",
    "best_recall = study.best_value\n",
    "\n",
    "print(\"Best Parameters:\", best_params)\n",
    "print(\"Best Recall:\", best_recall)"
   ]
  },
  {
   "cell_type": "code",
   "execution_count": 54,
   "metadata": {},
   "outputs": [
    {
     "name": "stdout",
     "output_type": "stream",
     "text": [
      "0:\tlearn: 0.6918118\ttotal: 9.41ms\tremaining: 2.95s\n",
      "1:\tlearn: 0.6905497\ttotal: 19ms\tremaining: 2.97s\n",
      "2:\tlearn: 0.6893448\ttotal: 27.5ms\tremaining: 2.86s\n",
      "3:\tlearn: 0.6879850\ttotal: 35.9ms\tremaining: 2.79s\n",
      "4:\tlearn: 0.6865440\ttotal: 44.8ms\tremaining: 2.78s\n",
      "5:\tlearn: 0.6852171\ttotal: 53.5ms\tremaining: 2.76s\n",
      "6:\tlearn: 0.6833507\ttotal: 62.1ms\tremaining: 2.73s\n",
      "7:\tlearn: 0.6821843\ttotal: 71.1ms\tremaining: 2.73s\n",
      "8:\tlearn: 0.6809463\ttotal: 80.2ms\tremaining: 2.73s\n",
      "9:\tlearn: 0.6798196\ttotal: 88.8ms\tremaining: 2.71s\n",
      "10:\tlearn: 0.6786362\ttotal: 98.1ms\tremaining: 2.71s\n",
      "11:\tlearn: 0.6772640\ttotal: 107ms\tremaining: 2.7s\n",
      "12:\tlearn: 0.6762261\ttotal: 116ms\tremaining: 2.69s\n",
      "13:\tlearn: 0.6748034\ttotal: 125ms\tremaining: 2.68s\n",
      "14:\tlearn: 0.6734839\ttotal: 134ms\tremaining: 2.68s\n",
      "15:\tlearn: 0.6723469\ttotal: 143ms\tremaining: 2.67s\n",
      "16:\tlearn: 0.6706960\ttotal: 152ms\tremaining: 2.67s\n",
      "17:\tlearn: 0.6693975\ttotal: 161ms\tremaining: 2.66s\n",
      "18:\tlearn: 0.6681237\ttotal: 171ms\tremaining: 2.66s\n",
      "19:\tlearn: 0.6662921\ttotal: 180ms\tremaining: 2.65s\n",
      "20:\tlearn: 0.6652421\ttotal: 188ms\tremaining: 2.63s\n",
      "21:\tlearn: 0.6635646\ttotal: 198ms\tremaining: 2.64s\n",
      "22:\tlearn: 0.6624552\ttotal: 208ms\tremaining: 2.64s\n",
      "23:\tlearn: 0.6613596\ttotal: 219ms\tremaining: 2.66s\n",
      "24:\tlearn: 0.6602451\ttotal: 229ms\tremaining: 2.66s\n",
      "25:\tlearn: 0.6590230\ttotal: 240ms\tremaining: 2.66s\n",
      "26:\tlearn: 0.6578532\ttotal: 250ms\tremaining: 2.67s\n",
      "27:\tlearn: 0.6568049\ttotal: 259ms\tremaining: 2.65s\n",
      "28:\tlearn: 0.6554631\ttotal: 270ms\tremaining: 2.66s\n",
      "29:\tlearn: 0.6543816\ttotal: 278ms\tremaining: 2.64s\n",
      "30:\tlearn: 0.6530501\ttotal: 288ms\tremaining: 2.64s\n",
      "31:\tlearn: 0.6518663\ttotal: 298ms\tremaining: 2.63s\n",
      "32:\tlearn: 0.6506761\ttotal: 308ms\tremaining: 2.63s\n",
      "33:\tlearn: 0.6496635\ttotal: 318ms\tremaining: 2.63s\n",
      "34:\tlearn: 0.6485741\ttotal: 329ms\tremaining: 2.63s\n",
      "35:\tlearn: 0.6474304\ttotal: 338ms\tremaining: 2.62s\n",
      "36:\tlearn: 0.6461905\ttotal: 348ms\tremaining: 2.61s\n",
      "37:\tlearn: 0.6447858\ttotal: 357ms\tremaining: 2.6s\n",
      "38:\tlearn: 0.6436704\ttotal: 367ms\tremaining: 2.6s\n",
      "39:\tlearn: 0.6425118\ttotal: 377ms\tremaining: 2.59s\n",
      "40:\tlearn: 0.6414198\ttotal: 386ms\tremaining: 2.58s\n",
      "41:\tlearn: 0.6404887\ttotal: 396ms\tremaining: 2.58s\n",
      "42:\tlearn: 0.6389643\ttotal: 406ms\tremaining: 2.57s\n",
      "43:\tlearn: 0.6379049\ttotal: 417ms\tremaining: 2.57s\n",
      "44:\tlearn: 0.6368338\ttotal: 428ms\tremaining: 2.57s\n",
      "45:\tlearn: 0.6357204\ttotal: 439ms\tremaining: 2.57s\n",
      "46:\tlearn: 0.6344861\ttotal: 451ms\tremaining: 2.57s\n",
      "47:\tlearn: 0.6334406\ttotal: 465ms\tremaining: 2.58s\n",
      "48:\tlearn: 0.6324389\ttotal: 477ms\tremaining: 2.59s\n",
      "49:\tlearn: 0.6310566\ttotal: 489ms\tremaining: 2.59s\n",
      "50:\tlearn: 0.6300203\ttotal: 500ms\tremaining: 2.59s\n",
      "51:\tlearn: 0.6288185\ttotal: 513ms\tremaining: 2.6s\n",
      "52:\tlearn: 0.6276828\ttotal: 526ms\tremaining: 2.6s\n",
      "53:\tlearn: 0.6266076\ttotal: 537ms\tremaining: 2.6s\n",
      "54:\tlearn: 0.6255783\ttotal: 547ms\tremaining: 2.59s\n",
      "55:\tlearn: 0.6247193\ttotal: 559ms\tremaining: 2.58s\n",
      "56:\tlearn: 0.6236752\ttotal: 570ms\tremaining: 2.58s\n",
      "57:\tlearn: 0.6228066\ttotal: 582ms\tremaining: 2.58s\n",
      "58:\tlearn: 0.6217817\ttotal: 593ms\tremaining: 2.57s\n",
      "59:\tlearn: 0.6208040\ttotal: 606ms\tremaining: 2.58s\n",
      "60:\tlearn: 0.6198114\ttotal: 617ms\tremaining: 2.57s\n",
      "61:\tlearn: 0.6188532\ttotal: 629ms\tremaining: 2.56s\n",
      "62:\tlearn: 0.6179368\ttotal: 640ms\tremaining: 2.56s\n",
      "63:\tlearn: 0.6167143\ttotal: 650ms\tremaining: 2.55s\n",
      "64:\tlearn: 0.6157434\ttotal: 661ms\tremaining: 2.54s\n",
      "65:\tlearn: 0.6145796\ttotal: 671ms\tremaining: 2.53s\n",
      "66:\tlearn: 0.6135365\ttotal: 681ms\tremaining: 2.52s\n",
      "67:\tlearn: 0.6124597\ttotal: 692ms\tremaining: 2.51s\n",
      "68:\tlearn: 0.6114373\ttotal: 701ms\tremaining: 2.5s\n",
      "69:\tlearn: 0.6103523\ttotal: 711ms\tremaining: 2.49s\n",
      "70:\tlearn: 0.6094822\ttotal: 721ms\tremaining: 2.48s\n",
      "71:\tlearn: 0.6084585\ttotal: 731ms\tremaining: 2.47s\n",
      "72:\tlearn: 0.6074789\ttotal: 742ms\tremaining: 2.46s\n",
      "73:\tlearn: 0.6063995\ttotal: 752ms\tremaining: 2.45s\n",
      "74:\tlearn: 0.6054485\ttotal: 762ms\tremaining: 2.44s\n",
      "75:\tlearn: 0.6044997\ttotal: 771ms\tremaining: 2.42s\n",
      "76:\tlearn: 0.6035204\ttotal: 780ms\tremaining: 2.41s\n",
      "77:\tlearn: 0.6025954\ttotal: 790ms\tremaining: 2.4s\n",
      "78:\tlearn: 0.6016097\ttotal: 800ms\tremaining: 2.39s\n",
      "79:\tlearn: 0.6006467\ttotal: 810ms\tremaining: 2.38s\n",
      "80:\tlearn: 0.5997327\ttotal: 819ms\tremaining: 2.37s\n",
      "81:\tlearn: 0.5987205\ttotal: 829ms\tremaining: 2.35s\n",
      "82:\tlearn: 0.5973346\ttotal: 839ms\tremaining: 2.34s\n",
      "83:\tlearn: 0.5963276\ttotal: 849ms\tremaining: 2.33s\n",
      "84:\tlearn: 0.5955035\ttotal: 858ms\tremaining: 2.32s\n",
      "85:\tlearn: 0.5945493\ttotal: 868ms\tremaining: 2.31s\n",
      "86:\tlearn: 0.5936750\ttotal: 878ms\tremaining: 2.3s\n",
      "87:\tlearn: 0.5927009\ttotal: 888ms\tremaining: 2.29s\n",
      "88:\tlearn: 0.5914407\ttotal: 897ms\tremaining: 2.28s\n",
      "89:\tlearn: 0.5904991\ttotal: 907ms\tremaining: 2.27s\n",
      "90:\tlearn: 0.5895998\ttotal: 917ms\tremaining: 2.26s\n",
      "91:\tlearn: 0.5887830\ttotal: 926ms\tremaining: 2.24s\n",
      "92:\tlearn: 0.5875436\ttotal: 936ms\tremaining: 2.23s\n",
      "93:\tlearn: 0.5866683\ttotal: 947ms\tremaining: 2.23s\n",
      "94:\tlearn: 0.5856314\ttotal: 957ms\tremaining: 2.22s\n",
      "95:\tlearn: 0.5848336\ttotal: 967ms\tremaining: 2.21s\n",
      "96:\tlearn: 0.5838795\ttotal: 976ms\tremaining: 2.19s\n",
      "97:\tlearn: 0.5829123\ttotal: 987ms\tremaining: 2.19s\n",
      "98:\tlearn: 0.5820525\ttotal: 998ms\tremaining: 2.18s\n",
      "99:\tlearn: 0.5811458\ttotal: 1.01s\tremaining: 2.17s\n",
      "100:\tlearn: 0.5802942\ttotal: 1.02s\tremaining: 2.16s\n",
      "101:\tlearn: 0.5794025\ttotal: 1.03s\tremaining: 2.15s\n",
      "102:\tlearn: 0.5784306\ttotal: 1.04s\tremaining: 2.14s\n",
      "103:\tlearn: 0.5776429\ttotal: 1.05s\tremaining: 2.13s\n",
      "104:\tlearn: 0.5768355\ttotal: 1.06s\tremaining: 2.12s\n",
      "105:\tlearn: 0.5760587\ttotal: 1.07s\tremaining: 2.11s\n",
      "106:\tlearn: 0.5751239\ttotal: 1.08s\tremaining: 2.1s\n",
      "107:\tlearn: 0.5739286\ttotal: 1.09s\tremaining: 2.09s\n",
      "108:\tlearn: 0.5728535\ttotal: 1.1s\tremaining: 2.08s\n",
      "109:\tlearn: 0.5719196\ttotal: 1.11s\tremaining: 2.07s\n",
      "110:\tlearn: 0.5711506\ttotal: 1.12s\tremaining: 2.06s\n",
      "111:\tlearn: 0.5702681\ttotal: 1.13s\tremaining: 2.05s\n",
      "112:\tlearn: 0.5694141\ttotal: 1.14s\tremaining: 2.04s\n",
      "113:\tlearn: 0.5685699\ttotal: 1.15s\tremaining: 2.03s\n",
      "114:\tlearn: 0.5676876\ttotal: 1.16s\tremaining: 2.02s\n",
      "115:\tlearn: 0.5669175\ttotal: 1.17s\tremaining: 2s\n",
      "116:\tlearn: 0.5660164\ttotal: 1.18s\tremaining: 2s\n",
      "117:\tlearn: 0.5646643\ttotal: 1.19s\tremaining: 1.98s\n",
      "118:\tlearn: 0.5638556\ttotal: 1.2s\tremaining: 1.97s\n",
      "119:\tlearn: 0.5625597\ttotal: 1.21s\tremaining: 1.96s\n",
      "120:\tlearn: 0.5617514\ttotal: 1.22s\tremaining: 1.95s\n",
      "121:\tlearn: 0.5608663\ttotal: 1.23s\tremaining: 1.94s\n",
      "122:\tlearn: 0.5601241\ttotal: 1.24s\tremaining: 1.93s\n",
      "123:\tlearn: 0.5593815\ttotal: 1.25s\tremaining: 1.92s\n",
      "124:\tlearn: 0.5584915\ttotal: 1.26s\tremaining: 1.91s\n",
      "125:\tlearn: 0.5576848\ttotal: 1.27s\tremaining: 1.91s\n",
      "126:\tlearn: 0.5569043\ttotal: 1.28s\tremaining: 1.89s\n",
      "127:\tlearn: 0.5557742\ttotal: 1.29s\tremaining: 1.88s\n",
      "128:\tlearn: 0.5550286\ttotal: 1.3s\tremaining: 1.87s\n",
      "129:\tlearn: 0.5542402\ttotal: 1.31s\tremaining: 1.86s\n",
      "130:\tlearn: 0.5534543\ttotal: 1.32s\tremaining: 1.85s\n",
      "131:\tlearn: 0.5527367\ttotal: 1.33s\tremaining: 1.84s\n",
      "132:\tlearn: 0.5520121\ttotal: 1.34s\tremaining: 1.83s\n",
      "133:\tlearn: 0.5512262\ttotal: 1.35s\tremaining: 1.82s\n",
      "134:\tlearn: 0.5504875\ttotal: 1.36s\tremaining: 1.81s\n",
      "135:\tlearn: 0.5497884\ttotal: 1.37s\tremaining: 1.8s\n",
      "136:\tlearn: 0.5491150\ttotal: 1.38s\tremaining: 1.79s\n",
      "137:\tlearn: 0.5482942\ttotal: 1.39s\tremaining: 1.78s\n",
      "138:\tlearn: 0.5469835\ttotal: 1.4s\tremaining: 1.77s\n",
      "139:\tlearn: 0.5462174\ttotal: 1.41s\tremaining: 1.76s\n",
      "140:\tlearn: 0.5454524\ttotal: 1.42s\tremaining: 1.75s\n",
      "141:\tlearn: 0.5446251\ttotal: 1.43s\tremaining: 1.74s\n",
      "142:\tlearn: 0.5438766\ttotal: 1.44s\tremaining: 1.73s\n",
      "143:\tlearn: 0.5429664\ttotal: 1.45s\tremaining: 1.72s\n",
      "144:\tlearn: 0.5421746\ttotal: 1.46s\tremaining: 1.71s\n",
      "145:\tlearn: 0.5415978\ttotal: 1.47s\tremaining: 1.7s\n",
      "146:\tlearn: 0.5409187\ttotal: 1.48s\tremaining: 1.69s\n",
      "147:\tlearn: 0.5401674\ttotal: 1.49s\tremaining: 1.68s\n",
      "148:\tlearn: 0.5394931\ttotal: 1.5s\tremaining: 1.67s\n",
      "149:\tlearn: 0.5387063\ttotal: 1.51s\tremaining: 1.67s\n",
      "150:\tlearn: 0.5380783\ttotal: 1.53s\tremaining: 1.66s\n",
      "151:\tlearn: 0.5372645\ttotal: 1.54s\tremaining: 1.65s\n",
      "152:\tlearn: 0.5364708\ttotal: 1.55s\tremaining: 1.64s\n",
      "153:\tlearn: 0.5358099\ttotal: 1.56s\tremaining: 1.63s\n",
      "154:\tlearn: 0.5351042\ttotal: 1.57s\tremaining: 1.62s\n",
      "155:\tlearn: 0.5342755\ttotal: 1.58s\tremaining: 1.61s\n",
      "156:\tlearn: 0.5335434\ttotal: 1.59s\tremaining: 1.6s\n",
      "157:\tlearn: 0.5328669\ttotal: 1.6s\tremaining: 1.59s\n",
      "158:\tlearn: 0.5319911\ttotal: 1.61s\tremaining: 1.58s\n",
      "159:\tlearn: 0.5309333\ttotal: 1.63s\tremaining: 1.57s\n",
      "160:\tlearn: 0.5302899\ttotal: 1.64s\tremaining: 1.56s\n",
      "161:\tlearn: 0.5295223\ttotal: 1.65s\tremaining: 1.55s\n",
      "162:\tlearn: 0.5288041\ttotal: 1.66s\tremaining: 1.54s\n",
      "163:\tlearn: 0.5281665\ttotal: 1.67s\tremaining: 1.53s\n",
      "164:\tlearn: 0.5275006\ttotal: 1.68s\tremaining: 1.52s\n",
      "165:\tlearn: 0.5262810\ttotal: 1.69s\tremaining: 1.51s\n",
      "166:\tlearn: 0.5256487\ttotal: 1.7s\tremaining: 1.5s\n",
      "167:\tlearn: 0.5249006\ttotal: 1.71s\tremaining: 1.49s\n",
      "168:\tlearn: 0.5240608\ttotal: 1.72s\tremaining: 1.48s\n",
      "169:\tlearn: 0.5234806\ttotal: 1.73s\tremaining: 1.47s\n",
      "170:\tlearn: 0.5229236\ttotal: 1.74s\tremaining: 1.46s\n",
      "171:\tlearn: 0.5222736\ttotal: 1.75s\tremaining: 1.45s\n",
      "172:\tlearn: 0.5216331\ttotal: 1.76s\tremaining: 1.44s\n",
      "173:\tlearn: 0.5206075\ttotal: 1.77s\tremaining: 1.43s\n",
      "174:\tlearn: 0.5195393\ttotal: 1.78s\tremaining: 1.43s\n",
      "175:\tlearn: 0.5189698\ttotal: 1.79s\tremaining: 1.42s\n",
      "176:\tlearn: 0.5182542\ttotal: 1.8s\tremaining: 1.41s\n",
      "177:\tlearn: 0.5175561\ttotal: 1.81s\tremaining: 1.39s\n",
      "178:\tlearn: 0.5165057\ttotal: 1.82s\tremaining: 1.38s\n",
      "179:\tlearn: 0.5157976\ttotal: 1.83s\tremaining: 1.37s\n",
      "180:\tlearn: 0.5151518\ttotal: 1.84s\tremaining: 1.36s\n",
      "181:\tlearn: 0.5145630\ttotal: 1.85s\tremaining: 1.35s\n",
      "182:\tlearn: 0.5139428\ttotal: 1.86s\tremaining: 1.34s\n",
      "183:\tlearn: 0.5131339\ttotal: 1.87s\tremaining: 1.33s\n",
      "184:\tlearn: 0.5120383\ttotal: 1.88s\tremaining: 1.32s\n",
      "185:\tlearn: 0.5109907\ttotal: 1.89s\tremaining: 1.31s\n",
      "186:\tlearn: 0.5100324\ttotal: 1.9s\tremaining: 1.3s\n",
      "187:\tlearn: 0.5094219\ttotal: 1.91s\tremaining: 1.29s\n",
      "188:\tlearn: 0.5088425\ttotal: 1.92s\tremaining: 1.28s\n",
      "189:\tlearn: 0.5075756\ttotal: 1.93s\tremaining: 1.27s\n",
      "190:\tlearn: 0.5067448\ttotal: 1.94s\tremaining: 1.26s\n",
      "191:\tlearn: 0.5060213\ttotal: 1.95s\tremaining: 1.25s\n",
      "192:\tlearn: 0.5053900\ttotal: 1.96s\tremaining: 1.24s\n",
      "193:\tlearn: 0.5048050\ttotal: 1.97s\tremaining: 1.23s\n",
      "194:\tlearn: 0.5042301\ttotal: 1.98s\tremaining: 1.22s\n",
      "195:\tlearn: 0.5036252\ttotal: 1.99s\tremaining: 1.21s\n",
      "196:\tlearn: 0.5030700\ttotal: 2s\tremaining: 1.2s\n",
      "197:\tlearn: 0.5024227\ttotal: 2.01s\tremaining: 1.19s\n",
      "198:\tlearn: 0.5017367\ttotal: 2.02s\tremaining: 1.18s\n",
      "199:\tlearn: 0.5011596\ttotal: 2.03s\tremaining: 1.17s\n",
      "200:\tlearn: 0.5005621\ttotal: 2.04s\tremaining: 1.16s\n",
      "201:\tlearn: 0.5000030\ttotal: 2.05s\tremaining: 1.15s\n",
      "202:\tlearn: 0.4990402\ttotal: 2.06s\tremaining: 1.14s\n",
      "203:\tlearn: 0.4984431\ttotal: 2.07s\tremaining: 1.13s\n",
      "204:\tlearn: 0.4978327\ttotal: 2.08s\tremaining: 1.11s\n",
      "205:\tlearn: 0.4972758\ttotal: 2.09s\tremaining: 1.1s\n",
      "206:\tlearn: 0.4967031\ttotal: 2.1s\tremaining: 1.09s\n",
      "207:\tlearn: 0.4957580\ttotal: 2.11s\tremaining: 1.09s\n",
      "208:\tlearn: 0.4947664\ttotal: 2.12s\tremaining: 1.08s\n",
      "209:\tlearn: 0.4941194\ttotal: 2.14s\tremaining: 1.07s\n",
      "210:\tlearn: 0.4935618\ttotal: 2.15s\tremaining: 1.06s\n",
      "211:\tlearn: 0.4930454\ttotal: 2.16s\tremaining: 1.05s\n",
      "212:\tlearn: 0.4924948\ttotal: 2.18s\tremaining: 1.04s\n",
      "213:\tlearn: 0.4919729\ttotal: 2.19s\tremaining: 1.03s\n",
      "214:\tlearn: 0.4915084\ttotal: 2.2s\tremaining: 1.02s\n",
      "215:\tlearn: 0.4908458\ttotal: 2.22s\tremaining: 1.02s\n",
      "216:\tlearn: 0.4902418\ttotal: 2.23s\tremaining: 1.01s\n",
      "217:\tlearn: 0.4896086\ttotal: 2.25s\tremaining: 999ms\n",
      "218:\tlearn: 0.4890722\ttotal: 2.26s\tremaining: 990ms\n",
      "219:\tlearn: 0.4884444\ttotal: 2.27s\tremaining: 981ms\n",
      "220:\tlearn: 0.4876524\ttotal: 2.29s\tremaining: 975ms\n",
      "221:\tlearn: 0.4870241\ttotal: 2.31s\tremaining: 968ms\n",
      "222:\tlearn: 0.4865791\ttotal: 2.33s\tremaining: 959ms\n",
      "223:\tlearn: 0.4855959\ttotal: 2.34s\tremaining: 951ms\n",
      "224:\tlearn: 0.4849868\ttotal: 2.35s\tremaining: 942ms\n",
      "225:\tlearn: 0.4844575\ttotal: 2.37s\tremaining: 933ms\n",
      "226:\tlearn: 0.4839418\ttotal: 2.38s\tremaining: 924ms\n",
      "227:\tlearn: 0.4830085\ttotal: 2.4s\tremaining: 914ms\n",
      "228:\tlearn: 0.4823523\ttotal: 2.41s\tremaining: 905ms\n",
      "229:\tlearn: 0.4815280\ttotal: 2.42s\tremaining: 895ms\n",
      "230:\tlearn: 0.4808417\ttotal: 2.44s\tremaining: 885ms\n",
      "231:\tlearn: 0.4803289\ttotal: 2.45s\tremaining: 876ms\n",
      "232:\tlearn: 0.4794266\ttotal: 2.46s\tremaining: 867ms\n",
      "233:\tlearn: 0.4788651\ttotal: 2.48s\tremaining: 857ms\n",
      "234:\tlearn: 0.4783572\ttotal: 2.49s\tremaining: 848ms\n",
      "235:\tlearn: 0.4774124\ttotal: 2.5s\tremaining: 838ms\n",
      "236:\tlearn: 0.4768508\ttotal: 2.52s\tremaining: 829ms\n",
      "237:\tlearn: 0.4762501\ttotal: 2.53s\tremaining: 819ms\n",
      "238:\tlearn: 0.4757265\ttotal: 2.55s\tremaining: 810ms\n",
      "239:\tlearn: 0.4752242\ttotal: 2.56s\tremaining: 800ms\n",
      "240:\tlearn: 0.4746849\ttotal: 2.57s\tremaining: 790ms\n",
      "241:\tlearn: 0.4738348\ttotal: 2.59s\tremaining: 781ms\n",
      "242:\tlearn: 0.4733694\ttotal: 2.6s\tremaining: 772ms\n",
      "243:\tlearn: 0.4725547\ttotal: 2.62s\tremaining: 763ms\n",
      "244:\tlearn: 0.4720947\ttotal: 2.64s\tremaining: 754ms\n",
      "245:\tlearn: 0.4715436\ttotal: 2.65s\tremaining: 745ms\n",
      "246:\tlearn: 0.4710914\ttotal: 2.67s\tremaining: 736ms\n",
      "247:\tlearn: 0.4705762\ttotal: 2.69s\tremaining: 727ms\n",
      "248:\tlearn: 0.4701617\ttotal: 2.7s\tremaining: 717ms\n",
      "249:\tlearn: 0.4696778\ttotal: 2.72s\tremaining: 707ms\n",
      "250:\tlearn: 0.4692532\ttotal: 2.73s\tremaining: 697ms\n",
      "251:\tlearn: 0.4687423\ttotal: 2.75s\tremaining: 686ms\n",
      "252:\tlearn: 0.4679939\ttotal: 2.76s\tremaining: 676ms\n",
      "253:\tlearn: 0.4674414\ttotal: 2.77s\tremaining: 666ms\n",
      "254:\tlearn: 0.4668118\ttotal: 2.79s\tremaining: 655ms\n",
      "255:\tlearn: 0.4663137\ttotal: 2.8s\tremaining: 645ms\n",
      "256:\tlearn: 0.4658689\ttotal: 2.81s\tremaining: 634ms\n",
      "257:\tlearn: 0.4654445\ttotal: 2.82s\tremaining: 624ms\n",
      "258:\tlearn: 0.4649468\ttotal: 2.84s\tremaining: 613ms\n",
      "259:\tlearn: 0.4641331\ttotal: 2.85s\tremaining: 603ms\n",
      "260:\tlearn: 0.4637005\ttotal: 2.86s\tremaining: 592ms\n",
      "261:\tlearn: 0.4632723\ttotal: 2.88s\tremaining: 582ms\n",
      "262:\tlearn: 0.4628859\ttotal: 2.89s\tremaining: 571ms\n",
      "263:\tlearn: 0.4625398\ttotal: 2.9s\tremaining: 561ms\n",
      "264:\tlearn: 0.4619817\ttotal: 2.92s\tremaining: 550ms\n",
      "265:\tlearn: 0.4611644\ttotal: 2.93s\tremaining: 540ms\n",
      "266:\tlearn: 0.4603491\ttotal: 2.95s\tremaining: 530ms\n",
      "267:\tlearn: 0.4598766\ttotal: 2.96s\tremaining: 519ms\n",
      "268:\tlearn: 0.4593783\ttotal: 2.97s\tremaining: 509ms\n",
      "269:\tlearn: 0.4588736\ttotal: 2.98s\tremaining: 498ms\n",
      "270:\tlearn: 0.4584931\ttotal: 3s\tremaining: 487ms\n",
      "271:\tlearn: 0.4577507\ttotal: 3.01s\tremaining: 476ms\n",
      "272:\tlearn: 0.4572238\ttotal: 3.02s\tremaining: 465ms\n",
      "273:\tlearn: 0.4568593\ttotal: 3.03s\tremaining: 454ms\n",
      "274:\tlearn: 0.4563176\ttotal: 3.04s\tremaining: 442ms\n",
      "275:\tlearn: 0.4558101\ttotal: 3.05s\tremaining: 431ms\n",
      "276:\tlearn: 0.4550536\ttotal: 3.06s\tremaining: 420ms\n",
      "277:\tlearn: 0.4545522\ttotal: 3.07s\tremaining: 409ms\n",
      "278:\tlearn: 0.4537326\ttotal: 3.08s\tremaining: 398ms\n",
      "279:\tlearn: 0.4532206\ttotal: 3.1s\tremaining: 387ms\n",
      "280:\tlearn: 0.4527002\ttotal: 3.11s\tremaining: 376ms\n",
      "281:\tlearn: 0.4519405\ttotal: 3.12s\tremaining: 365ms\n",
      "282:\tlearn: 0.4515848\ttotal: 3.13s\tremaining: 354ms\n",
      "283:\tlearn: 0.4510798\ttotal: 3.14s\tremaining: 343ms\n",
      "284:\tlearn: 0.4507242\ttotal: 3.15s\tremaining: 332ms\n",
      "285:\tlearn: 0.4503755\ttotal: 3.16s\tremaining: 321ms\n",
      "286:\tlearn: 0.4499698\ttotal: 3.17s\tremaining: 310ms\n",
      "287:\tlearn: 0.4495553\ttotal: 3.18s\tremaining: 299ms\n",
      "288:\tlearn: 0.4490689\ttotal: 3.19s\tremaining: 287ms\n",
      "289:\tlearn: 0.4486106\ttotal: 3.21s\tremaining: 276ms\n",
      "290:\tlearn: 0.4478397\ttotal: 3.21s\tremaining: 265ms\n",
      "291:\tlearn: 0.4474790\ttotal: 3.22s\tremaining: 254ms\n",
      "292:\tlearn: 0.4469917\ttotal: 3.23s\tremaining: 243ms\n",
      "293:\tlearn: 0.4465395\ttotal: 3.24s\tremaining: 232ms\n",
      "294:\tlearn: 0.4459855\ttotal: 3.25s\tremaining: 220ms\n",
      "295:\tlearn: 0.4455967\ttotal: 3.26s\tremaining: 209ms\n",
      "296:\tlearn: 0.4450610\ttotal: 3.27s\tremaining: 198ms\n",
      "297:\tlearn: 0.4447051\ttotal: 3.28s\tremaining: 187ms\n",
      "298:\tlearn: 0.4438305\ttotal: 3.29s\tremaining: 176ms\n",
      "299:\tlearn: 0.4434581\ttotal: 3.3s\tremaining: 165ms\n",
      "300:\tlearn: 0.4430587\ttotal: 3.31s\tremaining: 154ms\n",
      "301:\tlearn: 0.4426570\ttotal: 3.32s\tremaining: 143ms\n",
      "302:\tlearn: 0.4422984\ttotal: 3.33s\tremaining: 132ms\n",
      "303:\tlearn: 0.4418758\ttotal: 3.34s\tremaining: 121ms\n",
      "304:\tlearn: 0.4414431\ttotal: 3.35s\tremaining: 110ms\n",
      "305:\tlearn: 0.4408781\ttotal: 3.35s\tremaining: 98.7ms\n",
      "306:\tlearn: 0.4403111\ttotal: 3.37s\tremaining: 87.7ms\n",
      "307:\tlearn: 0.4398728\ttotal: 3.37s\tremaining: 76.7ms\n",
      "308:\tlearn: 0.4394247\ttotal: 3.38s\tremaining: 65.7ms\n",
      "309:\tlearn: 0.4390275\ttotal: 3.39s\tremaining: 54.7ms\n",
      "310:\tlearn: 0.4385664\ttotal: 3.4s\tremaining: 43.8ms\n",
      "311:\tlearn: 0.4381815\ttotal: 3.41s\tremaining: 32.8ms\n",
      "312:\tlearn: 0.4377492\ttotal: 3.42s\tremaining: 21.9ms\n",
      "313:\tlearn: 0.4373507\ttotal: 3.43s\tremaining: 10.9ms\n",
      "314:\tlearn: 0.4369153\ttotal: 3.45s\tremaining: 0us\n"
     ]
    },
    {
     "data": {
      "text/html": [
       "<style>#sk-container-id-2 {color: black;}#sk-container-id-2 pre{padding: 0;}#sk-container-id-2 div.sk-toggleable {background-color: white;}#sk-container-id-2 label.sk-toggleable__label {cursor: pointer;display: block;width: 100%;margin-bottom: 0;padding: 0.3em;box-sizing: border-box;text-align: center;}#sk-container-id-2 label.sk-toggleable__label-arrow:before {content: \"▸\";float: left;margin-right: 0.25em;color: #696969;}#sk-container-id-2 label.sk-toggleable__label-arrow:hover:before {color: black;}#sk-container-id-2 div.sk-estimator:hover label.sk-toggleable__label-arrow:before {color: black;}#sk-container-id-2 div.sk-toggleable__content {max-height: 0;max-width: 0;overflow: hidden;text-align: left;background-color: #f0f8ff;}#sk-container-id-2 div.sk-toggleable__content pre {margin: 0.2em;color: black;border-radius: 0.25em;background-color: #f0f8ff;}#sk-container-id-2 input.sk-toggleable__control:checked~div.sk-toggleable__content {max-height: 200px;max-width: 100%;overflow: auto;}#sk-container-id-2 input.sk-toggleable__control:checked~label.sk-toggleable__label-arrow:before {content: \"▾\";}#sk-container-id-2 div.sk-estimator input.sk-toggleable__control:checked~label.sk-toggleable__label {background-color: #d4ebff;}#sk-container-id-2 div.sk-label input.sk-toggleable__control:checked~label.sk-toggleable__label {background-color: #d4ebff;}#sk-container-id-2 input.sk-hidden--visually {border: 0;clip: rect(1px 1px 1px 1px);clip: rect(1px, 1px, 1px, 1px);height: 1px;margin: -1px;overflow: hidden;padding: 0;position: absolute;width: 1px;}#sk-container-id-2 div.sk-estimator {font-family: monospace;background-color: #f0f8ff;border: 1px dotted black;border-radius: 0.25em;box-sizing: border-box;margin-bottom: 0.5em;}#sk-container-id-2 div.sk-estimator:hover {background-color: #d4ebff;}#sk-container-id-2 div.sk-parallel-item::after {content: \"\";width: 100%;border-bottom: 1px solid gray;flex-grow: 1;}#sk-container-id-2 div.sk-label:hover label.sk-toggleable__label {background-color: #d4ebff;}#sk-container-id-2 div.sk-serial::before {content: \"\";position: absolute;border-left: 1px solid gray;box-sizing: border-box;top: 0;bottom: 0;left: 50%;z-index: 0;}#sk-container-id-2 div.sk-serial {display: flex;flex-direction: column;align-items: center;background-color: white;padding-right: 0.2em;padding-left: 0.2em;position: relative;}#sk-container-id-2 div.sk-item {position: relative;z-index: 1;}#sk-container-id-2 div.sk-parallel {display: flex;align-items: stretch;justify-content: center;background-color: white;position: relative;}#sk-container-id-2 div.sk-item::before, #sk-container-id-2 div.sk-parallel-item::before {content: \"\";position: absolute;border-left: 1px solid gray;box-sizing: border-box;top: 0;bottom: 0;left: 50%;z-index: -1;}#sk-container-id-2 div.sk-parallel-item {display: flex;flex-direction: column;z-index: 1;position: relative;background-color: white;}#sk-container-id-2 div.sk-parallel-item:first-child::after {align-self: flex-end;width: 50%;}#sk-container-id-2 div.sk-parallel-item:last-child::after {align-self: flex-start;width: 50%;}#sk-container-id-2 div.sk-parallel-item:only-child::after {width: 0;}#sk-container-id-2 div.sk-dashed-wrapped {border: 1px dashed gray;margin: 0 0.4em 0.5em 0.4em;box-sizing: border-box;padding-bottom: 0.4em;background-color: white;}#sk-container-id-2 div.sk-label label {font-family: monospace;font-weight: bold;display: inline-block;line-height: 1.2em;}#sk-container-id-2 div.sk-label-container {text-align: center;}#sk-container-id-2 div.sk-container {/* jupyter's `normalize.less` sets `[hidden] { display: none; }` but bootstrap.min.css set `[hidden] { display: none !important; }` so we also need the `!important` here to be able to override the default hidden behavior on the sphinx rendered scikit-learn.org. See: https://github.com/scikit-learn/scikit-learn/issues/21755 */display: inline-block !important;position: relative;}#sk-container-id-2 div.sk-text-repr-fallback {display: none;}</style><div id=\"sk-container-id-2\" class=\"sk-top-container\"><div class=\"sk-text-repr-fallback\"><pre>Pipeline(steps=[(&#x27;preprocessor&#x27;, StandardScaler()),\n",
       "                (&#x27;oversampling&#x27;, SMOTE(sampling_strategy=0.3)),\n",
       "                (&#x27;undersampling&#x27;, RandomUnderSampler(sampling_strategy=1)),\n",
       "                (&#x27;classifier&#x27;,\n",
       "                 &lt;catboost.core.CatBoostClassifier object at 0x000002545A8122D0&gt;)])</pre><b>In a Jupyter environment, please rerun this cell to show the HTML representation or trust the notebook. <br />On GitHub, the HTML representation is unable to render, please try loading this page with nbviewer.org.</b></div><div class=\"sk-container\" hidden><div class=\"sk-item sk-dashed-wrapped\"><div class=\"sk-label-container\"><div class=\"sk-label sk-toggleable\"><input class=\"sk-toggleable__control sk-hidden--visually\" id=\"sk-estimator-id-6\" type=\"checkbox\" ><label for=\"sk-estimator-id-6\" class=\"sk-toggleable__label sk-toggleable__label-arrow\">Pipeline</label><div class=\"sk-toggleable__content\"><pre>Pipeline(steps=[(&#x27;preprocessor&#x27;, StandardScaler()),\n",
       "                (&#x27;oversampling&#x27;, SMOTE(sampling_strategy=0.3)),\n",
       "                (&#x27;undersampling&#x27;, RandomUnderSampler(sampling_strategy=1)),\n",
       "                (&#x27;classifier&#x27;,\n",
       "                 &lt;catboost.core.CatBoostClassifier object at 0x000002545A8122D0&gt;)])</pre></div></div></div><div class=\"sk-serial\"><div class=\"sk-item\"><div class=\"sk-estimator sk-toggleable\"><input class=\"sk-toggleable__control sk-hidden--visually\" id=\"sk-estimator-id-7\" type=\"checkbox\" ><label for=\"sk-estimator-id-7\" class=\"sk-toggleable__label sk-toggleable__label-arrow\">StandardScaler</label><div class=\"sk-toggleable__content\"><pre>StandardScaler()</pre></div></div></div><div class=\"sk-item\"><div class=\"sk-estimator sk-toggleable\"><input class=\"sk-toggleable__control sk-hidden--visually\" id=\"sk-estimator-id-8\" type=\"checkbox\" ><label for=\"sk-estimator-id-8\" class=\"sk-toggleable__label sk-toggleable__label-arrow\">SMOTE</label><div class=\"sk-toggleable__content\"><pre>SMOTE(sampling_strategy=0.3)</pre></div></div></div><div class=\"sk-item\"><div class=\"sk-estimator sk-toggleable\"><input class=\"sk-toggleable__control sk-hidden--visually\" id=\"sk-estimator-id-9\" type=\"checkbox\" ><label for=\"sk-estimator-id-9\" class=\"sk-toggleable__label sk-toggleable__label-arrow\">RandomUnderSampler</label><div class=\"sk-toggleable__content\"><pre>RandomUnderSampler(sampling_strategy=1)</pre></div></div></div><div class=\"sk-item\"><div class=\"sk-estimator sk-toggleable\"><input class=\"sk-toggleable__control sk-hidden--visually\" id=\"sk-estimator-id-10\" type=\"checkbox\" ><label for=\"sk-estimator-id-10\" class=\"sk-toggleable__label sk-toggleable__label-arrow\">CatBoostClassifier</label><div class=\"sk-toggleable__content\"><pre>&lt;catboost.core.CatBoostClassifier object at 0x000002545A8122D0&gt;</pre></div></div></div></div></div></div></div>"
      ],
      "text/plain": [
       "Pipeline(steps=[('preprocessor', StandardScaler()),\n",
       "                ('oversampling', SMOTE(sampling_strategy=0.3)),\n",
       "                ('undersampling', RandomUnderSampler(sampling_strategy=1)),\n",
       "                ('classifier',\n",
       "                 <catboost.core.CatBoostClassifier object at 0x000002545A8122D0>)])"
      ]
     },
     "execution_count": 54,
     "metadata": {},
     "output_type": "execute_result"
    }
   ],
   "source": [
    "# Get the best parameters\n",
    "best_params = study.best_trial.params\n",
    "\n",
    "# Create the best model with the best parameters\n",
    "best_model = CatBoostClassifier(**best_params)\n",
    "\n",
    "\n",
    "# Create the pipeline\n",
    "pipeline = imbpipeline(\n",
    "    [\n",
    "        (\"preprocessor\", scaler),\n",
    "        (\"oversampling\", over),\n",
    "        (\"undersampling\", under),\n",
    "        (\"classifier\", best_model),\n",
    "    ]\n",
    ")\n",
    "\n",
    "# Fit the best model on the training data\n",
    "pipeline.fit(X_train, y_train)"
   ]
  },
  {
   "cell_type": "code",
   "execution_count": 55,
   "metadata": {},
   "outputs": [
    {
     "name": "stderr",
     "output_type": "stream",
     "text": [
      "findfont: Font family 'Helvetica' not found.\n",
      "findfont: Font family 'Helvetica' not found.\n",
      "findfont: Font family 'Helvetica' not found.\n",
      "findfont: Font family 'Helvetica' not found.\n",
      "findfont: Font family 'Helvetica' not found.\n",
      "findfont: Font family 'Helvetica' not found.\n",
      "findfont: Font family 'Helvetica' not found.\n",
      "findfont: Font family 'Helvetica' not found.\n",
      "findfont: Font family 'Helvetica' not found.\n",
      "findfont: Font family 'Helvetica' not found.\n",
      "findfont: Font family 'Helvetica' not found.\n",
      "findfont: Font family 'Helvetica' not found.\n",
      "findfont: Font family 'Helvetica' not found.\n",
      "findfont: Font family 'Helvetica' not found.\n",
      "findfont: Font family 'Helvetica' not found.\n",
      "findfont: Font family 'Helvetica' not found.\n",
      "findfont: Font family 'Helvetica' not found.\n",
      "findfont: Font family 'Helvetica' not found.\n",
      "findfont: Font family 'Helvetica' not found.\n",
      "findfont: Font family 'Helvetica' not found.\n",
      "findfont: Font family 'Helvetica' not found.\n",
      "findfont: Font family 'Helvetica' not found.\n",
      "findfont: Font family 'Helvetica' not found.\n",
      "findfont: Font family 'Helvetica' not found.\n",
      "findfont: Font family 'Helvetica' not found.\n",
      "findfont: Font family 'Helvetica' not found.\n",
      "findfont: Font family 'Helvetica' not found.\n",
      "findfont: Font family 'Helvetica' not found.\n",
      "findfont: Font family 'Helvetica' not found.\n",
      "findfont: Font family 'Helvetica' not found.\n",
      "findfont: Font family 'Helvetica' not found.\n",
      "findfont: Font family 'Helvetica' not found.\n",
      "findfont: Font family 'Helvetica' not found.\n",
      "findfont: Font family 'Helvetica' not found.\n",
      "findfont: Font family 'Helvetica' not found.\n",
      "findfont: Font family 'Helvetica' not found.\n",
      "findfont: Font family 'Helvetica' not found.\n",
      "findfont: Font family 'Helvetica' not found.\n",
      "findfont: Font family 'Helvetica' not found.\n",
      "findfont: Font family 'Helvetica' not found.\n",
      "findfont: Font family 'Helvetica' not found.\n",
      "findfont: Font family 'Helvetica' not found.\n",
      "findfont: Font family 'Helvetica' not found.\n",
      "findfont: Font family 'Helvetica' not found.\n",
      "findfont: Font family 'Helvetica' not found.\n",
      "findfont: Font family 'Helvetica' not found.\n",
      "findfont: Font family 'Helvetica' not found.\n",
      "findfont: Font family 'Helvetica' not found.\n",
      "findfont: Font family 'Helvetica' not found.\n",
      "findfont: Font family 'Helvetica' not found.\n",
      "findfont: Font family 'Helvetica' not found.\n",
      "findfont: Font family 'Helvetica' not found.\n",
      "findfont: Font family 'Helvetica' not found.\n",
      "findfont: Font family 'Helvetica' not found.\n",
      "findfont: Font family 'Helvetica' not found.\n"
     ]
    }
   ],
   "source": [
    "y_pred_train = pipeline.predict(X_train)\n",
    "y_proba_train = pipeline.predict_proba(X_train)\n",
    "\n",
    "y_pred_test = pipeline.predict(X_test)\n",
    "y_proba_test = pipeline.predict_proba(X_test)\n",
    "\n",
    "\n",
    "report = pd.DataFrame(\n",
    "    classification_report(y_test, y_pred_test, output_dict=True)\n",
    ").transpose()\n",
    "\n",
    "\n",
    "\n",
    "dfi.export(report, f\"../figures/optimised.catBoost.png\", table_conversion=\"matplotlib\")"
   ]
  },
  {
   "cell_type": "code",
   "execution_count": 56,
   "metadata": {},
   "outputs": [
    {
     "data": {
      "image/png": "[encoded data removed]",
      "text/plain": [
       "<Figure size 500x300 with 2 Axes>"
      ]
     },
     "metadata": {},
     "output_type": "display_data"
    }
   ],
   "source": [
    "fig, ax = plt.subplots(1, 2, sharey=True, figsize=(5, 3))\n",
    "ConfusionMatrixDisplay.from_predictions(y_test, y_pred_test, ax=ax[0], colorbar=False)\n",
    "ConfusionMatrixDisplay.from_predictions(\n",
    "    y_test,\n",
    "    y_pred_test,\n",
    "    normalize=\"true\",\n",
    "    values_format=\".2f\",\n",
    "    ax=ax[1],\n",
    "    im_kw={\"vmin\": 0, \"vmax\": 1},\n",
    "    colorbar=False,\n",
    ")\n",
    "fig.suptitle(\"Confusion Matrix\")\n",
    "ax[0].set_title(\"Counts\")\n",
    "ax[1].set_title(\"Proportions\")\n",
    "ax[1].set_ylabel(None)\n",
    "fig.savefig(f\"../figures/optimised.catBoost.cm.png\")"
   ]
  },
  {
   "cell_type": "code",
   "execution_count": 57,
   "metadata": {},
   "outputs": [
    {
     "data": {
      "image/png": "[encoded data removed]",
      "text/plain": [
       "<Figure size 640x480 with 1 Axes>"
      ]
     },
     "metadata": {},
     "output_type": "display_data"
    }
   ],
   "source": [
    "def make_roc_df(name, predictions, labels):\n",
    "    fp, tp, _ = roc_curve(labels, predictions)\n",
    "    return pd.DataFrame(\n",
    "        {\"False Positive\": fp * 100, \"True Positive\": tp * 100, \"Dataset\": name}\n",
    "    )\n",
    "\n",
    "\n",
    "roc_df = pd.concat(\n",
    "    [\n",
    "        make_roc_df(\"Training\", y_proba_train[:, -1], y_train),\n",
    "        make_roc_df(\"Test\", y_proba_test[:, -1], y_test),\n",
    "    ]\n",
    ")\n",
    "\n",
    "sns.lineplot(roc_df, x=\"False Positive\", y=\"True Positive\", hue=\"Dataset\")\n",
    "plt.title(\"ROC Curve - Optimised CatBoost\")\n",
    "plt.show()"
   ]
  }
 ],
 "metadata": {
  "kernelspec": {
   "display_name": "base",
   "language": "python",
   "name": "python3"
  },
  "language_info": {
   "codemirror_mode": {
    "name": "ipython",
    "version": 3
   },
   "file_extension": ".py",
   "mimetype": "text/x-python",
   "name": "python",
   "nbconvert_exporter": "python",
   "pygments_lexer": "ipython3",
   "version": "3.11.5"
  }
 },
 "nbformat": 4,
 "nbformat_minor": 2
}
