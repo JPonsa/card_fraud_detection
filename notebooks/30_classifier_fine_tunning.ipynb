{
 "cells": [
  {
   "cell_type": "code",
   "execution_count": 1,
   "metadata": {},
   "outputs": [],
   "source": [
    "from collections import Counter\n",
    "import numpy as np\n",
    "import pandas as pd\n",
    "\n",
    "# Plotting\n",
    "import matplotlib.pyplot as plt\n",
    "import seaborn as sns\n",
    "import dataframe_image as dfi\n",
    "\n",
    "# Preprocessing and Model Selection\n",
    "from sklearn.compose import ColumnTransformer\n",
    "from sklearn.model_selection import cross_validate\n",
    "from sklearn.pipeline import Pipeline\n",
    "from sklearn.preprocessing import RobustScaler\n",
    "from sklearn.metrics import classification_report, ConfusionMatrixDisplay, roc_curve\n",
    "\n",
    "from sklearn.preprocessing import StandardScaler\n",
    "\n",
    "from imblearn.over_sampling import SMOTE\n",
    "from imblearn.under_sampling import RandomUnderSampler\n",
    "from imblearn.pipeline import Pipeline as imbpipeline\n",
    "\n",
    "from catboost import CatBoostClassifier"
   ]
  },
  {
   "cell_type": "code",
   "execution_count": 2,
   "metadata": {},
   "outputs": [],
   "source": [
    "preprocessed_path = \"../data/preprocessed/\"\n",
    "\n",
    "train_df = pd.read_csv(preprocessed_path + \"train.csv\")\n",
    "test_df = pd.read_csv(preprocessed_path + \"test.csv\")\n",
    "val_df = pd.read_csv(preprocessed_path + \"validate.csv\")\n",
    "\n",
    "\n",
    "target = [\"TX_FRAUD\"]\n",
    "\n",
    "y_train = train_df[target].values\n",
    "y_val = val_df[target].values\n",
    "y_test = test_df[target].values\n",
    "\n",
    "X_train = train_df.drop(target, axis=1)\n",
    "X_val = val_df.drop(target, axis=1)\n",
    "X_test = test_df.drop(target, axis=1)"
   ]
  },
  {
   "cell_type": "code",
   "execution_count": 3,
   "metadata": {},
   "outputs": [
    {
     "name": "stderr",
     "output_type": "stream",
     "text": [
      "[I 2023-12-19 19:23:26,104] Using an existing study with name 'quadratic-simple' instead of creating a new one.\n"
     ]
    },
    {
     "data": {
      "application/vnd.jupyter.widget-view+json": {
       "model_id": "00968f1ae8c647ff98c90f4cad5b37aa",
       "version_major": 2,
       "version_minor": 0
      },
      "text/plain": [
       "  0%|          | 0/100 [00:00<?, ?it/s]"
      ]
     },
     "metadata": {},
     "output_type": "display_data"
    },
    {
     "name": "stderr",
     "output_type": "stream",
     "text": [
      "C:\\Users\\joanp\\AppData\\Local\\Temp\\ipykernel_28324\\565608352.py:14: FutureWarning: suggest_loguniform has been deprecated in v3.0.0. This feature will be removed in v6.0.0. See https://github.com/optuna/optuna/releases/tag/v3.0.0. Use suggest_float(..., log=True) instead.\n",
      "  \"learning_rate\": trial.suggest_loguniform(\"learning_rate\", 0.0001, 0.1),\n",
      "C:\\Users\\joanp\\AppData\\Local\\Temp\\ipykernel_28324\\565608352.py:16: FutureWarning: suggest_loguniform has been deprecated in v3.0.0. This feature will be removed in v6.0.0. See https://github.com/optuna/optuna/releases/tag/v3.0.0. Use suggest_float(..., log=True) instead.\n",
      "  \"l2_leaf_reg\": trial.suggest_loguniform(\"l2_leaf_reg\", 0.1, 10.0),\n"
     ]
    },
    {
     "name": "stdout",
     "output_type": "stream",
     "text": [
      "[I 2023-12-19 19:23:29,102] Trial 501 finished with value: 0.7064935064935065 and parameters: {'iterations': 350, 'learning_rate': 0.0003696164235801669, 'depth': 6, 'l2_leaf_reg': 2.5705233946877417}. Best is trial 395 with value: 0.7064935064935065.\n"
     ]
    },
    {
     "name": "stderr",
     "output_type": "stream",
     "text": [
      "C:\\Users\\joanp\\AppData\\Local\\Temp\\ipykernel_28324\\565608352.py:14: FutureWarning: suggest_loguniform has been deprecated in v3.0.0. This feature will be removed in v6.0.0. See https://github.com/optuna/optuna/releases/tag/v3.0.0. Use suggest_float(..., log=True) instead.\n",
      "  \"learning_rate\": trial.suggest_loguniform(\"learning_rate\", 0.0001, 0.1),\n",
      "C:\\Users\\joanp\\AppData\\Local\\Temp\\ipykernel_28324\\565608352.py:16: FutureWarning: suggest_loguniform has been deprecated in v3.0.0. This feature will be removed in v6.0.0. See https://github.com/optuna/optuna/releases/tag/v3.0.0. Use suggest_float(..., log=True) instead.\n",
      "  \"l2_leaf_reg\": trial.suggest_loguniform(\"l2_leaf_reg\", 0.1, 10.0),\n"
     ]
    },
    {
     "name": "stdout",
     "output_type": "stream",
     "text": [
      "[I 2023-12-19 19:23:31,800] Trial 502 finished with value: 0.6883116883116883 and parameters: {'iterations': 351, 'learning_rate': 0.000441273124397568, 'depth': 6, 'l2_leaf_reg': 0.3008867341771429}. Best is trial 395 with value: 0.7064935064935065.\n"
     ]
    },
    {
     "name": "stderr",
     "output_type": "stream",
     "text": [
      "C:\\Users\\joanp\\AppData\\Local\\Temp\\ipykernel_28324\\565608352.py:14: FutureWarning: suggest_loguniform has been deprecated in v3.0.0. This feature will be removed in v6.0.0. See https://github.com/optuna/optuna/releases/tag/v3.0.0. Use suggest_float(..., log=True) instead.\n",
      "  \"learning_rate\": trial.suggest_loguniform(\"learning_rate\", 0.0001, 0.1),\n",
      "C:\\Users\\joanp\\AppData\\Local\\Temp\\ipykernel_28324\\565608352.py:16: FutureWarning: suggest_loguniform has been deprecated in v3.0.0. This feature will be removed in v6.0.0. See https://github.com/optuna/optuna/releases/tag/v3.0.0. Use suggest_float(..., log=True) instead.\n",
      "  \"l2_leaf_reg\": trial.suggest_loguniform(\"l2_leaf_reg\", 0.1, 10.0),\n"
     ]
    },
    {
     "name": "stdout",
     "output_type": "stream",
     "text": [
      "[I 2023-12-19 19:23:34,736] Trial 503 finished with value: 0.6961038961038961 and parameters: {'iterations': 374, 'learning_rate': 0.0003917707092533631, 'depth': 6, 'l2_leaf_reg': 3.69293922145137}. Best is trial 395 with value: 0.7064935064935065.\n"
     ]
    },
    {
     "name": "stderr",
     "output_type": "stream",
     "text": [
      "C:\\Users\\joanp\\AppData\\Local\\Temp\\ipykernel_28324\\565608352.py:14: FutureWarning: suggest_loguniform has been deprecated in v3.0.0. This feature will be removed in v6.0.0. See https://github.com/optuna/optuna/releases/tag/v3.0.0. Use suggest_float(..., log=True) instead.\n",
      "  \"learning_rate\": trial.suggest_loguniform(\"learning_rate\", 0.0001, 0.1),\n",
      "C:\\Users\\joanp\\AppData\\Local\\Temp\\ipykernel_28324\\565608352.py:16: FutureWarning: suggest_loguniform has been deprecated in v3.0.0. This feature will be removed in v6.0.0. See https://github.com/optuna/optuna/releases/tag/v3.0.0. Use suggest_float(..., log=True) instead.\n",
      "  \"l2_leaf_reg\": trial.suggest_loguniform(\"l2_leaf_reg\", 0.1, 10.0),\n"
     ]
    },
    {
     "name": "stdout",
     "output_type": "stream",
     "text": [
      "[I 2023-12-19 19:23:37,768] Trial 504 finished with value: 0.6909090909090909 and parameters: {'iterations': 353, 'learning_rate': 0.00035607100636174047, 'depth': 6, 'l2_leaf_reg': 3.3256012495292957}. Best is trial 395 with value: 0.7064935064935065.\n"
     ]
    },
    {
     "name": "stderr",
     "output_type": "stream",
     "text": [
      "C:\\Users\\joanp\\AppData\\Local\\Temp\\ipykernel_28324\\565608352.py:14: FutureWarning: suggest_loguniform has been deprecated in v3.0.0. This feature will be removed in v6.0.0. See https://github.com/optuna/optuna/releases/tag/v3.0.0. Use suggest_float(..., log=True) instead.\n",
      "  \"learning_rate\": trial.suggest_loguniform(\"learning_rate\", 0.0001, 0.1),\n",
      "C:\\Users\\joanp\\AppData\\Local\\Temp\\ipykernel_28324\\565608352.py:16: FutureWarning: suggest_loguniform has been deprecated in v3.0.0. This feature will be removed in v6.0.0. See https://github.com/optuna/optuna/releases/tag/v3.0.0. Use suggest_float(..., log=True) instead.\n",
      "  \"l2_leaf_reg\": trial.suggest_loguniform(\"l2_leaf_reg\", 0.1, 10.0),\n"
     ]
    },
    {
     "name": "stdout",
     "output_type": "stream",
     "text": [
      "[I 2023-12-19 19:23:40,547] Trial 505 finished with value: 0.6909090909090909 and parameters: {'iterations': 334, 'learning_rate': 0.0002452113189981259, 'depth': 6, 'l2_leaf_reg': 1.6154821350613284}. Best is trial 395 with value: 0.7064935064935065.\n"
     ]
    },
    {
     "name": "stderr",
     "output_type": "stream",
     "text": [
      "C:\\Users\\joanp\\AppData\\Local\\Temp\\ipykernel_28324\\565608352.py:14: FutureWarning: suggest_loguniform has been deprecated in v3.0.0. This feature will be removed in v6.0.0. See https://github.com/optuna/optuna/releases/tag/v3.0.0. Use suggest_float(..., log=True) instead.\n",
      "  \"learning_rate\": trial.suggest_loguniform(\"learning_rate\", 0.0001, 0.1),\n",
      "C:\\Users\\joanp\\AppData\\Local\\Temp\\ipykernel_28324\\565608352.py:16: FutureWarning: suggest_loguniform has been deprecated in v3.0.0. This feature will be removed in v6.0.0. See https://github.com/optuna/optuna/releases/tag/v3.0.0. Use suggest_float(..., log=True) instead.\n",
      "  \"l2_leaf_reg\": trial.suggest_loguniform(\"l2_leaf_reg\", 0.1, 10.0),\n"
     ]
    },
    {
     "name": "stdout",
     "output_type": "stream",
     "text": [
      "[I 2023-12-19 19:23:43,832] Trial 506 finished with value: 0.7012987012987013 and parameters: {'iterations': 337, 'learning_rate': 0.0004997703518219676, 'depth': 6, 'l2_leaf_reg': 2.0226167868687517}. Best is trial 395 with value: 0.7064935064935065.\n"
     ]
    },
    {
     "name": "stderr",
     "output_type": "stream",
     "text": [
      "C:\\Users\\joanp\\AppData\\Local\\Temp\\ipykernel_28324\\565608352.py:14: FutureWarning: suggest_loguniform has been deprecated in v3.0.0. This feature will be removed in v6.0.0. See https://github.com/optuna/optuna/releases/tag/v3.0.0. Use suggest_float(..., log=True) instead.\n",
      "  \"learning_rate\": trial.suggest_loguniform(\"learning_rate\", 0.0001, 0.1),\n",
      "C:\\Users\\joanp\\AppData\\Local\\Temp\\ipykernel_28324\\565608352.py:16: FutureWarning: suggest_loguniform has been deprecated in v3.0.0. This feature will be removed in v6.0.0. See https://github.com/optuna/optuna/releases/tag/v3.0.0. Use suggest_float(..., log=True) instead.\n",
      "  \"l2_leaf_reg\": trial.suggest_loguniform(\"l2_leaf_reg\", 0.1, 10.0),\n"
     ]
    },
    {
     "name": "stdout",
     "output_type": "stream",
     "text": [
      "[I 2023-12-19 19:23:47,482] Trial 507 finished with value: 0.7012987012987013 and parameters: {'iterations': 360, 'learning_rate': 0.0006150865648627568, 'depth': 6, 'l2_leaf_reg': 0.5633359713440363}. Best is trial 395 with value: 0.7064935064935065.\n"
     ]
    },
    {
     "name": "stderr",
     "output_type": "stream",
     "text": [
      "C:\\Users\\joanp\\AppData\\Local\\Temp\\ipykernel_28324\\565608352.py:14: FutureWarning: suggest_loguniform has been deprecated in v3.0.0. This feature will be removed in v6.0.0. See https://github.com/optuna/optuna/releases/tag/v3.0.0. Use suggest_float(..., log=True) instead.\n",
      "  \"learning_rate\": trial.suggest_loguniform(\"learning_rate\", 0.0001, 0.1),\n",
      "C:\\Users\\joanp\\AppData\\Local\\Temp\\ipykernel_28324\\565608352.py:16: FutureWarning: suggest_loguniform has been deprecated in v3.0.0. This feature will be removed in v6.0.0. See https://github.com/optuna/optuna/releases/tag/v3.0.0. Use suggest_float(..., log=True) instead.\n",
      "  \"l2_leaf_reg\": trial.suggest_loguniform(\"l2_leaf_reg\", 0.1, 10.0),\n"
     ]
    },
    {
     "name": "stdout",
     "output_type": "stream",
     "text": [
      "[I 2023-12-19 19:23:52,041] Trial 508 finished with value: 0.6519480519480519 and parameters: {'iterations': 521, 'learning_rate': 0.00928854533706062, 'depth': 5, 'l2_leaf_reg': 4.063674553143377}. Best is trial 395 with value: 0.7064935064935065.\n"
     ]
    },
    {
     "name": "stderr",
     "output_type": "stream",
     "text": [
      "C:\\Users\\joanp\\AppData\\Local\\Temp\\ipykernel_28324\\565608352.py:14: FutureWarning: suggest_loguniform has been deprecated in v3.0.0. This feature will be removed in v6.0.0. See https://github.com/optuna/optuna/releases/tag/v3.0.0. Use suggest_float(..., log=True) instead.\n",
      "  \"learning_rate\": trial.suggest_loguniform(\"learning_rate\", 0.0001, 0.1),\n",
      "C:\\Users\\joanp\\AppData\\Local\\Temp\\ipykernel_28324\\565608352.py:16: FutureWarning: suggest_loguniform has been deprecated in v3.0.0. This feature will be removed in v6.0.0. See https://github.com/optuna/optuna/releases/tag/v3.0.0. Use suggest_float(..., log=True) instead.\n",
      "  \"l2_leaf_reg\": trial.suggest_loguniform(\"l2_leaf_reg\", 0.1, 10.0),\n"
     ]
    },
    {
     "name": "stdout",
     "output_type": "stream",
     "text": [
      "[I 2023-12-19 19:23:56,028] Trial 509 finished with value: 0.6883116883116883 and parameters: {'iterations': 366, 'learning_rate': 0.0003737370714781161, 'depth': 6, 'l2_leaf_reg': 0.757680697241178}. Best is trial 395 with value: 0.7064935064935065.\n"
     ]
    },
    {
     "name": "stderr",
     "output_type": "stream",
     "text": [
      "C:\\Users\\joanp\\AppData\\Local\\Temp\\ipykernel_28324\\565608352.py:14: FutureWarning: suggest_loguniform has been deprecated in v3.0.0. This feature will be removed in v6.0.0. See https://github.com/optuna/optuna/releases/tag/v3.0.0. Use suggest_float(..., log=True) instead.\n",
      "  \"learning_rate\": trial.suggest_loguniform(\"learning_rate\", 0.0001, 0.1),\n",
      "C:\\Users\\joanp\\AppData\\Local\\Temp\\ipykernel_28324\\565608352.py:16: FutureWarning: suggest_loguniform has been deprecated in v3.0.0. This feature will be removed in v6.0.0. See https://github.com/optuna/optuna/releases/tag/v3.0.0. Use suggest_float(..., log=True) instead.\n",
      "  \"l2_leaf_reg\": trial.suggest_loguniform(\"l2_leaf_reg\", 0.1, 10.0),\n"
     ]
    },
    {
     "name": "stdout",
     "output_type": "stream",
     "text": [
      "[I 2023-12-19 19:24:00,039] Trial 510 finished with value: 0.6909090909090909 and parameters: {'iterations': 382, 'learning_rate': 0.00034660545400108466, 'depth': 6, 'l2_leaf_reg': 2.49265152624035}. Best is trial 395 with value: 0.7064935064935065.\n"
     ]
    },
    {
     "name": "stderr",
     "output_type": "stream",
     "text": [
      "C:\\Users\\joanp\\AppData\\Local\\Temp\\ipykernel_28324\\565608352.py:14: FutureWarning: suggest_loguniform has been deprecated in v3.0.0. This feature will be removed in v6.0.0. See https://github.com/optuna/optuna/releases/tag/v3.0.0. Use suggest_float(..., log=True) instead.\n",
      "  \"learning_rate\": trial.suggest_loguniform(\"learning_rate\", 0.0001, 0.1),\n",
      "C:\\Users\\joanp\\AppData\\Local\\Temp\\ipykernel_28324\\565608352.py:16: FutureWarning: suggest_loguniform has been deprecated in v3.0.0. This feature will be removed in v6.0.0. See https://github.com/optuna/optuna/releases/tag/v3.0.0. Use suggest_float(..., log=True) instead.\n",
      "  \"l2_leaf_reg\": trial.suggest_loguniform(\"l2_leaf_reg\", 0.1, 10.0),\n"
     ]
    },
    {
     "name": "stdout",
     "output_type": "stream",
     "text": [
      "[I 2023-12-19 19:24:09,287] Trial 511 finished with value: 0.6805194805194805 and parameters: {'iterations': 960, 'learning_rate': 0.000315353370709036, 'depth': 6, 'l2_leaf_reg': 0.9351242333624911}. Best is trial 395 with value: 0.7064935064935065.\n"
     ]
    },
    {
     "name": "stderr",
     "output_type": "stream",
     "text": [
      "C:\\Users\\joanp\\AppData\\Local\\Temp\\ipykernel_28324\\565608352.py:14: FutureWarning: suggest_loguniform has been deprecated in v3.0.0. This feature will be removed in v6.0.0. See https://github.com/optuna/optuna/releases/tag/v3.0.0. Use suggest_float(..., log=True) instead.\n",
      "  \"learning_rate\": trial.suggest_loguniform(\"learning_rate\", 0.0001, 0.1),\n",
      "C:\\Users\\joanp\\AppData\\Local\\Temp\\ipykernel_28324\\565608352.py:16: FutureWarning: suggest_loguniform has been deprecated in v3.0.0. This feature will be removed in v6.0.0. See https://github.com/optuna/optuna/releases/tag/v3.0.0. Use suggest_float(..., log=True) instead.\n",
      "  \"l2_leaf_reg\": trial.suggest_loguniform(\"l2_leaf_reg\", 0.1, 10.0),\n"
     ]
    },
    {
     "name": "stdout",
     "output_type": "stream",
     "text": [
      "[I 2023-12-19 19:24:12,833] Trial 512 finished with value: 0.6935064935064935 and parameters: {'iterations': 341, 'learning_rate': 0.0006615249093426627, 'depth': 6, 'l2_leaf_reg': 0.4809440798369244}. Best is trial 395 with value: 0.7064935064935065.\n"
     ]
    },
    {
     "name": "stderr",
     "output_type": "stream",
     "text": [
      "C:\\Users\\joanp\\AppData\\Local\\Temp\\ipykernel_28324\\565608352.py:14: FutureWarning: suggest_loguniform has been deprecated in v3.0.0. This feature will be removed in v6.0.0. See https://github.com/optuna/optuna/releases/tag/v3.0.0. Use suggest_float(..., log=True) instead.\n",
      "  \"learning_rate\": trial.suggest_loguniform(\"learning_rate\", 0.0001, 0.1),\n",
      "C:\\Users\\joanp\\AppData\\Local\\Temp\\ipykernel_28324\\565608352.py:16: FutureWarning: suggest_loguniform has been deprecated in v3.0.0. This feature will be removed in v6.0.0. See https://github.com/optuna/optuna/releases/tag/v3.0.0. Use suggest_float(..., log=True) instead.\n",
      "  \"l2_leaf_reg\": trial.suggest_loguniform(\"l2_leaf_reg\", 0.1, 10.0),\n"
     ]
    },
    {
     "name": "stdout",
     "output_type": "stream",
     "text": [
      "[I 2023-12-19 19:24:16,775] Trial 513 finished with value: 0.6909090909090909 and parameters: {'iterations': 396, 'learning_rate': 0.00011194833020268101, 'depth': 6, 'l2_leaf_reg': 1.0921822868842228}. Best is trial 395 with value: 0.7064935064935065.\n"
     ]
    },
    {
     "name": "stderr",
     "output_type": "stream",
     "text": [
      "C:\\Users\\joanp\\AppData\\Local\\Temp\\ipykernel_28324\\565608352.py:14: FutureWarning: suggest_loguniform has been deprecated in v3.0.0. This feature will be removed in v6.0.0. See https://github.com/optuna/optuna/releases/tag/v3.0.0. Use suggest_float(..., log=True) instead.\n",
      "  \"learning_rate\": trial.suggest_loguniform(\"learning_rate\", 0.0001, 0.1),\n",
      "C:\\Users\\joanp\\AppData\\Local\\Temp\\ipykernel_28324\\565608352.py:16: FutureWarning: suggest_loguniform has been deprecated in v3.0.0. This feature will be removed in v6.0.0. See https://github.com/optuna/optuna/releases/tag/v3.0.0. Use suggest_float(..., log=True) instead.\n",
      "  \"l2_leaf_reg\": trial.suggest_loguniform(\"l2_leaf_reg\", 0.1, 10.0),\n"
     ]
    },
    {
     "name": "stdout",
     "output_type": "stream",
     "text": [
      "[I 2023-12-19 19:24:19,977] Trial 514 finished with value: 0.6857142857142857 and parameters: {'iterations': 310, 'learning_rate': 0.0007755601832554244, 'depth': 6, 'l2_leaf_reg': 0.710430810424972}. Best is trial 395 with value: 0.7064935064935065.\n"
     ]
    },
    {
     "name": "stderr",
     "output_type": "stream",
     "text": [
      "C:\\Users\\joanp\\AppData\\Local\\Temp\\ipykernel_28324\\565608352.py:14: FutureWarning: suggest_loguniform has been deprecated in v3.0.0. This feature will be removed in v6.0.0. See https://github.com/optuna/optuna/releases/tag/v3.0.0. Use suggest_float(..., log=True) instead.\n",
      "  \"learning_rate\": trial.suggest_loguniform(\"learning_rate\", 0.0001, 0.1),\n",
      "C:\\Users\\joanp\\AppData\\Local\\Temp\\ipykernel_28324\\565608352.py:16: FutureWarning: suggest_loguniform has been deprecated in v3.0.0. This feature will be removed in v6.0.0. See https://github.com/optuna/optuna/releases/tag/v3.0.0. Use suggest_float(..., log=True) instead.\n",
      "  \"l2_leaf_reg\": trial.suggest_loguniform(\"l2_leaf_reg\", 0.1, 10.0),\n"
     ]
    },
    {
     "name": "stdout",
     "output_type": "stream",
     "text": [
      "[I 2023-12-19 19:24:23,273] Trial 515 finished with value: 0.7064935064935065 and parameters: {'iterations': 325, 'learning_rate': 0.0005818913246356643, 'depth': 6, 'l2_leaf_reg': 0.13217243250764157}. Best is trial 395 with value: 0.7064935064935065.\n"
     ]
    },
    {
     "name": "stderr",
     "output_type": "stream",
     "text": [
      "C:\\Users\\joanp\\AppData\\Local\\Temp\\ipykernel_28324\\565608352.py:14: FutureWarning: suggest_loguniform has been deprecated in v3.0.0. This feature will be removed in v6.0.0. See https://github.com/optuna/optuna/releases/tag/v3.0.0. Use suggest_float(..., log=True) instead.\n",
      "  \"learning_rate\": trial.suggest_loguniform(\"learning_rate\", 0.0001, 0.1),\n",
      "C:\\Users\\joanp\\AppData\\Local\\Temp\\ipykernel_28324\\565608352.py:16: FutureWarning: suggest_loguniform has been deprecated in v3.0.0. This feature will be removed in v6.0.0. See https://github.com/optuna/optuna/releases/tag/v3.0.0. Use suggest_float(..., log=True) instead.\n",
      "  \"l2_leaf_reg\": trial.suggest_loguniform(\"l2_leaf_reg\", 0.1, 10.0),\n"
     ]
    },
    {
     "name": "stdout",
     "output_type": "stream",
     "text": [
      "[I 2023-12-19 19:24:26,459] Trial 516 finished with value: 0.6831168831168831 and parameters: {'iterations': 286, 'learning_rate': 0.0005680691000742008, 'depth': 6, 'l2_leaf_reg': 0.16608197562221458}. Best is trial 395 with value: 0.7064935064935065.\n"
     ]
    },
    {
     "name": "stderr",
     "output_type": "stream",
     "text": [
      "C:\\Users\\joanp\\AppData\\Local\\Temp\\ipykernel_28324\\565608352.py:14: FutureWarning: suggest_loguniform has been deprecated in v3.0.0. This feature will be removed in v6.0.0. See https://github.com/optuna/optuna/releases/tag/v3.0.0. Use suggest_float(..., log=True) instead.\n",
      "  \"learning_rate\": trial.suggest_loguniform(\"learning_rate\", 0.0001, 0.1),\n",
      "C:\\Users\\joanp\\AppData\\Local\\Temp\\ipykernel_28324\\565608352.py:16: FutureWarning: suggest_loguniform has been deprecated in v3.0.0. This feature will be removed in v6.0.0. See https://github.com/optuna/optuna/releases/tag/v3.0.0. Use suggest_float(..., log=True) instead.\n",
      "  \"l2_leaf_reg\": trial.suggest_loguniform(\"l2_leaf_reg\", 0.1, 10.0),\n"
     ]
    },
    {
     "name": "stdout",
     "output_type": "stream",
     "text": [
      "[I 2023-12-19 19:24:29,622] Trial 517 finished with value: 0.6883116883116883 and parameters: {'iterations': 303, 'learning_rate': 0.000440471466578607, 'depth': 6, 'l2_leaf_reg': 1.1690815483640926}. Best is trial 395 with value: 0.7064935064935065.\n"
     ]
    },
    {
     "name": "stderr",
     "output_type": "stream",
     "text": [
      "C:\\Users\\joanp\\AppData\\Local\\Temp\\ipykernel_28324\\565608352.py:14: FutureWarning: suggest_loguniform has been deprecated in v3.0.0. This feature will be removed in v6.0.0. See https://github.com/optuna/optuna/releases/tag/v3.0.0. Use suggest_float(..., log=True) instead.\n",
      "  \"learning_rate\": trial.suggest_loguniform(\"learning_rate\", 0.0001, 0.1),\n",
      "C:\\Users\\joanp\\AppData\\Local\\Temp\\ipykernel_28324\\565608352.py:16: FutureWarning: suggest_loguniform has been deprecated in v3.0.0. This feature will be removed in v6.0.0. See https://github.com/optuna/optuna/releases/tag/v3.0.0. Use suggest_float(..., log=True) instead.\n",
      "  \"l2_leaf_reg\": trial.suggest_loguniform(\"l2_leaf_reg\", 0.1, 10.0),\n"
     ]
    },
    {
     "name": "stdout",
     "output_type": "stream",
     "text": [
      "[I 2023-12-19 19:24:32,957] Trial 518 finished with value: 0.7012987012987013 and parameters: {'iterations': 324, 'learning_rate': 0.0004990558433974221, 'depth': 6, 'l2_leaf_reg': 0.15190599274050165}. Best is trial 395 with value: 0.7064935064935065.\n"
     ]
    },
    {
     "name": "stderr",
     "output_type": "stream",
     "text": [
      "C:\\Users\\joanp\\AppData\\Local\\Temp\\ipykernel_28324\\565608352.py:14: FutureWarning: suggest_loguniform has been deprecated in v3.0.0. This feature will be removed in v6.0.0. See https://github.com/optuna/optuna/releases/tag/v3.0.0. Use suggest_float(..., log=True) instead.\n",
      "  \"learning_rate\": trial.suggest_loguniform(\"learning_rate\", 0.0001, 0.1),\n",
      "C:\\Users\\joanp\\AppData\\Local\\Temp\\ipykernel_28324\\565608352.py:16: FutureWarning: suggest_loguniform has been deprecated in v3.0.0. This feature will be removed in v6.0.0. See https://github.com/optuna/optuna/releases/tag/v3.0.0. Use suggest_float(..., log=True) instead.\n",
      "  \"l2_leaf_reg\": trial.suggest_loguniform(\"l2_leaf_reg\", 0.1, 10.0),\n"
     ]
    },
    {
     "name": "stdout",
     "output_type": "stream",
     "text": [
      "[I 2023-12-19 19:24:36,761] Trial 519 finished with value: 0.6987012987012987 and parameters: {'iterations': 388, 'learning_rate': 0.000653152656103073, 'depth': 6, 'l2_leaf_reg': 0.11617863663878292}. Best is trial 395 with value: 0.7064935064935065.\n"
     ]
    },
    {
     "name": "stderr",
     "output_type": "stream",
     "text": [
      "C:\\Users\\joanp\\AppData\\Local\\Temp\\ipykernel_28324\\565608352.py:14: FutureWarning: suggest_loguniform has been deprecated in v3.0.0. This feature will be removed in v6.0.0. See https://github.com/optuna/optuna/releases/tag/v3.0.0. Use suggest_float(..., log=True) instead.\n",
      "  \"learning_rate\": trial.suggest_loguniform(\"learning_rate\", 0.0001, 0.1),\n",
      "C:\\Users\\joanp\\AppData\\Local\\Temp\\ipykernel_28324\\565608352.py:16: FutureWarning: suggest_loguniform has been deprecated in v3.0.0. This feature will be removed in v6.0.0. See https://github.com/optuna/optuna/releases/tag/v3.0.0. Use suggest_float(..., log=True) instead.\n",
      "  \"l2_leaf_reg\": trial.suggest_loguniform(\"l2_leaf_reg\", 0.1, 10.0),\n"
     ]
    },
    {
     "name": "stdout",
     "output_type": "stream",
     "text": [
      "[I 2023-12-19 19:24:42,541] Trial 520 finished with value: 0.6961038961038961 and parameters: {'iterations': 571, 'learning_rate': 0.0005870445306138864, 'depth': 6, 'l2_leaf_reg': 0.13462865073031086}. Best is trial 395 with value: 0.7064935064935065.\n"
     ]
    },
    {
     "name": "stderr",
     "output_type": "stream",
     "text": [
      "C:\\Users\\joanp\\AppData\\Local\\Temp\\ipykernel_28324\\565608352.py:14: FutureWarning: suggest_loguniform has been deprecated in v3.0.0. This feature will be removed in v6.0.0. See https://github.com/optuna/optuna/releases/tag/v3.0.0. Use suggest_float(..., log=True) instead.\n",
      "  \"learning_rate\": trial.suggest_loguniform(\"learning_rate\", 0.0001, 0.1),\n",
      "C:\\Users\\joanp\\AppData\\Local\\Temp\\ipykernel_28324\\565608352.py:16: FutureWarning: suggest_loguniform has been deprecated in v3.0.0. This feature will be removed in v6.0.0. See https://github.com/optuna/optuna/releases/tag/v3.0.0. Use suggest_float(..., log=True) instead.\n",
      "  \"l2_leaf_reg\": trial.suggest_loguniform(\"l2_leaf_reg\", 0.1, 10.0),\n"
     ]
    },
    {
     "name": "stdout",
     "output_type": "stream",
     "text": [
      "[I 2023-12-19 19:24:45,578] Trial 521 finished with value: 0.6909090909090909 and parameters: {'iterations': 285, 'learning_rate': 0.0005246330967910632, 'depth': 6, 'l2_leaf_reg': 0.13571725591504674}. Best is trial 395 with value: 0.7064935064935065.\n"
     ]
    },
    {
     "name": "stderr",
     "output_type": "stream",
     "text": [
      "C:\\Users\\joanp\\AppData\\Local\\Temp\\ipykernel_28324\\565608352.py:14: FutureWarning: suggest_loguniform has been deprecated in v3.0.0. This feature will be removed in v6.0.0. See https://github.com/optuna/optuna/releases/tag/v3.0.0. Use suggest_float(..., log=True) instead.\n",
      "  \"learning_rate\": trial.suggest_loguniform(\"learning_rate\", 0.0001, 0.1),\n",
      "C:\\Users\\joanp\\AppData\\Local\\Temp\\ipykernel_28324\\565608352.py:16: FutureWarning: suggest_loguniform has been deprecated in v3.0.0. This feature will be removed in v6.0.0. See https://github.com/optuna/optuna/releases/tag/v3.0.0. Use suggest_float(..., log=True) instead.\n",
      "  \"l2_leaf_reg\": trial.suggest_loguniform(\"l2_leaf_reg\", 0.1, 10.0),\n"
     ]
    },
    {
     "name": "stdout",
     "output_type": "stream",
     "text": [
      "[I 2023-12-19 19:24:48,968] Trial 522 finished with value: 0.638961038961039 and parameters: {'iterations': 322, 'learning_rate': 0.011061334848518126, 'depth': 6, 'l2_leaf_reg': 0.10573401027212088}. Best is trial 395 with value: 0.7064935064935065.\n"
     ]
    },
    {
     "name": "stderr",
     "output_type": "stream",
     "text": [
      "C:\\Users\\joanp\\AppData\\Local\\Temp\\ipykernel_28324\\565608352.py:14: FutureWarning: suggest_loguniform has been deprecated in v3.0.0. This feature will be removed in v6.0.0. See https://github.com/optuna/optuna/releases/tag/v3.0.0. Use suggest_float(..., log=True) instead.\n",
      "  \"learning_rate\": trial.suggest_loguniform(\"learning_rate\", 0.0001, 0.1),\n",
      "C:\\Users\\joanp\\AppData\\Local\\Temp\\ipykernel_28324\\565608352.py:16: FutureWarning: suggest_loguniform has been deprecated in v3.0.0. This feature will be removed in v6.0.0. See https://github.com/optuna/optuna/releases/tag/v3.0.0. Use suggest_float(..., log=True) instead.\n",
      "  \"l2_leaf_reg\": trial.suggest_loguniform(\"l2_leaf_reg\", 0.1, 10.0),\n"
     ]
    },
    {
     "name": "stdout",
     "output_type": "stream",
     "text": [
      "[I 2023-12-19 19:24:52,519] Trial 523 finished with value: 0.6363636363636364 and parameters: {'iterations': 346, 'learning_rate': 0.01797078816699523, 'depth': 6, 'l2_leaf_reg': 1.2961705869846405}. Best is trial 395 with value: 0.7064935064935065.\n"
     ]
    },
    {
     "name": "stderr",
     "output_type": "stream",
     "text": [
      "C:\\Users\\joanp\\AppData\\Local\\Temp\\ipykernel_28324\\565608352.py:14: FutureWarning: suggest_loguniform has been deprecated in v3.0.0. This feature will be removed in v6.0.0. See https://github.com/optuna/optuna/releases/tag/v3.0.0. Use suggest_float(..., log=True) instead.\n",
      "  \"learning_rate\": trial.suggest_loguniform(\"learning_rate\", 0.0001, 0.1),\n",
      "C:\\Users\\joanp\\AppData\\Local\\Temp\\ipykernel_28324\\565608352.py:16: FutureWarning: suggest_loguniform has been deprecated in v3.0.0. This feature will be removed in v6.0.0. See https://github.com/optuna/optuna/releases/tag/v3.0.0. Use suggest_float(..., log=True) instead.\n",
      "  \"l2_leaf_reg\": trial.suggest_loguniform(\"l2_leaf_reg\", 0.1, 10.0),\n"
     ]
    },
    {
     "name": "stdout",
     "output_type": "stream",
     "text": [
      "[I 2023-12-19 19:24:56,329] Trial 524 finished with value: 0.6961038961038961 and parameters: {'iterations': 372, 'learning_rate': 0.0007118902654927134, 'depth': 6, 'l2_leaf_reg': 0.1270746686896269}. Best is trial 395 with value: 0.7064935064935065.\n"
     ]
    },
    {
     "name": "stderr",
     "output_type": "stream",
     "text": [
      "C:\\Users\\joanp\\AppData\\Local\\Temp\\ipykernel_28324\\565608352.py:14: FutureWarning: suggest_loguniform has been deprecated in v3.0.0. This feature will be removed in v6.0.0. See https://github.com/optuna/optuna/releases/tag/v3.0.0. Use suggest_float(..., log=True) instead.\n",
      "  \"learning_rate\": trial.suggest_loguniform(\"learning_rate\", 0.0001, 0.1),\n",
      "C:\\Users\\joanp\\AppData\\Local\\Temp\\ipykernel_28324\\565608352.py:16: FutureWarning: suggest_loguniform has been deprecated in v3.0.0. This feature will be removed in v6.0.0. See https://github.com/optuna/optuna/releases/tag/v3.0.0. Use suggest_float(..., log=True) instead.\n",
      "  \"l2_leaf_reg\": trial.suggest_loguniform(\"l2_leaf_reg\", 0.1, 10.0),\n"
     ]
    },
    {
     "name": "stdout",
     "output_type": "stream",
     "text": [
      "[I 2023-12-19 19:25:07,643] Trial 525 finished with value: 0.6883116883116883 and parameters: {'iterations': 299, 'learning_rate': 0.00045712817108907374, 'depth': 10, 'l2_leaf_reg': 1.7563994193461592}. Best is trial 395 with value: 0.7064935064935065.\n"
     ]
    },
    {
     "name": "stderr",
     "output_type": "stream",
     "text": [
      "C:\\Users\\joanp\\AppData\\Local\\Temp\\ipykernel_28324\\565608352.py:14: FutureWarning: suggest_loguniform has been deprecated in v3.0.0. This feature will be removed in v6.0.0. See https://github.com/optuna/optuna/releases/tag/v3.0.0. Use suggest_float(..., log=True) instead.\n",
      "  \"learning_rate\": trial.suggest_loguniform(\"learning_rate\", 0.0001, 0.1),\n",
      "C:\\Users\\joanp\\AppData\\Local\\Temp\\ipykernel_28324\\565608352.py:16: FutureWarning: suggest_loguniform has been deprecated in v3.0.0. This feature will be removed in v6.0.0. See https://github.com/optuna/optuna/releases/tag/v3.0.0. Use suggest_float(..., log=True) instead.\n",
      "  \"l2_leaf_reg\": trial.suggest_loguniform(\"l2_leaf_reg\", 0.1, 10.0),\n"
     ]
    },
    {
     "name": "stdout",
     "output_type": "stream",
     "text": [
      "[I 2023-12-19 19:25:11,841] Trial 526 finished with value: 0.6909090909090909 and parameters: {'iterations': 404, 'learning_rate': 0.0003191870386830202, 'depth': 6, 'l2_leaf_reg': 4.533153823610438}. Best is trial 395 with value: 0.7064935064935065.\n"
     ]
    },
    {
     "name": "stderr",
     "output_type": "stream",
     "text": [
      "C:\\Users\\joanp\\AppData\\Local\\Temp\\ipykernel_28324\\565608352.py:14: FutureWarning: suggest_loguniform has been deprecated in v3.0.0. This feature will be removed in v6.0.0. See https://github.com/optuna/optuna/releases/tag/v3.0.0. Use suggest_float(..., log=True) instead.\n",
      "  \"learning_rate\": trial.suggest_loguniform(\"learning_rate\", 0.0001, 0.1),\n",
      "C:\\Users\\joanp\\AppData\\Local\\Temp\\ipykernel_28324\\565608352.py:16: FutureWarning: suggest_loguniform has been deprecated in v3.0.0. This feature will be removed in v6.0.0. See https://github.com/optuna/optuna/releases/tag/v3.0.0. Use suggest_float(..., log=True) instead.\n",
      "  \"l2_leaf_reg\": trial.suggest_loguniform(\"l2_leaf_reg\", 0.1, 10.0),\n"
     ]
    },
    {
     "name": "stdout",
     "output_type": "stream",
     "text": [
      "[I 2023-12-19 19:25:15,724] Trial 527 finished with value: 0.6883116883116883 and parameters: {'iterations': 356, 'learning_rate': 0.00038998691494477943, 'depth': 6, 'l2_leaf_reg': 2.773769096611977}. Best is trial 395 with value: 0.7064935064935065.\n"
     ]
    },
    {
     "name": "stderr",
     "output_type": "stream",
     "text": [
      "C:\\Users\\joanp\\AppData\\Local\\Temp\\ipykernel_28324\\565608352.py:14: FutureWarning: suggest_loguniform has been deprecated in v3.0.0. This feature will be removed in v6.0.0. See https://github.com/optuna/optuna/releases/tag/v3.0.0. Use suggest_float(..., log=True) instead.\n",
      "  \"learning_rate\": trial.suggest_loguniform(\"learning_rate\", 0.0001, 0.1),\n",
      "C:\\Users\\joanp\\AppData\\Local\\Temp\\ipykernel_28324\\565608352.py:16: FutureWarning: suggest_loguniform has been deprecated in v3.0.0. This feature will be removed in v6.0.0. See https://github.com/optuna/optuna/releases/tag/v3.0.0. Use suggest_float(..., log=True) instead.\n",
      "  \"l2_leaf_reg\": trial.suggest_loguniform(\"l2_leaf_reg\", 0.1, 10.0),\n"
     ]
    },
    {
     "name": "stdout",
     "output_type": "stream",
     "text": [
      "[I 2023-12-19 19:25:19,068] Trial 528 finished with value: 0.6779220779220779 and parameters: {'iterations': 318, 'learning_rate': 0.004228517777144642, 'depth': 6, 'l2_leaf_reg': 0.2534850353125209}. Best is trial 395 with value: 0.7064935064935065.\n"
     ]
    },
    {
     "name": "stderr",
     "output_type": "stream",
     "text": [
      "C:\\Users\\joanp\\AppData\\Local\\Temp\\ipykernel_28324\\565608352.py:14: FutureWarning: suggest_loguniform has been deprecated in v3.0.0. This feature will be removed in v6.0.0. See https://github.com/optuna/optuna/releases/tag/v3.0.0. Use suggest_float(..., log=True) instead.\n",
      "  \"learning_rate\": trial.suggest_loguniform(\"learning_rate\", 0.0001, 0.1),\n",
      "C:\\Users\\joanp\\AppData\\Local\\Temp\\ipykernel_28324\\565608352.py:16: FutureWarning: suggest_loguniform has been deprecated in v3.0.0. This feature will be removed in v6.0.0. See https://github.com/optuna/optuna/releases/tag/v3.0.0. Use suggest_float(..., log=True) instead.\n",
      "  \"l2_leaf_reg\": trial.suggest_loguniform(\"l2_leaf_reg\", 0.1, 10.0),\n"
     ]
    },
    {
     "name": "stdout",
     "output_type": "stream",
     "text": [
      "[I 2023-12-19 19:25:22,556] Trial 529 finished with value: 0.5974025974025974 and parameters: {'iterations': 336, 'learning_rate': 0.06175676418259619, 'depth': 6, 'l2_leaf_reg': 0.33986525190499056}. Best is trial 395 with value: 0.7064935064935065.\n"
     ]
    },
    {
     "name": "stderr",
     "output_type": "stream",
     "text": [
      "C:\\Users\\joanp\\AppData\\Local\\Temp\\ipykernel_28324\\565608352.py:14: FutureWarning: suggest_loguniform has been deprecated in v3.0.0. This feature will be removed in v6.0.0. See https://github.com/optuna/optuna/releases/tag/v3.0.0. Use suggest_float(..., log=True) instead.\n",
      "  \"learning_rate\": trial.suggest_loguniform(\"learning_rate\", 0.0001, 0.1),\n",
      "C:\\Users\\joanp\\AppData\\Local\\Temp\\ipykernel_28324\\565608352.py:16: FutureWarning: suggest_loguniform has been deprecated in v3.0.0. This feature will be removed in v6.0.0. See https://github.com/optuna/optuna/releases/tag/v3.0.0. Use suggest_float(..., log=True) instead.\n",
      "  \"l2_leaf_reg\": trial.suggest_loguniform(\"l2_leaf_reg\", 0.1, 10.0),\n"
     ]
    },
    {
     "name": "stdout",
     "output_type": "stream",
     "text": [
      "[I 2023-12-19 19:25:26,454] Trial 530 finished with value: 0.6207792207792208 and parameters: {'iterations': 381, 'learning_rate': 0.01906340736465751, 'depth': 6, 'l2_leaf_reg': 0.19357440685797622}. Best is trial 395 with value: 0.7064935064935065.\n"
     ]
    },
    {
     "name": "stderr",
     "output_type": "stream",
     "text": [
      "C:\\Users\\joanp\\AppData\\Local\\Temp\\ipykernel_28324\\565608352.py:14: FutureWarning: suggest_loguniform has been deprecated in v3.0.0. This feature will be removed in v6.0.0. See https://github.com/optuna/optuna/releases/tag/v3.0.0. Use suggest_float(..., log=True) instead.\n",
      "  \"learning_rate\": trial.suggest_loguniform(\"learning_rate\", 0.0001, 0.1),\n",
      "C:\\Users\\joanp\\AppData\\Local\\Temp\\ipykernel_28324\\565608352.py:16: FutureWarning: suggest_loguniform has been deprecated in v3.0.0. This feature will be removed in v6.0.0. See https://github.com/optuna/optuna/releases/tag/v3.0.0. Use suggest_float(..., log=True) instead.\n",
      "  \"l2_leaf_reg\": trial.suggest_loguniform(\"l2_leaf_reg\", 0.1, 10.0),\n"
     ]
    },
    {
     "name": "stdout",
     "output_type": "stream",
     "text": [
      "[I 2023-12-19 19:25:29,211] Trial 531 finished with value: 0.6805194805194805 and parameters: {'iterations': 275, 'learning_rate': 0.0008205874627528685, 'depth': 5, 'l2_leaf_reg': 0.9941181361143374}. Best is trial 395 with value: 0.7064935064935065.\n"
     ]
    },
    {
     "name": "stderr",
     "output_type": "stream",
     "text": [
      "C:\\Users\\joanp\\AppData\\Local\\Temp\\ipykernel_28324\\565608352.py:14: FutureWarning: suggest_loguniform has been deprecated in v3.0.0. This feature will be removed in v6.0.0. See https://github.com/optuna/optuna/releases/tag/v3.0.0. Use suggest_float(..., log=True) instead.\n",
      "  \"learning_rate\": trial.suggest_loguniform(\"learning_rate\", 0.0001, 0.1),\n",
      "C:\\Users\\joanp\\AppData\\Local\\Temp\\ipykernel_28324\\565608352.py:16: FutureWarning: suggest_loguniform has been deprecated in v3.0.0. This feature will be removed in v6.0.0. See https://github.com/optuna/optuna/releases/tag/v3.0.0. Use suggest_float(..., log=True) instead.\n",
      "  \"l2_leaf_reg\": trial.suggest_loguniform(\"l2_leaf_reg\", 0.1, 10.0),\n"
     ]
    },
    {
     "name": "stdout",
     "output_type": "stream",
     "text": [
      "[I 2023-12-19 19:25:32,539] Trial 532 finished with value: 0.6857142857142857 and parameters: {'iterations': 305, 'learning_rate': 0.000662151185039512, 'depth': 6, 'l2_leaf_reg': 0.4294710105378224}. Best is trial 395 with value: 0.7064935064935065.\n"
     ]
    },
    {
     "name": "stderr",
     "output_type": "stream",
     "text": [
      "C:\\Users\\joanp\\AppData\\Local\\Temp\\ipykernel_28324\\565608352.py:14: FutureWarning: suggest_loguniform has been deprecated in v3.0.0. This feature will be removed in v6.0.0. See https://github.com/optuna/optuna/releases/tag/v3.0.0. Use suggest_float(..., log=True) instead.\n",
      "  \"learning_rate\": trial.suggest_loguniform(\"learning_rate\", 0.0001, 0.1),\n",
      "C:\\Users\\joanp\\AppData\\Local\\Temp\\ipykernel_28324\\565608352.py:16: FutureWarning: suggest_loguniform has been deprecated in v3.0.0. This feature will be removed in v6.0.0. See https://github.com/optuna/optuna/releases/tag/v3.0.0. Use suggest_float(..., log=True) instead.\n",
      "  \"l2_leaf_reg\": trial.suggest_loguniform(\"l2_leaf_reg\", 0.1, 10.0),\n"
     ]
    },
    {
     "name": "stdout",
     "output_type": "stream",
     "text": [
      "[I 2023-12-19 19:25:35,976] Trial 533 finished with value: 0.6233766233766234 and parameters: {'iterations': 331, 'learning_rate': 0.04228489092173304, 'depth': 6, 'l2_leaf_reg': 3.8496435508194193}. Best is trial 395 with value: 0.7064935064935065.\n"
     ]
    },
    {
     "name": "stderr",
     "output_type": "stream",
     "text": [
      "C:\\Users\\joanp\\AppData\\Local\\Temp\\ipykernel_28324\\565608352.py:14: FutureWarning: suggest_loguniform has been deprecated in v3.0.0. This feature will be removed in v6.0.0. See https://github.com/optuna/optuna/releases/tag/v3.0.0. Use suggest_float(..., log=True) instead.\n",
      "  \"learning_rate\": trial.suggest_loguniform(\"learning_rate\", 0.0001, 0.1),\n",
      "C:\\Users\\joanp\\AppData\\Local\\Temp\\ipykernel_28324\\565608352.py:16: FutureWarning: suggest_loguniform has been deprecated in v3.0.0. This feature will be removed in v6.0.0. See https://github.com/optuna/optuna/releases/tag/v3.0.0. Use suggest_float(..., log=True) instead.\n",
      "  \"l2_leaf_reg\": trial.suggest_loguniform(\"l2_leaf_reg\", 0.1, 10.0),\n"
     ]
    },
    {
     "name": "stdout",
     "output_type": "stream",
     "text": [
      "[I 2023-12-19 19:25:39,572] Trial 534 finished with value: 0.6831168831168831 and parameters: {'iterations': 358, 'learning_rate': 0.0005707035474123669, 'depth': 6, 'l2_leaf_reg': 3.1599284351046992}. Best is trial 395 with value: 0.7064935064935065.\n"
     ]
    },
    {
     "name": "stderr",
     "output_type": "stream",
     "text": [
      "C:\\Users\\joanp\\AppData\\Local\\Temp\\ipykernel_28324\\565608352.py:14: FutureWarning: suggest_loguniform has been deprecated in v3.0.0. This feature will be removed in v6.0.0. See https://github.com/optuna/optuna/releases/tag/v3.0.0. Use suggest_float(..., log=True) instead.\n",
      "  \"learning_rate\": trial.suggest_loguniform(\"learning_rate\", 0.0001, 0.1),\n",
      "C:\\Users\\joanp\\AppData\\Local\\Temp\\ipykernel_28324\\565608352.py:16: FutureWarning: suggest_loguniform has been deprecated in v3.0.0. This feature will be removed in v6.0.0. See https://github.com/optuna/optuna/releases/tag/v3.0.0. Use suggest_float(..., log=True) instead.\n",
      "  \"l2_leaf_reg\": trial.suggest_loguniform(\"l2_leaf_reg\", 0.1, 10.0),\n"
     ]
    },
    {
     "name": "stdout",
     "output_type": "stream",
     "text": [
      "[I 2023-12-19 19:25:43,689] Trial 535 finished with value: 0.7038961038961039 and parameters: {'iterations': 414, 'learning_rate': 0.000734015233396793, 'depth': 6, 'l2_leaf_reg': 0.12329681216272557}. Best is trial 395 with value: 0.7064935064935065.\n"
     ]
    },
    {
     "name": "stderr",
     "output_type": "stream",
     "text": [
      "C:\\Users\\joanp\\AppData\\Local\\Temp\\ipykernel_28324\\565608352.py:14: FutureWarning: suggest_loguniform has been deprecated in v3.0.0. This feature will be removed in v6.0.0. See https://github.com/optuna/optuna/releases/tag/v3.0.0. Use suggest_float(..., log=True) instead.\n",
      "  \"learning_rate\": trial.suggest_loguniform(\"learning_rate\", 0.0001, 0.1),\n",
      "C:\\Users\\joanp\\AppData\\Local\\Temp\\ipykernel_28324\\565608352.py:16: FutureWarning: suggest_loguniform has been deprecated in v3.0.0. This feature will be removed in v6.0.0. See https://github.com/optuna/optuna/releases/tag/v3.0.0. Use suggest_float(..., log=True) instead.\n",
      "  \"l2_leaf_reg\": trial.suggest_loguniform(\"l2_leaf_reg\", 0.1, 10.0),\n"
     ]
    },
    {
     "name": "stdout",
     "output_type": "stream",
     "text": [
      "[I 2023-12-19 19:25:47,666] Trial 536 finished with value: 0.6857142857142857 and parameters: {'iterations': 370, 'learning_rate': 0.0007120364757984268, 'depth': 6, 'l2_leaf_reg': 0.1171353373056836}. Best is trial 395 with value: 0.7064935064935065.\n"
     ]
    },
    {
     "name": "stderr",
     "output_type": "stream",
     "text": [
      "C:\\Users\\joanp\\AppData\\Local\\Temp\\ipykernel_28324\\565608352.py:14: FutureWarning: suggest_loguniform has been deprecated in v3.0.0. This feature will be removed in v6.0.0. See https://github.com/optuna/optuna/releases/tag/v3.0.0. Use suggest_float(..., log=True) instead.\n",
      "  \"learning_rate\": trial.suggest_loguniform(\"learning_rate\", 0.0001, 0.1),\n",
      "C:\\Users\\joanp\\AppData\\Local\\Temp\\ipykernel_28324\\565608352.py:16: FutureWarning: suggest_loguniform has been deprecated in v3.0.0. This feature will be removed in v6.0.0. See https://github.com/optuna/optuna/releases/tag/v3.0.0. Use suggest_float(..., log=True) instead.\n",
      "  \"l2_leaf_reg\": trial.suggest_loguniform(\"l2_leaf_reg\", 0.1, 10.0),\n"
     ]
    },
    {
     "name": "stdout",
     "output_type": "stream",
     "text": [
      "[I 2023-12-19 19:25:51,615] Trial 537 finished with value: 0.6961038961038961 and parameters: {'iterations': 395, 'learning_rate': 0.0005288787945394995, 'depth': 6, 'l2_leaf_reg': 0.1243422661900077}. Best is trial 395 with value: 0.7064935064935065.\n"
     ]
    },
    {
     "name": "stderr",
     "output_type": "stream",
     "text": [
      "C:\\Users\\joanp\\AppData\\Local\\Temp\\ipykernel_28324\\565608352.py:14: FutureWarning: suggest_loguniform has been deprecated in v3.0.0. This feature will be removed in v6.0.0. See https://github.com/optuna/optuna/releases/tag/v3.0.0. Use suggest_float(..., log=True) instead.\n",
      "  \"learning_rate\": trial.suggest_loguniform(\"learning_rate\", 0.0001, 0.1),\n",
      "C:\\Users\\joanp\\AppData\\Local\\Temp\\ipykernel_28324\\565608352.py:16: FutureWarning: suggest_loguniform has been deprecated in v3.0.0. This feature will be removed in v6.0.0. See https://github.com/optuna/optuna/releases/tag/v3.0.0. Use suggest_float(..., log=True) instead.\n",
      "  \"l2_leaf_reg\": trial.suggest_loguniform(\"l2_leaf_reg\", 0.1, 10.0),\n"
     ]
    },
    {
     "name": "stdout",
     "output_type": "stream",
     "text": [
      "[I 2023-12-19 19:25:55,723] Trial 538 finished with value: 0.6909090909090909 and parameters: {'iterations': 411, 'learning_rate': 0.0005983580488218765, 'depth': 6, 'l2_leaf_reg': 0.1156661536330503}. Best is trial 395 with value: 0.7064935064935065.\n"
     ]
    },
    {
     "name": "stderr",
     "output_type": "stream",
     "text": [
      "C:\\Users\\joanp\\AppData\\Local\\Temp\\ipykernel_28324\\565608352.py:14: FutureWarning: suggest_loguniform has been deprecated in v3.0.0. This feature will be removed in v6.0.0. See https://github.com/optuna/optuna/releases/tag/v3.0.0. Use suggest_float(..., log=True) instead.\n",
      "  \"learning_rate\": trial.suggest_loguniform(\"learning_rate\", 0.0001, 0.1),\n",
      "C:\\Users\\joanp\\AppData\\Local\\Temp\\ipykernel_28324\\565608352.py:16: FutureWarning: suggest_loguniform has been deprecated in v3.0.0. This feature will be removed in v6.0.0. See https://github.com/optuna/optuna/releases/tag/v3.0.0. Use suggest_float(..., log=True) instead.\n",
      "  \"l2_leaf_reg\": trial.suggest_loguniform(\"l2_leaf_reg\", 0.1, 10.0),\n"
     ]
    },
    {
     "name": "stdout",
     "output_type": "stream",
     "text": [
      "[I 2023-12-19 19:25:59,344] Trial 539 finished with value: 0.6103896103896104 and parameters: {'iterations': 350, 'learning_rate': 0.02791124837203208, 'depth': 6, 'l2_leaf_reg': 0.14251262403389026}. Best is trial 395 with value: 0.7064935064935065.\n"
     ]
    },
    {
     "name": "stderr",
     "output_type": "stream",
     "text": [
      "C:\\Users\\joanp\\AppData\\Local\\Temp\\ipykernel_28324\\565608352.py:14: FutureWarning: suggest_loguniform has been deprecated in v3.0.0. This feature will be removed in v6.0.0. See https://github.com/optuna/optuna/releases/tag/v3.0.0. Use suggest_float(..., log=True) instead.\n",
      "  \"learning_rate\": trial.suggest_loguniform(\"learning_rate\", 0.0001, 0.1),\n",
      "C:\\Users\\joanp\\AppData\\Local\\Temp\\ipykernel_28324\\565608352.py:16: FutureWarning: suggest_loguniform has been deprecated in v3.0.0. This feature will be removed in v6.0.0. See https://github.com/optuna/optuna/releases/tag/v3.0.0. Use suggest_float(..., log=True) instead.\n",
      "  \"l2_leaf_reg\": trial.suggest_loguniform(\"l2_leaf_reg\", 0.1, 10.0),\n"
     ]
    },
    {
     "name": "stdout",
     "output_type": "stream",
     "text": [
      "[I 2023-12-19 19:26:02,854] Trial 540 finished with value: 0.6961038961038961 and parameters: {'iterations': 314, 'learning_rate': 0.0007798762277072785, 'depth': 6, 'l2_leaf_reg': 0.15383928151494736}. Best is trial 395 with value: 0.7064935064935065.\n"
     ]
    },
    {
     "name": "stderr",
     "output_type": "stream",
     "text": [
      "C:\\Users\\joanp\\AppData\\Local\\Temp\\ipykernel_28324\\565608352.py:14: FutureWarning: suggest_loguniform has been deprecated in v3.0.0. This feature will be removed in v6.0.0. See https://github.com/optuna/optuna/releases/tag/v3.0.0. Use suggest_float(..., log=True) instead.\n",
      "  \"learning_rate\": trial.suggest_loguniform(\"learning_rate\", 0.0001, 0.1),\n",
      "C:\\Users\\joanp\\AppData\\Local\\Temp\\ipykernel_28324\\565608352.py:16: FutureWarning: suggest_loguniform has been deprecated in v3.0.0. This feature will be removed in v6.0.0. See https://github.com/optuna/optuna/releases/tag/v3.0.0. Use suggest_float(..., log=True) instead.\n",
      "  \"l2_leaf_reg\": trial.suggest_loguniform(\"l2_leaf_reg\", 0.1, 10.0),\n"
     ]
    },
    {
     "name": "stdout",
     "output_type": "stream",
     "text": [
      "[I 2023-12-19 19:26:06,009] Trial 541 finished with value: 0.6701298701298701 and parameters: {'iterations': 297, 'learning_rate': 0.0047285683714595695, 'depth': 6, 'l2_leaf_reg': 2.1368390027993716}. Best is trial 395 with value: 0.7064935064935065.\n"
     ]
    },
    {
     "name": "stderr",
     "output_type": "stream",
     "text": [
      "C:\\Users\\joanp\\AppData\\Local\\Temp\\ipykernel_28324\\565608352.py:14: FutureWarning: suggest_loguniform has been deprecated in v3.0.0. This feature will be removed in v6.0.0. See https://github.com/optuna/optuna/releases/tag/v3.0.0. Use suggest_float(..., log=True) instead.\n",
      "  \"learning_rate\": trial.suggest_loguniform(\"learning_rate\", 0.0001, 0.1),\n",
      "C:\\Users\\joanp\\AppData\\Local\\Temp\\ipykernel_28324\\565608352.py:16: FutureWarning: suggest_loguniform has been deprecated in v3.0.0. This feature will be removed in v6.0.0. See https://github.com/optuna/optuna/releases/tag/v3.0.0. Use suggest_float(..., log=True) instead.\n",
      "  \"l2_leaf_reg\": trial.suggest_loguniform(\"l2_leaf_reg\", 0.1, 10.0),\n"
     ]
    },
    {
     "name": "stdout",
     "output_type": "stream",
     "text": [
      "[I 2023-12-19 19:26:09,851] Trial 542 finished with value: 0.6909090909090909 and parameters: {'iterations': 384, 'learning_rate': 0.0006601729881037718, 'depth': 6, 'l2_leaf_reg': 0.1051715829837115}. Best is trial 395 with value: 0.7064935064935065.\n"
     ]
    },
    {
     "name": "stderr",
     "output_type": "stream",
     "text": [
      "C:\\Users\\joanp\\AppData\\Local\\Temp\\ipykernel_28324\\565608352.py:14: FutureWarning: suggest_loguniform has been deprecated in v3.0.0. This feature will be removed in v6.0.0. See https://github.com/optuna/optuna/releases/tag/v3.0.0. Use suggest_float(..., log=True) instead.\n",
      "  \"learning_rate\": trial.suggest_loguniform(\"learning_rate\", 0.0001, 0.1),\n",
      "C:\\Users\\joanp\\AppData\\Local\\Temp\\ipykernel_28324\\565608352.py:16: FutureWarning: suggest_loguniform has been deprecated in v3.0.0. This feature will be removed in v6.0.0. See https://github.com/optuna/optuna/releases/tag/v3.0.0. Use suggest_float(..., log=True) instead.\n",
      "  \"l2_leaf_reg\": trial.suggest_loguniform(\"l2_leaf_reg\", 0.1, 10.0),\n"
     ]
    },
    {
     "name": "stdout",
     "output_type": "stream",
     "text": [
      "[I 2023-12-19 19:26:13,278] Trial 543 finished with value: 0.6961038961038961 and parameters: {'iterations': 336, 'learning_rate': 0.00046254492882033435, 'depth': 6, 'l2_leaf_reg': 0.5284629133444302}. Best is trial 395 with value: 0.7064935064935065.\n"
     ]
    },
    {
     "name": "stderr",
     "output_type": "stream",
     "text": [
      "C:\\Users\\joanp\\AppData\\Local\\Temp\\ipykernel_28324\\565608352.py:14: FutureWarning: suggest_loguniform has been deprecated in v3.0.0. This feature will be removed in v6.0.0. See https://github.com/optuna/optuna/releases/tag/v3.0.0. Use suggest_float(..., log=True) instead.\n",
      "  \"learning_rate\": trial.suggest_loguniform(\"learning_rate\", 0.0001, 0.1),\n",
      "C:\\Users\\joanp\\AppData\\Local\\Temp\\ipykernel_28324\\565608352.py:16: FutureWarning: suggest_loguniform has been deprecated in v3.0.0. This feature will be removed in v6.0.0. See https://github.com/optuna/optuna/releases/tag/v3.0.0. Use suggest_float(..., log=True) instead.\n",
      "  \"l2_leaf_reg\": trial.suggest_loguniform(\"l2_leaf_reg\", 0.1, 10.0),\n"
     ]
    },
    {
     "name": "stdout",
     "output_type": "stream",
     "text": [
      "[I 2023-12-19 19:26:17,164] Trial 544 finished with value: 0.6987012987012987 and parameters: {'iterations': 366, 'learning_rate': 0.00039586527810881285, 'depth': 6, 'l2_leaf_reg': 3.3210671530742797}. Best is trial 395 with value: 0.7064935064935065.\n"
     ]
    },
    {
     "name": "stderr",
     "output_type": "stream",
     "text": [
      "C:\\Users\\joanp\\AppData\\Local\\Temp\\ipykernel_28324\\565608352.py:14: FutureWarning: suggest_loguniform has been deprecated in v3.0.0. This feature will be removed in v6.0.0. See https://github.com/optuna/optuna/releases/tag/v3.0.0. Use suggest_float(..., log=True) instead.\n",
      "  \"learning_rate\": trial.suggest_loguniform(\"learning_rate\", 0.0001, 0.1),\n",
      "C:\\Users\\joanp\\AppData\\Local\\Temp\\ipykernel_28324\\565608352.py:16: FutureWarning: suggest_loguniform has been deprecated in v3.0.0. This feature will be removed in v6.0.0. See https://github.com/optuna/optuna/releases/tag/v3.0.0. Use suggest_float(..., log=True) instead.\n",
      "  \"l2_leaf_reg\": trial.suggest_loguniform(\"l2_leaf_reg\", 0.1, 10.0),\n"
     ]
    },
    {
     "name": "stdout",
     "output_type": "stream",
     "text": [
      "[I 2023-12-19 19:26:21,486] Trial 545 finished with value: 0.6909090909090909 and parameters: {'iterations': 412, 'learning_rate': 0.0007686580263296815, 'depth': 6, 'l2_leaf_reg': 0.13138725914221458}. Best is trial 395 with value: 0.7064935064935065.\n"
     ]
    },
    {
     "name": "stderr",
     "output_type": "stream",
     "text": [
      "C:\\Users\\joanp\\AppData\\Local\\Temp\\ipykernel_28324\\565608352.py:14: FutureWarning: suggest_loguniform has been deprecated in v3.0.0. This feature will be removed in v6.0.0. See https://github.com/optuna/optuna/releases/tag/v3.0.0. Use suggest_float(..., log=True) instead.\n",
      "  \"learning_rate\": trial.suggest_loguniform(\"learning_rate\", 0.0001, 0.1),\n",
      "C:\\Users\\joanp\\AppData\\Local\\Temp\\ipykernel_28324\\565608352.py:16: FutureWarning: suggest_loguniform has been deprecated in v3.0.0. This feature will be removed in v6.0.0. See https://github.com/optuna/optuna/releases/tag/v3.0.0. Use suggest_float(..., log=True) instead.\n",
      "  \"l2_leaf_reg\": trial.suggest_loguniform(\"l2_leaf_reg\", 0.1, 10.0),\n"
     ]
    },
    {
     "name": "stdout",
     "output_type": "stream",
     "text": [
      "[I 2023-12-19 19:26:24,462] Trial 546 finished with value: 0.6519480519480519 and parameters: {'iterations': 280, 'learning_rate': 0.00971290136553559, 'depth': 6, 'l2_leaf_reg': 0.6030807834121604}. Best is trial 395 with value: 0.7064935064935065.\n"
     ]
    },
    {
     "name": "stderr",
     "output_type": "stream",
     "text": [
      "C:\\Users\\joanp\\AppData\\Local\\Temp\\ipykernel_28324\\565608352.py:14: FutureWarning: suggest_loguniform has been deprecated in v3.0.0. This feature will be removed in v6.0.0. See https://github.com/optuna/optuna/releases/tag/v3.0.0. Use suggest_float(..., log=True) instead.\n",
      "  \"learning_rate\": trial.suggest_loguniform(\"learning_rate\", 0.0001, 0.1),\n",
      "C:\\Users\\joanp\\AppData\\Local\\Temp\\ipykernel_28324\\565608352.py:16: FutureWarning: suggest_loguniform has been deprecated in v3.0.0. This feature will be removed in v6.0.0. See https://github.com/optuna/optuna/releases/tag/v3.0.0. Use suggest_float(..., log=True) instead.\n",
      "  \"l2_leaf_reg\": trial.suggest_loguniform(\"l2_leaf_reg\", 0.1, 10.0),\n"
     ]
    },
    {
     "name": "stdout",
     "output_type": "stream",
     "text": [
      "[I 2023-12-19 19:26:27,865] Trial 547 finished with value: 0.6753246753246753 and parameters: {'iterations': 329, 'learning_rate': 0.000602501434391022, 'depth': 6, 'l2_leaf_reg': 0.2168847030817069}. Best is trial 395 with value: 0.7064935064935065.\n"
     ]
    },
    {
     "name": "stderr",
     "output_type": "stream",
     "text": [
      "C:\\Users\\joanp\\AppData\\Local\\Temp\\ipykernel_28324\\565608352.py:14: FutureWarning: suggest_loguniform has been deprecated in v3.0.0. This feature will be removed in v6.0.0. See https://github.com/optuna/optuna/releases/tag/v3.0.0. Use suggest_float(..., log=True) instead.\n",
      "  \"learning_rate\": trial.suggest_loguniform(\"learning_rate\", 0.0001, 0.1),\n",
      "C:\\Users\\joanp\\AppData\\Local\\Temp\\ipykernel_28324\\565608352.py:16: FutureWarning: suggest_loguniform has been deprecated in v3.0.0. This feature will be removed in v6.0.0. See https://github.com/optuna/optuna/releases/tag/v3.0.0. Use suggest_float(..., log=True) instead.\n",
      "  \"l2_leaf_reg\": trial.suggest_loguniform(\"l2_leaf_reg\", 0.1, 10.0),\n"
     ]
    },
    {
     "name": "stdout",
     "output_type": "stream",
     "text": [
      "[I 2023-12-19 19:26:31,569] Trial 548 finished with value: 0.6597402597402597 and parameters: {'iterations': 349, 'learning_rate': 0.00662689553620822, 'depth': 6, 'l2_leaf_reg': 2.932574319923598}. Best is trial 395 with value: 0.7064935064935065.\n"
     ]
    },
    {
     "name": "stderr",
     "output_type": "stream",
     "text": [
      "C:\\Users\\joanp\\AppData\\Local\\Temp\\ipykernel_28324\\565608352.py:14: FutureWarning: suggest_loguniform has been deprecated in v3.0.0. This feature will be removed in v6.0.0. See https://github.com/optuna/optuna/releases/tag/v3.0.0. Use suggest_float(..., log=True) instead.\n",
      "  \"learning_rate\": trial.suggest_loguniform(\"learning_rate\", 0.0001, 0.1),\n",
      "C:\\Users\\joanp\\AppData\\Local\\Temp\\ipykernel_28324\\565608352.py:16: FutureWarning: suggest_loguniform has been deprecated in v3.0.0. This feature will be removed in v6.0.0. See https://github.com/optuna/optuna/releases/tag/v3.0.0. Use suggest_float(..., log=True) instead.\n",
      "  \"l2_leaf_reg\": trial.suggest_loguniform(\"l2_leaf_reg\", 0.1, 10.0),\n"
     ]
    },
    {
     "name": "stdout",
     "output_type": "stream",
     "text": [
      "[I 2023-12-19 19:26:34,847] Trial 549 finished with value: 0.6857142857142857 and parameters: {'iterations': 314, 'learning_rate': 0.0008647596873319295, 'depth': 5, 'l2_leaf_reg': 0.39525882308975097}. Best is trial 395 with value: 0.7064935064935065.\n"
     ]
    },
    {
     "name": "stderr",
     "output_type": "stream",
     "text": [
      "C:\\Users\\joanp\\AppData\\Local\\Temp\\ipykernel_28324\\565608352.py:14: FutureWarning: suggest_loguniform has been deprecated in v3.0.0. This feature will be removed in v6.0.0. See https://github.com/optuna/optuna/releases/tag/v3.0.0. Use suggest_float(..., log=True) instead.\n",
      "  \"learning_rate\": trial.suggest_loguniform(\"learning_rate\", 0.0001, 0.1),\n",
      "C:\\Users\\joanp\\AppData\\Local\\Temp\\ipykernel_28324\\565608352.py:16: FutureWarning: suggest_loguniform has been deprecated in v3.0.0. This feature will be removed in v6.0.0. See https://github.com/optuna/optuna/releases/tag/v3.0.0. Use suggest_float(..., log=True) instead.\n",
      "  \"l2_leaf_reg\": trial.suggest_loguniform(\"l2_leaf_reg\", 0.1, 10.0),\n"
     ]
    },
    {
     "name": "stdout",
     "output_type": "stream",
     "text": [
      "[I 2023-12-19 19:26:38,998] Trial 550 finished with value: 0.6987012987012987 and parameters: {'iterations': 388, 'learning_rate': 0.0005259006331866062, 'depth': 6, 'l2_leaf_reg': 2.3625399406778396}. Best is trial 395 with value: 0.7064935064935065.\n"
     ]
    },
    {
     "name": "stderr",
     "output_type": "stream",
     "text": [
      "C:\\Users\\joanp\\AppData\\Local\\Temp\\ipykernel_28324\\565608352.py:14: FutureWarning: suggest_loguniform has been deprecated in v3.0.0. This feature will be removed in v6.0.0. See https://github.com/optuna/optuna/releases/tag/v3.0.0. Use suggest_float(..., log=True) instead.\n",
      "  \"learning_rate\": trial.suggest_loguniform(\"learning_rate\", 0.0001, 0.1),\n",
      "C:\\Users\\joanp\\AppData\\Local\\Temp\\ipykernel_28324\\565608352.py:16: FutureWarning: suggest_loguniform has been deprecated in v3.0.0. This feature will be removed in v6.0.0. See https://github.com/optuna/optuna/releases/tag/v3.0.0. Use suggest_float(..., log=True) instead.\n",
      "  \"l2_leaf_reg\": trial.suggest_loguniform(\"l2_leaf_reg\", 0.1, 10.0),\n"
     ]
    },
    {
     "name": "stdout",
     "output_type": "stream",
     "text": [
      "[I 2023-12-19 19:26:43,180] Trial 551 finished with value: 0.6753246753246753 and parameters: {'iterations': 369, 'learning_rate': 0.0035574941467780056, 'depth': 6, 'l2_leaf_reg': 0.49716309093531535}. Best is trial 395 with value: 0.7064935064935065.\n"
     ]
    },
    {
     "name": "stderr",
     "output_type": "stream",
     "text": [
      "C:\\Users\\joanp\\AppData\\Local\\Temp\\ipykernel_28324\\565608352.py:14: FutureWarning: suggest_loguniform has been deprecated in v3.0.0. This feature will be removed in v6.0.0. See https://github.com/optuna/optuna/releases/tag/v3.0.0. Use suggest_float(..., log=True) instead.\n",
      "  \"learning_rate\": trial.suggest_loguniform(\"learning_rate\", 0.0001, 0.1),\n",
      "C:\\Users\\joanp\\AppData\\Local\\Temp\\ipykernel_28324\\565608352.py:16: FutureWarning: suggest_loguniform has been deprecated in v3.0.0. This feature will be removed in v6.0.0. See https://github.com/optuna/optuna/releases/tag/v3.0.0. Use suggest_float(..., log=True) instead.\n",
      "  \"l2_leaf_reg\": trial.suggest_loguniform(\"l2_leaf_reg\", 0.1, 10.0),\n"
     ]
    },
    {
     "name": "stdout",
     "output_type": "stream",
     "text": [
      "[I 2023-12-19 19:26:46,620] Trial 552 finished with value: 0.6935064935064935 and parameters: {'iterations': 305, 'learning_rate': 0.0006907311864416838, 'depth': 6, 'l2_leaf_reg': 1.5084532580504535}. Best is trial 395 with value: 0.7064935064935065.\n"
     ]
    },
    {
     "name": "stderr",
     "output_type": "stream",
     "text": [
      "C:\\Users\\joanp\\AppData\\Local\\Temp\\ipykernel_28324\\565608352.py:14: FutureWarning: suggest_loguniform has been deprecated in v3.0.0. This feature will be removed in v6.0.0. See https://github.com/optuna/optuna/releases/tag/v3.0.0. Use suggest_float(..., log=True) instead.\n",
      "  \"learning_rate\": trial.suggest_loguniform(\"learning_rate\", 0.0001, 0.1),\n",
      "C:\\Users\\joanp\\AppData\\Local\\Temp\\ipykernel_28324\\565608352.py:16: FutureWarning: suggest_loguniform has been deprecated in v3.0.0. This feature will be removed in v6.0.0. See https://github.com/optuna/optuna/releases/tag/v3.0.0. Use suggest_float(..., log=True) instead.\n",
      "  \"l2_leaf_reg\": trial.suggest_loguniform(\"l2_leaf_reg\", 0.1, 10.0),\n"
     ]
    },
    {
     "name": "stdout",
     "output_type": "stream",
     "text": [
      "[I 2023-12-19 19:26:51,156] Trial 553 finished with value: 0.6883116883116883 and parameters: {'iterations': 405, 'learning_rate': 0.00042293537187374473, 'depth': 6, 'l2_leaf_reg': 0.7996414536903826}. Best is trial 395 with value: 0.7064935064935065.\n"
     ]
    },
    {
     "name": "stderr",
     "output_type": "stream",
     "text": [
      "C:\\Users\\joanp\\AppData\\Local\\Temp\\ipykernel_28324\\565608352.py:14: FutureWarning: suggest_loguniform has been deprecated in v3.0.0. This feature will be removed in v6.0.0. See https://github.com/optuna/optuna/releases/tag/v3.0.0. Use suggest_float(..., log=True) instead.\n",
      "  \"learning_rate\": trial.suggest_loguniform(\"learning_rate\", 0.0001, 0.1),\n",
      "C:\\Users\\joanp\\AppData\\Local\\Temp\\ipykernel_28324\\565608352.py:16: FutureWarning: suggest_loguniform has been deprecated in v3.0.0. This feature will be removed in v6.0.0. See https://github.com/optuna/optuna/releases/tag/v3.0.0. Use suggest_float(..., log=True) instead.\n",
      "  \"l2_leaf_reg\": trial.suggest_loguniform(\"l2_leaf_reg\", 0.1, 10.0),\n"
     ]
    },
    {
     "name": "stdout",
     "output_type": "stream",
     "text": [
      "[I 2023-12-19 19:26:57,735] Trial 554 finished with value: 0.6961038961038961 and parameters: {'iterations': 641, 'learning_rate': 0.000860488208060728, 'depth': 6, 'l2_leaf_reg': 0.6447104314038712}. Best is trial 395 with value: 0.7064935064935065.\n"
     ]
    },
    {
     "name": "stderr",
     "output_type": "stream",
     "text": [
      "C:\\Users\\joanp\\AppData\\Local\\Temp\\ipykernel_28324\\565608352.py:14: FutureWarning: suggest_loguniform has been deprecated in v3.0.0. This feature will be removed in v6.0.0. See https://github.com/optuna/optuna/releases/tag/v3.0.0. Use suggest_float(..., log=True) instead.\n",
      "  \"learning_rate\": trial.suggest_loguniform(\"learning_rate\", 0.0001, 0.1),\n",
      "C:\\Users\\joanp\\AppData\\Local\\Temp\\ipykernel_28324\\565608352.py:16: FutureWarning: suggest_loguniform has been deprecated in v3.0.0. This feature will be removed in v6.0.0. See https://github.com/optuna/optuna/releases/tag/v3.0.0. Use suggest_float(..., log=True) instead.\n",
      "  \"l2_leaf_reg\": trial.suggest_loguniform(\"l2_leaf_reg\", 0.1, 10.0),\n"
     ]
    },
    {
     "name": "stdout",
     "output_type": "stream",
     "text": [
      "[I 2023-12-19 19:27:03,849] Trial 555 finished with value: 0.7038961038961039 and parameters: {'iterations': 593, 'learning_rate': 0.0003466984055601297, 'depth': 6, 'l2_leaf_reg': 3.446482153000677}. Best is trial 395 with value: 0.7064935064935065.\n"
     ]
    },
    {
     "name": "stderr",
     "output_type": "stream",
     "text": [
      "C:\\Users\\joanp\\AppData\\Local\\Temp\\ipykernel_28324\\565608352.py:14: FutureWarning: suggest_loguniform has been deprecated in v3.0.0. This feature will be removed in v6.0.0. See https://github.com/optuna/optuna/releases/tag/v3.0.0. Use suggest_float(..., log=True) instead.\n",
      "  \"learning_rate\": trial.suggest_loguniform(\"learning_rate\", 0.0001, 0.1),\n",
      "C:\\Users\\joanp\\AppData\\Local\\Temp\\ipykernel_28324\\565608352.py:16: FutureWarning: suggest_loguniform has been deprecated in v3.0.0. This feature will be removed in v6.0.0. See https://github.com/optuna/optuna/releases/tag/v3.0.0. Use suggest_float(..., log=True) instead.\n",
      "  \"l2_leaf_reg\": trial.suggest_loguniform(\"l2_leaf_reg\", 0.1, 10.0),\n"
     ]
    },
    {
     "name": "stdout",
     "output_type": "stream",
     "text": [
      "[I 2023-12-19 19:27:10,744] Trial 556 finished with value: 0.6883116883116883 and parameters: {'iterations': 610, 'learning_rate': 0.0003218813317017469, 'depth': 6, 'l2_leaf_reg': 3.7107282096676677}. Best is trial 395 with value: 0.7064935064935065.\n"
     ]
    },
    {
     "name": "stderr",
     "output_type": "stream",
     "text": [
      "C:\\Users\\joanp\\AppData\\Local\\Temp\\ipykernel_28324\\565608352.py:14: FutureWarning: suggest_loguniform has been deprecated in v3.0.0. This feature will be removed in v6.0.0. See https://github.com/optuna/optuna/releases/tag/v3.0.0. Use suggest_float(..., log=True) instead.\n",
      "  \"learning_rate\": trial.suggest_loguniform(\"learning_rate\", 0.0001, 0.1),\n",
      "C:\\Users\\joanp\\AppData\\Local\\Temp\\ipykernel_28324\\565608352.py:16: FutureWarning: suggest_loguniform has been deprecated in v3.0.0. This feature will be removed in v6.0.0. See https://github.com/optuna/optuna/releases/tag/v3.0.0. Use suggest_float(..., log=True) instead.\n",
      "  \"l2_leaf_reg\": trial.suggest_loguniform(\"l2_leaf_reg\", 0.1, 10.0),\n"
     ]
    },
    {
     "name": "stdout",
     "output_type": "stream",
     "text": [
      "[I 2023-12-19 19:27:17,334] Trial 557 finished with value: 0.6051948051948052 and parameters: {'iterations': 560, 'learning_rate': 0.09157021538902732, 'depth': 6, 'l2_leaf_reg': 4.261702076095659}. Best is trial 395 with value: 0.7064935064935065.\n"
     ]
    },
    {
     "name": "stderr",
     "output_type": "stream",
     "text": [
      "C:\\Users\\joanp\\AppData\\Local\\Temp\\ipykernel_28324\\565608352.py:14: FutureWarning: suggest_loguniform has been deprecated in v3.0.0. This feature will be removed in v6.0.0. See https://github.com/optuna/optuna/releases/tag/v3.0.0. Use suggest_float(..., log=True) instead.\n",
      "  \"learning_rate\": trial.suggest_loguniform(\"learning_rate\", 0.0001, 0.1),\n",
      "C:\\Users\\joanp\\AppData\\Local\\Temp\\ipykernel_28324\\565608352.py:16: FutureWarning: suggest_loguniform has been deprecated in v3.0.0. This feature will be removed in v6.0.0. See https://github.com/optuna/optuna/releases/tag/v3.0.0. Use suggest_float(..., log=True) instead.\n",
      "  \"l2_leaf_reg\": trial.suggest_loguniform(\"l2_leaf_reg\", 0.1, 10.0),\n"
     ]
    },
    {
     "name": "stdout",
     "output_type": "stream",
     "text": [
      "[I 2023-12-19 19:27:23,532] Trial 558 finished with value: 0.6441558441558441 and parameters: {'iterations': 629, 'learning_rate': 0.0002757401561299213, 'depth': 4, 'l2_leaf_reg': 3.465635543595462}. Best is trial 395 with value: 0.7064935064935065.\n"
     ]
    },
    {
     "name": "stderr",
     "output_type": "stream",
     "text": [
      "C:\\Users\\joanp\\AppData\\Local\\Temp\\ipykernel_28324\\565608352.py:14: FutureWarning: suggest_loguniform has been deprecated in v3.0.0. This feature will be removed in v6.0.0. See https://github.com/optuna/optuna/releases/tag/v3.0.0. Use suggest_float(..., log=True) instead.\n",
      "  \"learning_rate\": trial.suggest_loguniform(\"learning_rate\", 0.0001, 0.1),\n",
      "C:\\Users\\joanp\\AppData\\Local\\Temp\\ipykernel_28324\\565608352.py:16: FutureWarning: suggest_loguniform has been deprecated in v3.0.0. This feature will be removed in v6.0.0. See https://github.com/optuna/optuna/releases/tag/v3.0.0. Use suggest_float(..., log=True) instead.\n",
      "  \"l2_leaf_reg\": trial.suggest_loguniform(\"l2_leaf_reg\", 0.1, 10.0),\n"
     ]
    },
    {
     "name": "stdout",
     "output_type": "stream",
     "text": [
      "[I 2023-12-19 19:27:30,764] Trial 559 finished with value: 0.6909090909090909 and parameters: {'iterations': 602, 'learning_rate': 0.0002138470781632099, 'depth': 6, 'l2_leaf_reg': 1.933448057181082}. Best is trial 395 with value: 0.7064935064935065.\n"
     ]
    },
    {
     "name": "stderr",
     "output_type": "stream",
     "text": [
      "C:\\Users\\joanp\\AppData\\Local\\Temp\\ipykernel_28324\\565608352.py:14: FutureWarning: suggest_loguniform has been deprecated in v3.0.0. This feature will be removed in v6.0.0. See https://github.com/optuna/optuna/releases/tag/v3.0.0. Use suggest_float(..., log=True) instead.\n",
      "  \"learning_rate\": trial.suggest_loguniform(\"learning_rate\", 0.0001, 0.1),\n",
      "C:\\Users\\joanp\\AppData\\Local\\Temp\\ipykernel_28324\\565608352.py:16: FutureWarning: suggest_loguniform has been deprecated in v3.0.0. This feature will be removed in v6.0.0. See https://github.com/optuna/optuna/releases/tag/v3.0.0. Use suggest_float(..., log=True) instead.\n",
      "  \"l2_leaf_reg\": trial.suggest_loguniform(\"l2_leaf_reg\", 0.1, 10.0),\n"
     ]
    },
    {
     "name": "stdout",
     "output_type": "stream",
     "text": [
      "[I 2023-12-19 19:27:34,223] Trial 560 finished with value: 0.6883116883116883 and parameters: {'iterations': 284, 'learning_rate': 0.00029518354558824523, 'depth': 6, 'l2_leaf_reg': 0.10059119507792537}. Best is trial 395 with value: 0.7064935064935065.\n"
     ]
    },
    {
     "name": "stderr",
     "output_type": "stream",
     "text": [
      "C:\\Users\\joanp\\AppData\\Local\\Temp\\ipykernel_28324\\565608352.py:14: FutureWarning: suggest_loguniform has been deprecated in v3.0.0. This feature will be removed in v6.0.0. See https://github.com/optuna/optuna/releases/tag/v3.0.0. Use suggest_float(..., log=True) instead.\n",
      "  \"learning_rate\": trial.suggest_loguniform(\"learning_rate\", 0.0001, 0.1),\n",
      "C:\\Users\\joanp\\AppData\\Local\\Temp\\ipykernel_28324\\565608352.py:16: FutureWarning: suggest_loguniform has been deprecated in v3.0.0. This feature will be removed in v6.0.0. See https://github.com/optuna/optuna/releases/tag/v3.0.0. Use suggest_float(..., log=True) instead.\n",
      "  \"l2_leaf_reg\": trial.suggest_loguniform(\"l2_leaf_reg\", 0.1, 10.0),\n"
     ]
    },
    {
     "name": "stdout",
     "output_type": "stream",
     "text": [
      "[I 2023-12-19 19:27:41,470] Trial 561 finished with value: 0.7012987012987013 and parameters: {'iterations': 577, 'learning_rate': 0.00037562381635477155, 'depth': 6, 'l2_leaf_reg': 3.498951503373216}. Best is trial 395 with value: 0.7064935064935065.\n"
     ]
    },
    {
     "name": "stderr",
     "output_type": "stream",
     "text": [
      "C:\\Users\\joanp\\AppData\\Local\\Temp\\ipykernel_28324\\565608352.py:14: FutureWarning: suggest_loguniform has been deprecated in v3.0.0. This feature will be removed in v6.0.0. See https://github.com/optuna/optuna/releases/tag/v3.0.0. Use suggest_float(..., log=True) instead.\n",
      "  \"learning_rate\": trial.suggest_loguniform(\"learning_rate\", 0.0001, 0.1),\n",
      "C:\\Users\\joanp\\AppData\\Local\\Temp\\ipykernel_28324\\565608352.py:16: FutureWarning: suggest_loguniform has been deprecated in v3.0.0. This feature will be removed in v6.0.0. See https://github.com/optuna/optuna/releases/tag/v3.0.0. Use suggest_float(..., log=True) instead.\n",
      "  \"l2_leaf_reg\": trial.suggest_loguniform(\"l2_leaf_reg\", 0.1, 10.0),\n"
     ]
    },
    {
     "name": "stdout",
     "output_type": "stream",
     "text": [
      "[I 2023-12-19 19:27:48,272] Trial 562 finished with value: 0.6909090909090909 and parameters: {'iterations': 594, 'learning_rate': 0.0007542948553242926, 'depth': 6, 'l2_leaf_reg': 2.6154271898076997}. Best is trial 395 with value: 0.7064935064935065.\n"
     ]
    },
    {
     "name": "stderr",
     "output_type": "stream",
     "text": [
      "C:\\Users\\joanp\\AppData\\Local\\Temp\\ipykernel_28324\\565608352.py:14: FutureWarning: suggest_loguniform has been deprecated in v3.0.0. This feature will be removed in v6.0.0. See https://github.com/optuna/optuna/releases/tag/v3.0.0. Use suggest_float(..., log=True) instead.\n",
      "  \"learning_rate\": trial.suggest_loguniform(\"learning_rate\", 0.0001, 0.1),\n",
      "C:\\Users\\joanp\\AppData\\Local\\Temp\\ipykernel_28324\\565608352.py:16: FutureWarning: suggest_loguniform has been deprecated in v3.0.0. This feature will be removed in v6.0.0. See https://github.com/optuna/optuna/releases/tag/v3.0.0. Use suggest_float(..., log=True) instead.\n",
      "  \"l2_leaf_reg\": trial.suggest_loguniform(\"l2_leaf_reg\", 0.1, 10.0),\n"
     ]
    },
    {
     "name": "stdout",
     "output_type": "stream",
     "text": [
      "[I 2023-12-19 19:27:55,415] Trial 563 finished with value: 0.6909090909090909 and parameters: {'iterations': 522, 'learning_rate': 0.0006616575072184458, 'depth': 6, 'l2_leaf_reg': 3.0657960512331712}. Best is trial 395 with value: 0.7064935064935065.\n"
     ]
    },
    {
     "name": "stderr",
     "output_type": "stream",
     "text": [
      "C:\\Users\\joanp\\AppData\\Local\\Temp\\ipykernel_28324\\565608352.py:14: FutureWarning: suggest_loguniform has been deprecated in v3.0.0. This feature will be removed in v6.0.0. See https://github.com/optuna/optuna/releases/tag/v3.0.0. Use suggest_float(..., log=True) instead.\n",
      "  \"learning_rate\": trial.suggest_loguniform(\"learning_rate\", 0.0001, 0.1),\n",
      "C:\\Users\\joanp\\AppData\\Local\\Temp\\ipykernel_28324\\565608352.py:16: FutureWarning: suggest_loguniform has been deprecated in v3.0.0. This feature will be removed in v6.0.0. See https://github.com/optuna/optuna/releases/tag/v3.0.0. Use suggest_float(..., log=True) instead.\n",
      "  \"l2_leaf_reg\": trial.suggest_loguniform(\"l2_leaf_reg\", 0.1, 10.0),\n"
     ]
    },
    {
     "name": "stdout",
     "output_type": "stream",
     "text": [
      "[I 2023-12-19 19:28:01,770] Trial 564 finished with value: 0.6675324675324675 and parameters: {'iterations': 536, 'learning_rate': 0.0029306736383099305, 'depth': 6, 'l2_leaf_reg': 0.35933700867917595}. Best is trial 395 with value: 0.7064935064935065.\n"
     ]
    },
    {
     "name": "stderr",
     "output_type": "stream",
     "text": [
      "C:\\Users\\joanp\\AppData\\Local\\Temp\\ipykernel_28324\\565608352.py:14: FutureWarning: suggest_loguniform has been deprecated in v3.0.0. This feature will be removed in v6.0.0. See https://github.com/optuna/optuna/releases/tag/v3.0.0. Use suggest_float(..., log=True) instead.\n",
      "  \"learning_rate\": trial.suggest_loguniform(\"learning_rate\", 0.0001, 0.1),\n",
      "C:\\Users\\joanp\\AppData\\Local\\Temp\\ipykernel_28324\\565608352.py:16: FutureWarning: suggest_loguniform has been deprecated in v3.0.0. This feature will be removed in v6.0.0. See https://github.com/optuna/optuna/releases/tag/v3.0.0. Use suggest_float(..., log=True) instead.\n",
      "  \"l2_leaf_reg\": trial.suggest_loguniform(\"l2_leaf_reg\", 0.1, 10.0),\n"
     ]
    },
    {
     "name": "stdout",
     "output_type": "stream",
     "text": [
      "[I 2023-12-19 19:28:05,713] Trial 565 finished with value: 0.7012987012987013 and parameters: {'iterations': 328, 'learning_rate': 0.0003470183569188201, 'depth': 5, 'l2_leaf_reg': 3.950664735416759}. Best is trial 395 with value: 0.7064935064935065.\n"
     ]
    },
    {
     "name": "stderr",
     "output_type": "stream",
     "text": [
      "C:\\Users\\joanp\\AppData\\Local\\Temp\\ipykernel_28324\\565608352.py:14: FutureWarning: suggest_loguniform has been deprecated in v3.0.0. This feature will be removed in v6.0.0. See https://github.com/optuna/optuna/releases/tag/v3.0.0. Use suggest_float(..., log=True) instead.\n",
      "  \"learning_rate\": trial.suggest_loguniform(\"learning_rate\", 0.0001, 0.1),\n",
      "C:\\Users\\joanp\\AppData\\Local\\Temp\\ipykernel_28324\\565608352.py:16: FutureWarning: suggest_loguniform has been deprecated in v3.0.0. This feature will be removed in v6.0.0. See https://github.com/optuna/optuna/releases/tag/v3.0.0. Use suggest_float(..., log=True) instead.\n",
      "  \"l2_leaf_reg\": trial.suggest_loguniform(\"l2_leaf_reg\", 0.1, 10.0),\n"
     ]
    },
    {
     "name": "stdout",
     "output_type": "stream",
     "text": [
      "[I 2023-12-19 19:28:14,392] Trial 566 finished with value: 0.6909090909090909 and parameters: {'iterations': 682, 'learning_rate': 0.0008976706930854108, 'depth': 6, 'l2_leaf_reg': 0.2662839984941018}. Best is trial 395 with value: 0.7064935064935065.\n"
     ]
    },
    {
     "name": "stderr",
     "output_type": "stream",
     "text": [
      "C:\\Users\\joanp\\AppData\\Local\\Temp\\ipykernel_28324\\565608352.py:14: FutureWarning: suggest_loguniform has been deprecated in v3.0.0. This feature will be removed in v6.0.0. See https://github.com/optuna/optuna/releases/tag/v3.0.0. Use suggest_float(..., log=True) instead.\n",
      "  \"learning_rate\": trial.suggest_loguniform(\"learning_rate\", 0.0001, 0.1),\n",
      "C:\\Users\\joanp\\AppData\\Local\\Temp\\ipykernel_28324\\565608352.py:16: FutureWarning: suggest_loguniform has been deprecated in v3.0.0. This feature will be removed in v6.0.0. See https://github.com/optuna/optuna/releases/tag/v3.0.0. Use suggest_float(..., log=True) instead.\n",
      "  \"l2_leaf_reg\": trial.suggest_loguniform(\"l2_leaf_reg\", 0.1, 10.0),\n"
     ]
    },
    {
     "name": "stdout",
     "output_type": "stream",
     "text": [
      "[I 2023-12-19 19:28:18,059] Trial 567 finished with value: 0.6883116883116883 and parameters: {'iterations': 301, 'learning_rate': 0.0005902579994813551, 'depth': 6, 'l2_leaf_reg': 0.1439815401903359}. Best is trial 395 with value: 0.7064935064935065.\n"
     ]
    },
    {
     "name": "stderr",
     "output_type": "stream",
     "text": [
      "C:\\Users\\joanp\\AppData\\Local\\Temp\\ipykernel_28324\\565608352.py:14: FutureWarning: suggest_loguniform has been deprecated in v3.0.0. This feature will be removed in v6.0.0. See https://github.com/optuna/optuna/releases/tag/v3.0.0. Use suggest_float(..., log=True) instead.\n",
      "  \"learning_rate\": trial.suggest_loguniform(\"learning_rate\", 0.0001, 0.1),\n",
      "C:\\Users\\joanp\\AppData\\Local\\Temp\\ipykernel_28324\\565608352.py:16: FutureWarning: suggest_loguniform has been deprecated in v3.0.0. This feature will be removed in v6.0.0. See https://github.com/optuna/optuna/releases/tag/v3.0.0. Use suggest_float(..., log=True) instead.\n",
      "  \"l2_leaf_reg\": trial.suggest_loguniform(\"l2_leaf_reg\", 0.1, 10.0),\n"
     ]
    },
    {
     "name": "stdout",
     "output_type": "stream",
     "text": [
      "[I 2023-12-19 19:28:22,244] Trial 568 finished with value: 0.6753246753246753 and parameters: {'iterations': 342, 'learning_rate': 0.00015328479973467112, 'depth': 6, 'l2_leaf_reg': 2.8404976055962083}. Best is trial 395 with value: 0.7064935064935065.\n"
     ]
    },
    {
     "name": "stderr",
     "output_type": "stream",
     "text": [
      "C:\\Users\\joanp\\AppData\\Local\\Temp\\ipykernel_28324\\565608352.py:14: FutureWarning: suggest_loguniform has been deprecated in v3.0.0. This feature will be removed in v6.0.0. See https://github.com/optuna/optuna/releases/tag/v3.0.0. Use suggest_float(..., log=True) instead.\n",
      "  \"learning_rate\": trial.suggest_loguniform(\"learning_rate\", 0.0001, 0.1),\n",
      "C:\\Users\\joanp\\AppData\\Local\\Temp\\ipykernel_28324\\565608352.py:16: FutureWarning: suggest_loguniform has been deprecated in v3.0.0. This feature will be removed in v6.0.0. See https://github.com/optuna/optuna/releases/tag/v3.0.0. Use suggest_float(..., log=True) instead.\n",
      "  \"l2_leaf_reg\": trial.suggest_loguniform(\"l2_leaf_reg\", 0.1, 10.0),\n"
     ]
    },
    {
     "name": "stdout",
     "output_type": "stream",
     "text": [
      "[I 2023-12-19 19:28:29,018] Trial 569 finished with value: 0.6883116883116883 and parameters: {'iterations': 591, 'learning_rate': 0.0002707851846145141, 'depth': 6, 'l2_leaf_reg': 0.12541347355563778}. Best is trial 395 with value: 0.7064935064935065.\n"
     ]
    },
    {
     "name": "stderr",
     "output_type": "stream",
     "text": [
      "C:\\Users\\joanp\\AppData\\Local\\Temp\\ipykernel_28324\\565608352.py:14: FutureWarning: suggest_loguniform has been deprecated in v3.0.0. This feature will be removed in v6.0.0. See https://github.com/optuna/optuna/releases/tag/v3.0.0. Use suggest_float(..., log=True) instead.\n",
      "  \"learning_rate\": trial.suggest_loguniform(\"learning_rate\", 0.0001, 0.1),\n",
      "C:\\Users\\joanp\\AppData\\Local\\Temp\\ipykernel_28324\\565608352.py:16: FutureWarning: suggest_loguniform has been deprecated in v3.0.0. This feature will be removed in v6.0.0. See https://github.com/optuna/optuna/releases/tag/v3.0.0. Use suggest_float(..., log=True) instead.\n",
      "  \"l2_leaf_reg\": trial.suggest_loguniform(\"l2_leaf_reg\", 0.1, 10.0),\n"
     ]
    },
    {
     "name": "stdout",
     "output_type": "stream",
     "text": [
      "[I 2023-12-19 19:28:32,921] Trial 570 finished with value: 0.6935064935064935 and parameters: {'iterations': 319, 'learning_rate': 0.0003181805053185998, 'depth': 6, 'l2_leaf_reg': 0.16350601348735266}. Best is trial 395 with value: 0.7064935064935065.\n"
     ]
    },
    {
     "name": "stderr",
     "output_type": "stream",
     "text": [
      "C:\\Users\\joanp\\AppData\\Local\\Temp\\ipykernel_28324\\565608352.py:14: FutureWarning: suggest_loguniform has been deprecated in v3.0.0. This feature will be removed in v6.0.0. See https://github.com/optuna/optuna/releases/tag/v3.0.0. Use suggest_float(..., log=True) instead.\n",
      "  \"learning_rate\": trial.suggest_loguniform(\"learning_rate\", 0.0001, 0.1),\n",
      "C:\\Users\\joanp\\AppData\\Local\\Temp\\ipykernel_28324\\565608352.py:16: FutureWarning: suggest_loguniform has been deprecated in v3.0.0. This feature will be removed in v6.0.0. See https://github.com/optuna/optuna/releases/tag/v3.0.0. Use suggest_float(..., log=True) instead.\n",
      "  \"l2_leaf_reg\": trial.suggest_loguniform(\"l2_leaf_reg\", 0.1, 10.0),\n"
     ]
    },
    {
     "name": "stdout",
     "output_type": "stream",
     "text": [
      "[I 2023-12-19 19:28:36,454] Trial 571 finished with value: 0.6987012987012987 and parameters: {'iterations': 296, 'learning_rate': 0.0007427115607281758, 'depth': 6, 'l2_leaf_reg': 0.1855756561877855}. Best is trial 395 with value: 0.7064935064935065.\n"
     ]
    },
    {
     "name": "stderr",
     "output_type": "stream",
     "text": [
      "C:\\Users\\joanp\\AppData\\Local\\Temp\\ipykernel_28324\\565608352.py:14: FutureWarning: suggest_loguniform has been deprecated in v3.0.0. This feature will be removed in v6.0.0. See https://github.com/optuna/optuna/releases/tag/v3.0.0. Use suggest_float(..., log=True) instead.\n",
      "  \"learning_rate\": trial.suggest_loguniform(\"learning_rate\", 0.0001, 0.1),\n",
      "C:\\Users\\joanp\\AppData\\Local\\Temp\\ipykernel_28324\\565608352.py:16: FutureWarning: suggest_loguniform has been deprecated in v3.0.0. This feature will be removed in v6.0.0. See https://github.com/optuna/optuna/releases/tag/v3.0.0. Use suggest_float(..., log=True) instead.\n",
      "  \"l2_leaf_reg\": trial.suggest_loguniform(\"l2_leaf_reg\", 0.1, 10.0),\n"
     ]
    },
    {
     "name": "stdout",
     "output_type": "stream",
     "text": [
      "[I 2023-12-19 19:28:39,781] Trial 572 finished with value: 0.6883116883116883 and parameters: {'iterations': 271, 'learning_rate': 0.00022389394263943308, 'depth': 6, 'l2_leaf_reg': 0.30968698272422834}. Best is trial 395 with value: 0.7064935064935065.\n"
     ]
    },
    {
     "name": "stderr",
     "output_type": "stream",
     "text": [
      "C:\\Users\\joanp\\AppData\\Local\\Temp\\ipykernel_28324\\565608352.py:14: FutureWarning: suggest_loguniform has been deprecated in v3.0.0. This feature will be removed in v6.0.0. See https://github.com/optuna/optuna/releases/tag/v3.0.0. Use suggest_float(..., log=True) instead.\n",
      "  \"learning_rate\": trial.suggest_loguniform(\"learning_rate\", 0.0001, 0.1),\n",
      "C:\\Users\\joanp\\AppData\\Local\\Temp\\ipykernel_28324\\565608352.py:16: FutureWarning: suggest_loguniform has been deprecated in v3.0.0. This feature will be removed in v6.0.0. See https://github.com/optuna/optuna/releases/tag/v3.0.0. Use suggest_float(..., log=True) instead.\n",
      "  \"l2_leaf_reg\": trial.suggest_loguniform(\"l2_leaf_reg\", 0.1, 10.0),\n"
     ]
    },
    {
     "name": "stdout",
     "output_type": "stream",
     "text": [
      "[I 2023-12-19 19:28:43,801] Trial 573 finished with value: 0.6337662337662338 and parameters: {'iterations': 321, 'learning_rate': 0.015705860867933182, 'depth': 6, 'l2_leaf_reg': 0.5475675343270155}. Best is trial 395 with value: 0.7064935064935065.\n"
     ]
    },
    {
     "name": "stderr",
     "output_type": "stream",
     "text": [
      "C:\\Users\\joanp\\AppData\\Local\\Temp\\ipykernel_28324\\565608352.py:14: FutureWarning: suggest_loguniform has been deprecated in v3.0.0. This feature will be removed in v6.0.0. See https://github.com/optuna/optuna/releases/tag/v3.0.0. Use suggest_float(..., log=True) instead.\n",
      "  \"learning_rate\": trial.suggest_loguniform(\"learning_rate\", 0.0001, 0.1),\n",
      "C:\\Users\\joanp\\AppData\\Local\\Temp\\ipykernel_28324\\565608352.py:16: FutureWarning: suggest_loguniform has been deprecated in v3.0.0. This feature will be removed in v6.0.0. See https://github.com/optuna/optuna/releases/tag/v3.0.0. Use suggest_float(..., log=True) instead.\n",
      "  \"l2_leaf_reg\": trial.suggest_loguniform(\"l2_leaf_reg\", 0.1, 10.0),\n"
     ]
    },
    {
     "name": "stdout",
     "output_type": "stream",
     "text": [
      "[I 2023-12-19 19:28:50,070] Trial 574 finished with value: 0.6909090909090909 and parameters: {'iterations': 558, 'learning_rate': 0.00028265616655650676, 'depth': 6, 'l2_leaf_reg': 0.6813709822245781}. Best is trial 395 with value: 0.7064935064935065.\n"
     ]
    },
    {
     "name": "stderr",
     "output_type": "stream",
     "text": [
      "C:\\Users\\joanp\\AppData\\Local\\Temp\\ipykernel_28324\\565608352.py:14: FutureWarning: suggest_loguniform has been deprecated in v3.0.0. This feature will be removed in v6.0.0. See https://github.com/optuna/optuna/releases/tag/v3.0.0. Use suggest_float(..., log=True) instead.\n",
      "  \"learning_rate\": trial.suggest_loguniform(\"learning_rate\", 0.0001, 0.1),\n",
      "C:\\Users\\joanp\\AppData\\Local\\Temp\\ipykernel_28324\\565608352.py:16: FutureWarning: suggest_loguniform has been deprecated in v3.0.0. This feature will be removed in v6.0.0. See https://github.com/optuna/optuna/releases/tag/v3.0.0. Use suggest_float(..., log=True) instead.\n",
      "  \"l2_leaf_reg\": trial.suggest_loguniform(\"l2_leaf_reg\", 0.1, 10.0),\n"
     ]
    },
    {
     "name": "stdout",
     "output_type": "stream",
     "text": [
      "[I 2023-12-19 19:28:54,766] Trial 575 finished with value: 0.6987012987012987 and parameters: {'iterations': 342, 'learning_rate': 0.0005158252311416947, 'depth': 6, 'l2_leaf_reg': 4.608125809584467}. Best is trial 395 with value: 0.7064935064935065.\n"
     ]
    },
    {
     "name": "stderr",
     "output_type": "stream",
     "text": [
      "C:\\Users\\joanp\\AppData\\Local\\Temp\\ipykernel_28324\\565608352.py:14: FutureWarning: suggest_loguniform has been deprecated in v3.0.0. This feature will be removed in v6.0.0. See https://github.com/optuna/optuna/releases/tag/v3.0.0. Use suggest_float(..., log=True) instead.\n",
      "  \"learning_rate\": trial.suggest_loguniform(\"learning_rate\", 0.0001, 0.1),\n",
      "C:\\Users\\joanp\\AppData\\Local\\Temp\\ipykernel_28324\\565608352.py:16: FutureWarning: suggest_loguniform has been deprecated in v3.0.0. This feature will be removed in v6.0.0. See https://github.com/optuna/optuna/releases/tag/v3.0.0. Use suggest_float(..., log=True) instead.\n",
      "  \"l2_leaf_reg\": trial.suggest_loguniform(\"l2_leaf_reg\", 0.1, 10.0),\n"
     ]
    },
    {
     "name": "stdout",
     "output_type": "stream",
     "text": [
      "[I 2023-12-19 19:29:00,567] Trial 576 finished with value: 0.7012987012987013 and parameters: {'iterations': 499, 'learning_rate': 0.0008698800903906396, 'depth': 6, 'l2_leaf_reg': 0.2930776400810837}. Best is trial 395 with value: 0.7064935064935065.\n"
     ]
    },
    {
     "name": "stderr",
     "output_type": "stream",
     "text": [
      "C:\\Users\\joanp\\AppData\\Local\\Temp\\ipykernel_28324\\565608352.py:14: FutureWarning: suggest_loguniform has been deprecated in v3.0.0. This feature will be removed in v6.0.0. See https://github.com/optuna/optuna/releases/tag/v3.0.0. Use suggest_float(..., log=True) instead.\n",
      "  \"learning_rate\": trial.suggest_loguniform(\"learning_rate\", 0.0001, 0.1),\n",
      "C:\\Users\\joanp\\AppData\\Local\\Temp\\ipykernel_28324\\565608352.py:16: FutureWarning: suggest_loguniform has been deprecated in v3.0.0. This feature will be removed in v6.0.0. See https://github.com/optuna/optuna/releases/tag/v3.0.0. Use suggest_float(..., log=True) instead.\n",
      "  \"l2_leaf_reg\": trial.suggest_loguniform(\"l2_leaf_reg\", 0.1, 10.0),\n"
     ]
    },
    {
     "name": "stdout",
     "output_type": "stream",
     "text": [
      "[I 2023-12-19 19:29:07,640] Trial 577 finished with value: 0.7038961038961039 and parameters: {'iterations': 637, 'learning_rate': 0.0006223852156164163, 'depth': 6, 'l2_leaf_reg': 0.20202511807101967}. Best is trial 395 with value: 0.7064935064935065.\n"
     ]
    },
    {
     "name": "stderr",
     "output_type": "stream",
     "text": [
      "C:\\Users\\joanp\\AppData\\Local\\Temp\\ipykernel_28324\\565608352.py:14: FutureWarning: suggest_loguniform has been deprecated in v3.0.0. This feature will be removed in v6.0.0. See https://github.com/optuna/optuna/releases/tag/v3.0.0. Use suggest_float(..., log=True) instead.\n",
      "  \"learning_rate\": trial.suggest_loguniform(\"learning_rate\", 0.0001, 0.1),\n",
      "C:\\Users\\joanp\\AppData\\Local\\Temp\\ipykernel_28324\\565608352.py:16: FutureWarning: suggest_loguniform has been deprecated in v3.0.0. This feature will be removed in v6.0.0. See https://github.com/optuna/optuna/releases/tag/v3.0.0. Use suggest_float(..., log=True) instead.\n",
      "  \"l2_leaf_reg\": trial.suggest_loguniform(\"l2_leaf_reg\", 0.1, 10.0),\n"
     ]
    },
    {
     "name": "stdout",
     "output_type": "stream",
     "text": [
      "[I 2023-12-19 19:29:16,206] Trial 578 finished with value: 0.5974025974025974 and parameters: {'iterations': 647, 'learning_rate': 0.09970718230527144, 'depth': 6, 'l2_leaf_reg': 0.46010282281246256}. Best is trial 395 with value: 0.7064935064935065.\n"
     ]
    },
    {
     "name": "stderr",
     "output_type": "stream",
     "text": [
      "C:\\Users\\joanp\\AppData\\Local\\Temp\\ipykernel_28324\\565608352.py:14: FutureWarning: suggest_loguniform has been deprecated in v3.0.0. This feature will be removed in v6.0.0. See https://github.com/optuna/optuna/releases/tag/v3.0.0. Use suggest_float(..., log=True) instead.\n",
      "  \"learning_rate\": trial.suggest_loguniform(\"learning_rate\", 0.0001, 0.1),\n",
      "C:\\Users\\joanp\\AppData\\Local\\Temp\\ipykernel_28324\\565608352.py:16: FutureWarning: suggest_loguniform has been deprecated in v3.0.0. This feature will be removed in v6.0.0. See https://github.com/optuna/optuna/releases/tag/v3.0.0. Use suggest_float(..., log=True) instead.\n",
      "  \"l2_leaf_reg\": trial.suggest_loguniform(\"l2_leaf_reg\", 0.1, 10.0),\n"
     ]
    },
    {
     "name": "stdout",
     "output_type": "stream",
     "text": [
      "[I 2023-12-19 19:29:24,576] Trial 579 finished with value: 0.6935064935064935 and parameters: {'iterations': 691, 'learning_rate': 0.0007010965582954365, 'depth': 6, 'l2_leaf_reg': 3.4665286707545127}. Best is trial 395 with value: 0.7064935064935065.\n"
     ]
    },
    {
     "name": "stderr",
     "output_type": "stream",
     "text": [
      "C:\\Users\\joanp\\AppData\\Local\\Temp\\ipykernel_28324\\565608352.py:14: FutureWarning: suggest_loguniform has been deprecated in v3.0.0. This feature will be removed in v6.0.0. See https://github.com/optuna/optuna/releases/tag/v3.0.0. Use suggest_float(..., log=True) instead.\n",
      "  \"learning_rate\": trial.suggest_loguniform(\"learning_rate\", 0.0001, 0.1),\n",
      "C:\\Users\\joanp\\AppData\\Local\\Temp\\ipykernel_28324\\565608352.py:16: FutureWarning: suggest_loguniform has been deprecated in v3.0.0. This feature will be removed in v6.0.0. See https://github.com/optuna/optuna/releases/tag/v3.0.0. Use suggest_float(..., log=True) instead.\n",
      "  \"l2_leaf_reg\": trial.suggest_loguniform(\"l2_leaf_reg\", 0.1, 10.0),\n"
     ]
    },
    {
     "name": "stdout",
     "output_type": "stream",
     "text": [
      "[I 2023-12-19 19:29:32,843] Trial 580 finished with value: 0.6961038961038961 and parameters: {'iterations': 673, 'learning_rate': 0.0007876044431071014, 'depth': 6, 'l2_leaf_reg': 0.5806607111799001}. Best is trial 395 with value: 0.7064935064935065.\n"
     ]
    },
    {
     "name": "stderr",
     "output_type": "stream",
     "text": [
      "C:\\Users\\joanp\\AppData\\Local\\Temp\\ipykernel_28324\\565608352.py:14: FutureWarning: suggest_loguniform has been deprecated in v3.0.0. This feature will be removed in v6.0.0. See https://github.com/optuna/optuna/releases/tag/v3.0.0. Use suggest_float(..., log=True) instead.\n",
      "  \"learning_rate\": trial.suggest_loguniform(\"learning_rate\", 0.0001, 0.1),\n",
      "C:\\Users\\joanp\\AppData\\Local\\Temp\\ipykernel_28324\\565608352.py:16: FutureWarning: suggest_loguniform has been deprecated in v3.0.0. This feature will be removed in v6.0.0. See https://github.com/optuna/optuna/releases/tag/v3.0.0. Use suggest_float(..., log=True) instead.\n",
      "  \"l2_leaf_reg\": trial.suggest_loguniform(\"l2_leaf_reg\", 0.1, 10.0),\n"
     ]
    },
    {
     "name": "stdout",
     "output_type": "stream",
     "text": [
      "[I 2023-12-19 19:29:39,507] Trial 581 finished with value: 0.7038961038961039 and parameters: {'iterations': 604, 'learning_rate': 0.0006711859984027447, 'depth': 6, 'l2_leaf_reg': 3.975229206938311}. Best is trial 395 with value: 0.7064935064935065.\n"
     ]
    },
    {
     "name": "stderr",
     "output_type": "stream",
     "text": [
      "C:\\Users\\joanp\\AppData\\Local\\Temp\\ipykernel_28324\\565608352.py:14: FutureWarning: suggest_loguniform has been deprecated in v3.0.0. This feature will be removed in v6.0.0. See https://github.com/optuna/optuna/releases/tag/v3.0.0. Use suggest_float(..., log=True) instead.\n",
      "  \"learning_rate\": trial.suggest_loguniform(\"learning_rate\", 0.0001, 0.1),\n",
      "C:\\Users\\joanp\\AppData\\Local\\Temp\\ipykernel_28324\\565608352.py:16: FutureWarning: suggest_loguniform has been deprecated in v3.0.0. This feature will be removed in v6.0.0. See https://github.com/optuna/optuna/releases/tag/v3.0.0. Use suggest_float(..., log=True) instead.\n",
      "  \"l2_leaf_reg\": trial.suggest_loguniform(\"l2_leaf_reg\", 0.1, 10.0),\n"
     ]
    },
    {
     "name": "stdout",
     "output_type": "stream",
     "text": [
      "[I 2023-12-19 19:29:47,075] Trial 582 finished with value: 0.638961038961039 and parameters: {'iterations': 647, 'learning_rate': 0.008513198103496947, 'depth': 6, 'l2_leaf_reg': 3.730439796505056}. Best is trial 395 with value: 0.7064935064935065.\n"
     ]
    },
    {
     "name": "stderr",
     "output_type": "stream",
     "text": [
      "C:\\Users\\joanp\\AppData\\Local\\Temp\\ipykernel_28324\\565608352.py:14: FutureWarning: suggest_loguniform has been deprecated in v3.0.0. This feature will be removed in v6.0.0. See https://github.com/optuna/optuna/releases/tag/v3.0.0. Use suggest_float(..., log=True) instead.\n",
      "  \"learning_rate\": trial.suggest_loguniform(\"learning_rate\", 0.0001, 0.1),\n",
      "C:\\Users\\joanp\\AppData\\Local\\Temp\\ipykernel_28324\\565608352.py:16: FutureWarning: suggest_loguniform has been deprecated in v3.0.0. This feature will be removed in v6.0.0. See https://github.com/optuna/optuna/releases/tag/v3.0.0. Use suggest_float(..., log=True) instead.\n",
      "  \"l2_leaf_reg\": trial.suggest_loguniform(\"l2_leaf_reg\", 0.1, 10.0),\n"
     ]
    },
    {
     "name": "stdout",
     "output_type": "stream",
     "text": [
      "[I 2023-12-19 19:29:54,265] Trial 583 finished with value: 0.6831168831168831 and parameters: {'iterations': 667, 'learning_rate': 0.0006747800101530824, 'depth': 6, 'l2_leaf_reg': 4.504108693036632}. Best is trial 395 with value: 0.7064935064935065.\n"
     ]
    },
    {
     "name": "stderr",
     "output_type": "stream",
     "text": [
      "C:\\Users\\joanp\\AppData\\Local\\Temp\\ipykernel_28324\\565608352.py:14: FutureWarning: suggest_loguniform has been deprecated in v3.0.0. This feature will be removed in v6.0.0. See https://github.com/optuna/optuna/releases/tag/v3.0.0. Use suggest_float(..., log=True) instead.\n",
      "  \"learning_rate\": trial.suggest_loguniform(\"learning_rate\", 0.0001, 0.1),\n",
      "C:\\Users\\joanp\\AppData\\Local\\Temp\\ipykernel_28324\\565608352.py:16: FutureWarning: suggest_loguniform has been deprecated in v3.0.0. This feature will be removed in v6.0.0. See https://github.com/optuna/optuna/releases/tag/v3.0.0. Use suggest_float(..., log=True) instead.\n",
      "  \"l2_leaf_reg\": trial.suggest_loguniform(\"l2_leaf_reg\", 0.1, 10.0),\n"
     ]
    },
    {
     "name": "stdout",
     "output_type": "stream",
     "text": [
      "[I 2023-12-19 19:30:00,889] Trial 584 finished with value: 0.6753246753246753 and parameters: {'iterations': 611, 'learning_rate': 0.0009355632801169156, 'depth': 6, 'l2_leaf_reg': 4.19757535499134}. Best is trial 395 with value: 0.7064935064935065.\n"
     ]
    },
    {
     "name": "stderr",
     "output_type": "stream",
     "text": [
      "C:\\Users\\joanp\\AppData\\Local\\Temp\\ipykernel_28324\\565608352.py:14: FutureWarning: suggest_loguniform has been deprecated in v3.0.0. This feature will be removed in v6.0.0. See https://github.com/optuna/optuna/releases/tag/v3.0.0. Use suggest_float(..., log=True) instead.\n",
      "  \"learning_rate\": trial.suggest_loguniform(\"learning_rate\", 0.0001, 0.1),\n",
      "C:\\Users\\joanp\\AppData\\Local\\Temp\\ipykernel_28324\\565608352.py:16: FutureWarning: suggest_loguniform has been deprecated in v3.0.0. This feature will be removed in v6.0.0. See https://github.com/optuna/optuna/releases/tag/v3.0.0. Use suggest_float(..., log=True) instead.\n",
      "  \"l2_leaf_reg\": trial.suggest_loguniform(\"l2_leaf_reg\", 0.1, 10.0),\n"
     ]
    },
    {
     "name": "stdout",
     "output_type": "stream",
     "text": [
      "[I 2023-12-19 19:30:06,888] Trial 585 finished with value: 0.6857142857142857 and parameters: {'iterations': 559, 'learning_rate': 0.0008184080133816537, 'depth': 5, 'l2_leaf_reg': 0.15537162821464068}. Best is trial 395 with value: 0.7064935064935065.\n"
     ]
    },
    {
     "name": "stderr",
     "output_type": "stream",
     "text": [
      "C:\\Users\\joanp\\AppData\\Local\\Temp\\ipykernel_28324\\565608352.py:14: FutureWarning: suggest_loguniform has been deprecated in v3.0.0. This feature will be removed in v6.0.0. See https://github.com/optuna/optuna/releases/tag/v3.0.0. Use suggest_float(..., log=True) instead.\n",
      "  \"learning_rate\": trial.suggest_loguniform(\"learning_rate\", 0.0001, 0.1),\n",
      "C:\\Users\\joanp\\AppData\\Local\\Temp\\ipykernel_28324\\565608352.py:16: FutureWarning: suggest_loguniform has been deprecated in v3.0.0. This feature will be removed in v6.0.0. See https://github.com/optuna/optuna/releases/tag/v3.0.0. Use suggest_float(..., log=True) instead.\n",
      "  \"l2_leaf_reg\": trial.suggest_loguniform(\"l2_leaf_reg\", 0.1, 10.0),\n"
     ]
    },
    {
     "name": "stdout",
     "output_type": "stream",
     "text": [
      "[I 2023-12-19 19:30:12,904] Trial 586 finished with value: 0.7012987012987013 and parameters: {'iterations': 584, 'learning_rate': 0.000595400004896627, 'depth': 6, 'l2_leaf_reg': 3.9699655360279564}. Best is trial 395 with value: 0.7064935064935065.\n"
     ]
    },
    {
     "name": "stderr",
     "output_type": "stream",
     "text": [
      "C:\\Users\\joanp\\AppData\\Local\\Temp\\ipykernel_28324\\565608352.py:14: FutureWarning: suggest_loguniform has been deprecated in v3.0.0. This feature will be removed in v6.0.0. See https://github.com/optuna/optuna/releases/tag/v3.0.0. Use suggest_float(..., log=True) instead.\n",
      "  \"learning_rate\": trial.suggest_loguniform(\"learning_rate\", 0.0001, 0.1),\n",
      "C:\\Users\\joanp\\AppData\\Local\\Temp\\ipykernel_28324\\565608352.py:16: FutureWarning: suggest_loguniform has been deprecated in v3.0.0. This feature will be removed in v6.0.0. See https://github.com/optuna/optuna/releases/tag/v3.0.0. Use suggest_float(..., log=True) instead.\n",
      "  \"l2_leaf_reg\": trial.suggest_loguniform(\"l2_leaf_reg\", 0.1, 10.0),\n"
     ]
    },
    {
     "name": "stdout",
     "output_type": "stream",
     "text": [
      "[I 2023-12-19 19:30:20,364] Trial 587 finished with value: 0.6857142857142857 and parameters: {'iterations': 616, 'learning_rate': 0.0007520515714760223, 'depth': 6, 'l2_leaf_reg': 3.042190568620396}. Best is trial 395 with value: 0.7064935064935065.\n"
     ]
    },
    {
     "name": "stderr",
     "output_type": "stream",
     "text": [
      "C:\\Users\\joanp\\AppData\\Local\\Temp\\ipykernel_28324\\565608352.py:14: FutureWarning: suggest_loguniform has been deprecated in v3.0.0. This feature will be removed in v6.0.0. See https://github.com/optuna/optuna/releases/tag/v3.0.0. Use suggest_float(..., log=True) instead.\n",
      "  \"learning_rate\": trial.suggest_loguniform(\"learning_rate\", 0.0001, 0.1),\n",
      "C:\\Users\\joanp\\AppData\\Local\\Temp\\ipykernel_28324\\565608352.py:16: FutureWarning: suggest_loguniform has been deprecated in v3.0.0. This feature will be removed in v6.0.0. See https://github.com/optuna/optuna/releases/tag/v3.0.0. Use suggest_float(..., log=True) instead.\n",
      "  \"l2_leaf_reg\": trial.suggest_loguniform(\"l2_leaf_reg\", 0.1, 10.0),\n"
     ]
    },
    {
     "name": "stdout",
     "output_type": "stream",
     "text": [
      "[I 2023-12-19 19:30:26,957] Trial 588 finished with value: 0.6857142857142857 and parameters: {'iterations': 622, 'learning_rate': 0.0006530672246563218, 'depth': 6, 'l2_leaf_reg': 4.952143999737455}. Best is trial 395 with value: 0.7064935064935065.\n"
     ]
    },
    {
     "name": "stderr",
     "output_type": "stream",
     "text": [
      "C:\\Users\\joanp\\AppData\\Local\\Temp\\ipykernel_28324\\565608352.py:14: FutureWarning: suggest_loguniform has been deprecated in v3.0.0. This feature will be removed in v6.0.0. See https://github.com/optuna/optuna/releases/tag/v3.0.0. Use suggest_float(..., log=True) instead.\n",
      "  \"learning_rate\": trial.suggest_loguniform(\"learning_rate\", 0.0001, 0.1),\n",
      "C:\\Users\\joanp\\AppData\\Local\\Temp\\ipykernel_28324\\565608352.py:16: FutureWarning: suggest_loguniform has been deprecated in v3.0.0. This feature will be removed in v6.0.0. See https://github.com/optuna/optuna/releases/tag/v3.0.0. Use suggest_float(..., log=True) instead.\n",
      "  \"l2_leaf_reg\": trial.suggest_loguniform(\"l2_leaf_reg\", 0.1, 10.0),\n"
     ]
    },
    {
     "name": "stdout",
     "output_type": "stream",
     "text": [
      "[I 2023-12-19 19:30:33,171] Trial 589 finished with value: 0.6883116883116883 and parameters: {'iterations': 581, 'learning_rate': 0.0009579110246544781, 'depth': 6, 'l2_leaf_reg': 0.17265716422242963}. Best is trial 395 with value: 0.7064935064935065.\n"
     ]
    },
    {
     "name": "stderr",
     "output_type": "stream",
     "text": [
      "C:\\Users\\joanp\\AppData\\Local\\Temp\\ipykernel_28324\\565608352.py:14: FutureWarning: suggest_loguniform has been deprecated in v3.0.0. This feature will be removed in v6.0.0. See https://github.com/optuna/optuna/releases/tag/v3.0.0. Use suggest_float(..., log=True) instead.\n",
      "  \"learning_rate\": trial.suggest_loguniform(\"learning_rate\", 0.0001, 0.1),\n",
      "C:\\Users\\joanp\\AppData\\Local\\Temp\\ipykernel_28324\\565608352.py:16: FutureWarning: suggest_loguniform has been deprecated in v3.0.0. This feature will be removed in v6.0.0. See https://github.com/optuna/optuna/releases/tag/v3.0.0. Use suggest_float(..., log=True) instead.\n",
      "  \"l2_leaf_reg\": trial.suggest_loguniform(\"l2_leaf_reg\", 0.1, 10.0),\n"
     ]
    },
    {
     "name": "stdout",
     "output_type": "stream",
     "text": [
      "[I 2023-12-19 19:30:40,279] Trial 590 finished with value: 0.5974025974025974 and parameters: {'iterations': 607, 'learning_rate': 0.023067567096239763, 'depth': 6, 'l2_leaf_reg': 0.20094579679703636}. Best is trial 395 with value: 0.7064935064935065.\n"
     ]
    },
    {
     "name": "stderr",
     "output_type": "stream",
     "text": [
      "C:\\Users\\joanp\\AppData\\Local\\Temp\\ipykernel_28324\\565608352.py:14: FutureWarning: suggest_loguniform has been deprecated in v3.0.0. This feature will be removed in v6.0.0. See https://github.com/optuna/optuna/releases/tag/v3.0.0. Use suggest_float(..., log=True) instead.\n",
      "  \"learning_rate\": trial.suggest_loguniform(\"learning_rate\", 0.0001, 0.1),\n",
      "C:\\Users\\joanp\\AppData\\Local\\Temp\\ipykernel_28324\\565608352.py:16: FutureWarning: suggest_loguniform has been deprecated in v3.0.0. This feature will be removed in v6.0.0. See https://github.com/optuna/optuna/releases/tag/v3.0.0. Use suggest_float(..., log=True) instead.\n",
      "  \"l2_leaf_reg\": trial.suggest_loguniform(\"l2_leaf_reg\", 0.1, 10.0),\n"
     ]
    },
    {
     "name": "stdout",
     "output_type": "stream",
     "text": [
      "[I 2023-12-19 19:30:46,451] Trial 591 finished with value: 0.6935064935064935 and parameters: {'iterations': 589, 'learning_rate': 0.00024079336354007567, 'depth': 6, 'l2_leaf_reg': 3.1773021929273595}. Best is trial 395 with value: 0.7064935064935065.\n"
     ]
    },
    {
     "name": "stderr",
     "output_type": "stream",
     "text": [
      "C:\\Users\\joanp\\AppData\\Local\\Temp\\ipykernel_28324\\565608352.py:14: FutureWarning: suggest_loguniform has been deprecated in v3.0.0. This feature will be removed in v6.0.0. See https://github.com/optuna/optuna/releases/tag/v3.0.0. Use suggest_float(..., log=True) instead.\n",
      "  \"learning_rate\": trial.suggest_loguniform(\"learning_rate\", 0.0001, 0.1),\n",
      "C:\\Users\\joanp\\AppData\\Local\\Temp\\ipykernel_28324\\565608352.py:16: FutureWarning: suggest_loguniform has been deprecated in v3.0.0. This feature will be removed in v6.0.0. See https://github.com/optuna/optuna/releases/tag/v3.0.0. Use suggest_float(..., log=True) instead.\n",
      "  \"l2_leaf_reg\": trial.suggest_loguniform(\"l2_leaf_reg\", 0.1, 10.0),\n"
     ]
    },
    {
     "name": "stdout",
     "output_type": "stream",
     "text": [
      "[I 2023-12-19 19:30:54,342] Trial 592 finished with value: 0.6909090909090909 and parameters: {'iterations': 653, 'learning_rate': 0.0008318128576110822, 'depth': 6, 'l2_leaf_reg': 0.3779537055547201}. Best is trial 395 with value: 0.7064935064935065.\n"
     ]
    },
    {
     "name": "stderr",
     "output_type": "stream",
     "text": [
      "C:\\Users\\joanp\\AppData\\Local\\Temp\\ipykernel_28324\\565608352.py:14: FutureWarning: suggest_loguniform has been deprecated in v3.0.0. This feature will be removed in v6.0.0. See https://github.com/optuna/optuna/releases/tag/v3.0.0. Use suggest_float(..., log=True) instead.\n",
      "  \"learning_rate\": trial.suggest_loguniform(\"learning_rate\", 0.0001, 0.1),\n",
      "C:\\Users\\joanp\\AppData\\Local\\Temp\\ipykernel_28324\\565608352.py:16: FutureWarning: suggest_loguniform has been deprecated in v3.0.0. This feature will be removed in v6.0.0. See https://github.com/optuna/optuna/releases/tag/v3.0.0. Use suggest_float(..., log=True) instead.\n",
      "  \"l2_leaf_reg\": trial.suggest_loguniform(\"l2_leaf_reg\", 0.1, 10.0),\n"
     ]
    },
    {
     "name": "stdout",
     "output_type": "stream",
     "text": [
      "[I 2023-12-19 19:31:00,824] Trial 593 finished with value: 0.6935064935064935 and parameters: {'iterations': 576, 'learning_rate': 0.0006278275391599799, 'depth': 6, 'l2_leaf_reg': 3.525223134847852}. Best is trial 395 with value: 0.7064935064935065.\n"
     ]
    },
    {
     "name": "stderr",
     "output_type": "stream",
     "text": [
      "C:\\Users\\joanp\\AppData\\Local\\Temp\\ipykernel_28324\\565608352.py:14: FutureWarning: suggest_loguniform has been deprecated in v3.0.0. This feature will be removed in v6.0.0. See https://github.com/optuna/optuna/releases/tag/v3.0.0. Use suggest_float(..., log=True) instead.\n",
      "  \"learning_rate\": trial.suggest_loguniform(\"learning_rate\", 0.0001, 0.1),\n",
      "C:\\Users\\joanp\\AppData\\Local\\Temp\\ipykernel_28324\\565608352.py:16: FutureWarning: suggest_loguniform has been deprecated in v3.0.0. This feature will be removed in v6.0.0. See https://github.com/optuna/optuna/releases/tag/v3.0.0. Use suggest_float(..., log=True) instead.\n",
      "  \"l2_leaf_reg\": trial.suggest_loguniform(\"l2_leaf_reg\", 0.1, 10.0),\n"
     ]
    },
    {
     "name": "stdout",
     "output_type": "stream",
     "text": [
      "[I 2023-12-19 19:31:08,199] Trial 594 finished with value: 0.6415584415584416 and parameters: {'iterations': 649, 'learning_rate': 0.009744964091585172, 'depth': 6, 'l2_leaf_reg': 9.670322863590359}. Best is trial 395 with value: 0.7064935064935065.\n"
     ]
    },
    {
     "name": "stderr",
     "output_type": "stream",
     "text": [
      "C:\\Users\\joanp\\AppData\\Local\\Temp\\ipykernel_28324\\565608352.py:14: FutureWarning: suggest_loguniform has been deprecated in v3.0.0. This feature will be removed in v6.0.0. See https://github.com/optuna/optuna/releases/tag/v3.0.0. Use suggest_float(..., log=True) instead.\n",
      "  \"learning_rate\": trial.suggest_loguniform(\"learning_rate\", 0.0001, 0.1),\n",
      "C:\\Users\\joanp\\AppData\\Local\\Temp\\ipykernel_28324\\565608352.py:16: FutureWarning: suggest_loguniform has been deprecated in v3.0.0. This feature will be removed in v6.0.0. See https://github.com/optuna/optuna/releases/tag/v3.0.0. Use suggest_float(..., log=True) instead.\n",
      "  \"l2_leaf_reg\": trial.suggest_loguniform(\"l2_leaf_reg\", 0.1, 10.0),\n"
     ]
    },
    {
     "name": "stdout",
     "output_type": "stream",
     "text": [
      "[I 2023-12-19 19:31:15,074] Trial 595 finished with value: 0.6831168831168831 and parameters: {'iterations': 625, 'learning_rate': 0.0007217019591195042, 'depth': 6, 'l2_leaf_reg': 2.461442938757995}. Best is trial 395 with value: 0.7064935064935065.\n"
     ]
    },
    {
     "name": "stderr",
     "output_type": "stream",
     "text": [
      "C:\\Users\\joanp\\AppData\\Local\\Temp\\ipykernel_28324\\565608352.py:14: FutureWarning: suggest_loguniform has been deprecated in v3.0.0. This feature will be removed in v6.0.0. See https://github.com/optuna/optuna/releases/tag/v3.0.0. Use suggest_float(..., log=True) instead.\n",
      "  \"learning_rate\": trial.suggest_loguniform(\"learning_rate\", 0.0001, 0.1),\n",
      "C:\\Users\\joanp\\AppData\\Local\\Temp\\ipykernel_28324\\565608352.py:16: FutureWarning: suggest_loguniform has been deprecated in v3.0.0. This feature will be removed in v6.0.0. See https://github.com/optuna/optuna/releases/tag/v3.0.0. Use suggest_float(..., log=True) instead.\n",
      "  \"l2_leaf_reg\": trial.suggest_loguniform(\"l2_leaf_reg\", 0.1, 10.0),\n"
     ]
    },
    {
     "name": "stdout",
     "output_type": "stream",
     "text": [
      "[I 2023-12-19 19:31:21,984] Trial 596 finished with value: 0.6883116883116883 and parameters: {'iterations': 613, 'learning_rate': 0.0009782013989361878, 'depth': 6, 'l2_leaf_reg': 4.035857534031125}. Best is trial 395 with value: 0.7064935064935065.\n"
     ]
    },
    {
     "name": "stderr",
     "output_type": "stream",
     "text": [
      "C:\\Users\\joanp\\AppData\\Local\\Temp\\ipykernel_28324\\565608352.py:14: FutureWarning: suggest_loguniform has been deprecated in v3.0.0. This feature will be removed in v6.0.0. See https://github.com/optuna/optuna/releases/tag/v3.0.0. Use suggest_float(..., log=True) instead.\n",
      "  \"learning_rate\": trial.suggest_loguniform(\"learning_rate\", 0.0001, 0.1),\n",
      "C:\\Users\\joanp\\AppData\\Local\\Temp\\ipykernel_28324\\565608352.py:16: FutureWarning: suggest_loguniform has been deprecated in v3.0.0. This feature will be removed in v6.0.0. See https://github.com/optuna/optuna/releases/tag/v3.0.0. Use suggest_float(..., log=True) instead.\n",
      "  \"l2_leaf_reg\": trial.suggest_loguniform(\"l2_leaf_reg\", 0.1, 10.0),\n"
     ]
    },
    {
     "name": "stdout",
     "output_type": "stream",
     "text": [
      "[I 2023-12-19 19:31:28,938] Trial 597 finished with value: 0.6857142857142857 and parameters: {'iterations': 623, 'learning_rate': 0.0008265801596724002, 'depth': 6, 'l2_leaf_reg': 0.4369991654605081}. Best is trial 395 with value: 0.7064935064935065.\n"
     ]
    },
    {
     "name": "stderr",
     "output_type": "stream",
     "text": [
      "C:\\Users\\joanp\\AppData\\Local\\Temp\\ipykernel_28324\\565608352.py:14: FutureWarning: suggest_loguniform has been deprecated in v3.0.0. This feature will be removed in v6.0.0. See https://github.com/optuna/optuna/releases/tag/v3.0.0. Use suggest_float(..., log=True) instead.\n",
      "  \"learning_rate\": trial.suggest_loguniform(\"learning_rate\", 0.0001, 0.1),\n",
      "C:\\Users\\joanp\\AppData\\Local\\Temp\\ipykernel_28324\\565608352.py:16: FutureWarning: suggest_loguniform has been deprecated in v3.0.0. This feature will be removed in v6.0.0. See https://github.com/optuna/optuna/releases/tag/v3.0.0. Use suggest_float(..., log=True) instead.\n",
      "  \"l2_leaf_reg\": trial.suggest_loguniform(\"l2_leaf_reg\", 0.1, 10.0),\n"
     ]
    },
    {
     "name": "stdout",
     "output_type": "stream",
     "text": [
      "[I 2023-12-19 19:31:34,506] Trial 598 finished with value: 0.6909090909090909 and parameters: {'iterations': 535, 'learning_rate': 0.0006110602759838428, 'depth': 6, 'l2_leaf_reg': 0.6175820313987037}. Best is trial 395 with value: 0.7064935064935065.\n"
     ]
    },
    {
     "name": "stderr",
     "output_type": "stream",
     "text": [
      "C:\\Users\\joanp\\AppData\\Local\\Temp\\ipykernel_28324\\565608352.py:14: FutureWarning: suggest_loguniform has been deprecated in v3.0.0. This feature will be removed in v6.0.0. See https://github.com/optuna/optuna/releases/tag/v3.0.0. Use suggest_float(..., log=True) instead.\n",
      "  \"learning_rate\": trial.suggest_loguniform(\"learning_rate\", 0.0001, 0.1),\n",
      "C:\\Users\\joanp\\AppData\\Local\\Temp\\ipykernel_28324\\565608352.py:16: FutureWarning: suggest_loguniform has been deprecated in v3.0.0. This feature will be removed in v6.0.0. See https://github.com/optuna/optuna/releases/tag/v3.0.0. Use suggest_float(..., log=True) instead.\n",
      "  \"l2_leaf_reg\": trial.suggest_loguniform(\"l2_leaf_reg\", 0.1, 10.0),\n"
     ]
    },
    {
     "name": "stdout",
     "output_type": "stream",
     "text": [
      "[I 2023-12-19 19:31:41,546] Trial 599 finished with value: 0.6181818181818182 and parameters: {'iterations': 636, 'learning_rate': 0.02468270296672125, 'depth': 6, 'l2_leaf_reg': 0.5330719290425106}. Best is trial 395 with value: 0.7064935064935065.\n"
     ]
    },
    {
     "name": "stderr",
     "output_type": "stream",
     "text": [
      "C:\\Users\\joanp\\AppData\\Local\\Temp\\ipykernel_28324\\565608352.py:14: FutureWarning: suggest_loguniform has been deprecated in v3.0.0. This feature will be removed in v6.0.0. See https://github.com/optuna/optuna/releases/tag/v3.0.0. Use suggest_float(..., log=True) instead.\n",
      "  \"learning_rate\": trial.suggest_loguniform(\"learning_rate\", 0.0001, 0.1),\n",
      "C:\\Users\\joanp\\AppData\\Local\\Temp\\ipykernel_28324\\565608352.py:16: FutureWarning: suggest_loguniform has been deprecated in v3.0.0. This feature will be removed in v6.0.0. See https://github.com/optuna/optuna/releases/tag/v3.0.0. Use suggest_float(..., log=True) instead.\n",
      "  \"l2_leaf_reg\": trial.suggest_loguniform(\"l2_leaf_reg\", 0.1, 10.0),\n"
     ]
    },
    {
     "name": "stdout",
     "output_type": "stream",
     "text": [
      "[I 2023-12-19 19:31:47,789] Trial 600 finished with value: 0.7012987012987013 and parameters: {'iterations': 604, 'learning_rate': 0.0010710282426995858, 'depth': 6, 'l2_leaf_reg': 3.28121236868823}. Best is trial 395 with value: 0.7064935064935065.\n",
      "Best Parameters: {'iterations': 353, 'learning_rate': 0.0007450177572294038, 'depth': 6, 'l2_leaf_reg': 0.3949154222285535}\n",
      "Best Recall: 0.7064935064935065\n"
     ]
    }
   ],
   "source": [
    "import optuna\n",
    "from sklearn.metrics import recall_score, f1_score\n",
    "\n",
    "# Define the pipeline components\n",
    "scaler = StandardScaler()\n",
    "over = SMOTE(sampling_strategy=0.3)\n",
    "under = RandomUnderSampler(sampling_strategy=1)\n",
    "\n",
    "\n",
    "def objective(trial):\n",
    "    # Define the hyperparameters to be tuned\n",
    "    params = {\n",
    "        \"iterations\": trial.suggest_int(\"iterations\", 100, 1000),\n",
    "        \"learning_rate\": trial.suggest_loguniform(\"learning_rate\", 0.0001, 0.1),\n",
    "        \"depth\": trial.suggest_int(\"depth\", 3, 10),\n",
    "        \"l2_leaf_reg\": trial.suggest_loguniform(\"l2_leaf_reg\", 0.1, 10.0),\n",
    "        \"random_seed\": 123,\n",
    "        \"verbose\": False,\n",
    "    }\n",
    "\n",
    "    # Create the CatBoost classifier with the suggested hyperparameters\n",
    "    model = CatBoostClassifier(**params)\n",
    "\n",
    "    # Create the pipeline\n",
    "    pipeline = imbpipeline(\n",
    "        [\n",
    "            (\"preprocessor\", scaler),\n",
    "            (\"oversampling\", over),\n",
    "            (\"undersampling\", under),\n",
    "            (\"classifier\", model),\n",
    "        ]\n",
    "    )\n",
    "\n",
    "    # Fit the model on the training data\n",
    "    pipeline.fit(X_train, y_train)\n",
    "\n",
    "    # Predict on the validation data\n",
    "    y_pred = pipeline.predict(X_val)\n",
    "\n",
    "    # Calculate the recall score\n",
    "    recall = recall_score(y_val, y_pred)\n",
    "\n",
    "    return recall\n",
    "\n",
    "\n",
    "# Create an Optuna study\n",
    "study = optuna.create_study(\n",
    "    direction=\"maximize\",\n",
    "    storage=\"sqlite:///db.sqlite3\",\n",
    "    study_name=\"quadratic-simple\",\n",
    "    load_if_exists=True,\n",
    ")\n",
    "\n",
    "# Optimize the objective function\n",
    "study.optimize(objective, n_trials=100, show_progress_bar=True)\n",
    "\n",
    "# Get the best parameters and best recall score\n",
    "best_params = study.best_params\n",
    "best_recall = study.best_value\n",
    "\n",
    "print(\"Best Parameters:\", best_params)\n",
    "print(\"Best Recall:\", best_recall)"
   ]
  },
  {
   "cell_type": "code",
   "execution_count": 4,
   "metadata": {},
   "outputs": [
    {
     "name": "stdout",
     "output_type": "stream",
     "text": [
      "0:\tlearn: 0.6923764\ttotal: 8.21ms\tremaining: 2.89s\n",
      "1:\tlearn: 0.6915324\ttotal: 17ms\tremaining: 2.98s\n",
      "2:\tlearn: 0.6907124\ttotal: 26.6ms\tremaining: 3.11s\n",
      "3:\tlearn: 0.6899229\ttotal: 36.2ms\tremaining: 3.15s\n",
      "4:\tlearn: 0.6890740\ttotal: 45.1ms\tremaining: 3.14s\n",
      "5:\tlearn: 0.6880002\ttotal: 53.9ms\tremaining: 3.12s\n",
      "6:\tlearn: 0.6869328\ttotal: 64ms\tremaining: 3.16s\n",
      "7:\tlearn: 0.6862310\ttotal: 77.4ms\tremaining: 3.34s\n",
      "8:\tlearn: 0.6855098\ttotal: 86.9ms\tremaining: 3.32s\n",
      "9:\tlearn: 0.6848118\ttotal: 95.6ms\tremaining: 3.28s\n",
      "10:\tlearn: 0.6841501\ttotal: 104ms\tremaining: 3.24s\n",
      "11:\tlearn: 0.6834028\ttotal: 113ms\tremaining: 3.2s\n",
      "12:\tlearn: 0.6827682\ttotal: 121ms\tremaining: 3.16s\n",
      "13:\tlearn: 0.6819415\ttotal: 128ms\tremaining: 3.11s\n",
      "14:\tlearn: 0.6812735\ttotal: 136ms\tremaining: 3.07s\n",
      "15:\tlearn: 0.6805834\ttotal: 144ms\tremaining: 3.03s\n",
      "16:\tlearn: 0.6796484\ttotal: 152ms\tremaining: 3s\n",
      "17:\tlearn: 0.6789497\ttotal: 158ms\tremaining: 2.95s\n",
      "18:\tlearn: 0.6779344\ttotal: 166ms\tremaining: 2.92s\n",
      "19:\tlearn: 0.6769445\ttotal: 173ms\tremaining: 2.88s\n",
      "20:\tlearn: 0.6762159\ttotal: 180ms\tremaining: 2.85s\n",
      "21:\tlearn: 0.6755722\ttotal: 188ms\tremaining: 2.83s\n",
      "22:\tlearn: 0.6748749\ttotal: 195ms\tremaining: 2.8s\n",
      "23:\tlearn: 0.6742026\ttotal: 202ms\tremaining: 2.77s\n",
      "24:\tlearn: 0.6735123\ttotal: 210ms\tremaining: 2.75s\n",
      "25:\tlearn: 0.6727798\ttotal: 218ms\tremaining: 2.74s\n",
      "26:\tlearn: 0.6721701\ttotal: 225ms\tremaining: 2.71s\n",
      "27:\tlearn: 0.6715281\ttotal: 233ms\tremaining: 2.71s\n",
      "28:\tlearn: 0.6708531\ttotal: 241ms\tremaining: 2.69s\n",
      "29:\tlearn: 0.6701548\ttotal: 249ms\tremaining: 2.68s\n",
      "30:\tlearn: 0.6694329\ttotal: 256ms\tremaining: 2.66s\n",
      "31:\tlearn: 0.6684227\ttotal: 263ms\tremaining: 2.64s\n",
      "32:\tlearn: 0.6677178\ttotal: 271ms\tremaining: 2.63s\n",
      "33:\tlearn: 0.6669244\ttotal: 280ms\tremaining: 2.63s\n",
      "34:\tlearn: 0.6662457\ttotal: 288ms\tremaining: 2.62s\n",
      "35:\tlearn: 0.6655187\ttotal: 297ms\tremaining: 2.61s\n",
      "36:\tlearn: 0.6648224\ttotal: 305ms\tremaining: 2.6s\n",
      "37:\tlearn: 0.6640768\ttotal: 314ms\tremaining: 2.6s\n",
      "38:\tlearn: 0.6631781\ttotal: 322ms\tremaining: 2.59s\n",
      "39:\tlearn: 0.6625962\ttotal: 331ms\tremaining: 2.59s\n",
      "40:\tlearn: 0.6619150\ttotal: 340ms\tremaining: 2.59s\n",
      "41:\tlearn: 0.6612243\ttotal: 348ms\tremaining: 2.58s\n",
      "42:\tlearn: 0.6604523\ttotal: 357ms\tremaining: 2.58s\n",
      "43:\tlearn: 0.6597937\ttotal: 367ms\tremaining: 2.57s\n",
      "44:\tlearn: 0.6591899\ttotal: 376ms\tremaining: 2.57s\n",
      "45:\tlearn: 0.6582503\ttotal: 385ms\tremaining: 2.57s\n",
      "46:\tlearn: 0.6574363\ttotal: 395ms\tremaining: 2.57s\n",
      "47:\tlearn: 0.6567604\ttotal: 405ms\tremaining: 2.57s\n",
      "48:\tlearn: 0.6560518\ttotal: 415ms\tremaining: 2.57s\n",
      "49:\tlearn: 0.6552135\ttotal: 425ms\tremaining: 2.58s\n",
      "50:\tlearn: 0.6545899\ttotal: 435ms\tremaining: 2.58s\n",
      "51:\tlearn: 0.6539423\ttotal: 445ms\tremaining: 2.58s\n",
      "52:\tlearn: 0.6532216\ttotal: 456ms\tremaining: 2.58s\n",
      "53:\tlearn: 0.6522920\ttotal: 466ms\tremaining: 2.58s\n",
      "54:\tlearn: 0.6516959\ttotal: 476ms\tremaining: 2.58s\n",
      "55:\tlearn: 0.6510516\ttotal: 486ms\tremaining: 2.58s\n",
      "56:\tlearn: 0.6503472\ttotal: 496ms\tremaining: 2.58s\n",
      "57:\tlearn: 0.6497160\ttotal: 506ms\tremaining: 2.57s\n",
      "58:\tlearn: 0.6490429\ttotal: 515ms\tremaining: 2.57s\n",
      "59:\tlearn: 0.6483777\ttotal: 524ms\tremaining: 2.56s\n",
      "60:\tlearn: 0.6476733\ttotal: 534ms\tremaining: 2.55s\n",
      "61:\tlearn: 0.6467380\ttotal: 543ms\tremaining: 2.55s\n",
      "62:\tlearn: 0.6458318\ttotal: 552ms\tremaining: 2.54s\n",
      "63:\tlearn: 0.6447731\ttotal: 562ms\tremaining: 2.54s\n",
      "64:\tlearn: 0.6439269\ttotal: 572ms\tremaining: 2.53s\n",
      "65:\tlearn: 0.6431957\ttotal: 582ms\tremaining: 2.53s\n",
      "66:\tlearn: 0.6422343\ttotal: 592ms\tremaining: 2.52s\n",
      "67:\tlearn: 0.6415802\ttotal: 601ms\tremaining: 2.52s\n",
      "68:\tlearn: 0.6409454\ttotal: 611ms\tremaining: 2.51s\n",
      "69:\tlearn: 0.6400568\ttotal: 620ms\tremaining: 2.5s\n",
      "70:\tlearn: 0.6393845\ttotal: 630ms\tremaining: 2.5s\n",
      "71:\tlearn: 0.6385827\ttotal: 641ms\tremaining: 2.5s\n",
      "72:\tlearn: 0.6379889\ttotal: 650ms\tremaining: 2.49s\n",
      "73:\tlearn: 0.6373269\ttotal: 659ms\tremaining: 2.49s\n",
      "74:\tlearn: 0.6366718\ttotal: 668ms\tremaining: 2.48s\n",
      "75:\tlearn: 0.6361018\ttotal: 678ms\tremaining: 2.47s\n",
      "76:\tlearn: 0.6354249\ttotal: 688ms\tremaining: 2.46s\n",
      "77:\tlearn: 0.6348645\ttotal: 697ms\tremaining: 2.46s\n",
      "78:\tlearn: 0.6340335\ttotal: 707ms\tremaining: 2.45s\n",
      "79:\tlearn: 0.6334099\ttotal: 717ms\tremaining: 2.45s\n",
      "80:\tlearn: 0.6325992\ttotal: 726ms\tremaining: 2.44s\n",
      "81:\tlearn: 0.6319720\ttotal: 737ms\tremaining: 2.43s\n",
      "82:\tlearn: 0.6313709\ttotal: 745ms\tremaining: 2.42s\n",
      "83:\tlearn: 0.6307570\ttotal: 754ms\tremaining: 2.42s\n",
      "84:\tlearn: 0.6301823\ttotal: 764ms\tremaining: 2.41s\n",
      "85:\tlearn: 0.6295607\ttotal: 773ms\tremaining: 2.4s\n",
      "86:\tlearn: 0.6289328\ttotal: 782ms\tremaining: 2.39s\n",
      "87:\tlearn: 0.6283247\ttotal: 792ms\tremaining: 2.38s\n",
      "88:\tlearn: 0.6277504\ttotal: 801ms\tremaining: 2.38s\n",
      "89:\tlearn: 0.6271466\ttotal: 810ms\tremaining: 2.37s\n",
      "90:\tlearn: 0.6265402\ttotal: 820ms\tremaining: 2.36s\n",
      "91:\tlearn: 0.6259118\ttotal: 830ms\tremaining: 2.35s\n",
      "92:\tlearn: 0.6253771\ttotal: 840ms\tremaining: 2.35s\n",
      "93:\tlearn: 0.6247746\ttotal: 849ms\tremaining: 2.34s\n",
      "94:\tlearn: 0.6241883\ttotal: 859ms\tremaining: 2.33s\n",
      "95:\tlearn: 0.6232870\ttotal: 868ms\tremaining: 2.32s\n",
      "96:\tlearn: 0.6226441\ttotal: 878ms\tremaining: 2.32s\n",
      "97:\tlearn: 0.6220231\ttotal: 886ms\tremaining: 2.31s\n",
      "98:\tlearn: 0.6214023\ttotal: 895ms\tremaining: 2.29s\n",
      "99:\tlearn: 0.6207319\ttotal: 904ms\tremaining: 2.29s\n",
      "100:\tlearn: 0.6200130\ttotal: 913ms\tremaining: 2.28s\n",
      "101:\tlearn: 0.6191847\ttotal: 923ms\tremaining: 2.27s\n",
      "102:\tlearn: 0.6186136\ttotal: 932ms\tremaining: 2.26s\n",
      "103:\tlearn: 0.6180427\ttotal: 941ms\tremaining: 2.25s\n",
      "104:\tlearn: 0.6174430\ttotal: 952ms\tremaining: 2.25s\n",
      "105:\tlearn: 0.6168700\ttotal: 960ms\tremaining: 2.24s\n",
      "106:\tlearn: 0.6163840\ttotal: 970ms\tremaining: 2.23s\n",
      "107:\tlearn: 0.6156999\ttotal: 979ms\tremaining: 2.22s\n",
      "108:\tlearn: 0.6151652\ttotal: 988ms\tremaining: 2.21s\n",
      "109:\tlearn: 0.6146315\ttotal: 997ms\tremaining: 2.2s\n",
      "110:\tlearn: 0.6141236\ttotal: 1.01s\tremaining: 2.19s\n",
      "111:\tlearn: 0.6134048\ttotal: 1.01s\tremaining: 2.19s\n",
      "112:\tlearn: 0.6124867\ttotal: 1.02s\tremaining: 2.18s\n",
      "113:\tlearn: 0.6119554\ttotal: 1.03s\tremaining: 2.17s\n",
      "114:\tlearn: 0.6113564\ttotal: 1.04s\tremaining: 2.16s\n",
      "115:\tlearn: 0.6107404\ttotal: 1.05s\tremaining: 2.15s\n",
      "116:\tlearn: 0.6099069\ttotal: 1.06s\tremaining: 2.15s\n",
      "117:\tlearn: 0.6091311\ttotal: 1.07s\tremaining: 2.14s\n",
      "118:\tlearn: 0.6084760\ttotal: 1.08s\tremaining: 2.13s\n",
      "119:\tlearn: 0.6079214\ttotal: 1.09s\tremaining: 2.12s\n",
      "120:\tlearn: 0.6071058\ttotal: 1.1s\tremaining: 2.11s\n",
      "121:\tlearn: 0.6065094\ttotal: 1.11s\tremaining: 2.1s\n",
      "122:\tlearn: 0.6059894\ttotal: 1.12s\tremaining: 2.09s\n",
      "123:\tlearn: 0.6051656\ttotal: 1.13s\tremaining: 2.08s\n",
      "124:\tlearn: 0.6046037\ttotal: 1.14s\tremaining: 2.08s\n",
      "125:\tlearn: 0.6040680\ttotal: 1.15s\tremaining: 2.07s\n",
      "126:\tlearn: 0.6032689\ttotal: 1.16s\tremaining: 2.06s\n",
      "127:\tlearn: 0.6027067\ttotal: 1.16s\tremaining: 2.05s\n",
      "128:\tlearn: 0.6021205\ttotal: 1.17s\tremaining: 2.04s\n",
      "129:\tlearn: 0.6013101\ttotal: 1.18s\tremaining: 2.03s\n",
      "130:\tlearn: 0.6008366\ttotal: 1.19s\tremaining: 2.02s\n",
      "131:\tlearn: 0.6002640\ttotal: 1.2s\tremaining: 2.01s\n",
      "132:\tlearn: 0.5996901\ttotal: 1.21s\tremaining: 2s\n",
      "133:\tlearn: 0.5990547\ttotal: 1.22s\tremaining: 2s\n",
      "134:\tlearn: 0.5985283\ttotal: 1.23s\tremaining: 1.99s\n",
      "135:\tlearn: 0.5979249\ttotal: 1.24s\tremaining: 1.98s\n",
      "136:\tlearn: 0.5973502\ttotal: 1.25s\tremaining: 1.97s\n",
      "137:\tlearn: 0.5967590\ttotal: 1.26s\tremaining: 1.96s\n",
      "138:\tlearn: 0.5960369\ttotal: 1.27s\tremaining: 1.95s\n",
      "139:\tlearn: 0.5954962\ttotal: 1.28s\tremaining: 1.94s\n",
      "140:\tlearn: 0.5949759\ttotal: 1.29s\tremaining: 1.93s\n",
      "141:\tlearn: 0.5940939\ttotal: 1.3s\tremaining: 1.93s\n",
      "142:\tlearn: 0.5934450\ttotal: 1.3s\tremaining: 1.92s\n",
      "143:\tlearn: 0.5928639\ttotal: 1.31s\tremaining: 1.91s\n",
      "144:\tlearn: 0.5923000\ttotal: 1.32s\tremaining: 1.9s\n",
      "145:\tlearn: 0.5917051\ttotal: 1.33s\tremaining: 1.89s\n",
      "146:\tlearn: 0.5911415\ttotal: 1.34s\tremaining: 1.88s\n",
      "147:\tlearn: 0.5906615\ttotal: 1.35s\tremaining: 1.87s\n",
      "148:\tlearn: 0.5901695\ttotal: 1.36s\tremaining: 1.86s\n",
      "149:\tlearn: 0.5896315\ttotal: 1.37s\tremaining: 1.86s\n",
      "150:\tlearn: 0.5891636\ttotal: 1.38s\tremaining: 1.85s\n",
      "151:\tlearn: 0.5885642\ttotal: 1.39s\tremaining: 1.84s\n",
      "152:\tlearn: 0.5878076\ttotal: 1.4s\tremaining: 1.83s\n",
      "153:\tlearn: 0.5872282\ttotal: 1.41s\tremaining: 1.82s\n",
      "154:\tlearn: 0.5867109\ttotal: 1.42s\tremaining: 1.81s\n",
      "155:\tlearn: 0.5861400\ttotal: 1.43s\tremaining: 1.81s\n",
      "156:\tlearn: 0.5855235\ttotal: 1.44s\tremaining: 1.8s\n",
      "157:\tlearn: 0.5850775\ttotal: 1.45s\tremaining: 1.79s\n",
      "158:\tlearn: 0.5845504\ttotal: 1.46s\tremaining: 1.78s\n",
      "159:\tlearn: 0.5840456\ttotal: 1.47s\tremaining: 1.77s\n",
      "160:\tlearn: 0.5835341\ttotal: 1.48s\tremaining: 1.76s\n",
      "161:\tlearn: 0.5827530\ttotal: 1.49s\tremaining: 1.76s\n",
      "162:\tlearn: 0.5822229\ttotal: 1.5s\tremaining: 1.75s\n",
      "163:\tlearn: 0.5814292\ttotal: 1.51s\tremaining: 1.74s\n",
      "164:\tlearn: 0.5810059\ttotal: 1.52s\tremaining: 1.73s\n",
      "165:\tlearn: 0.5804452\ttotal: 1.53s\tremaining: 1.72s\n",
      "166:\tlearn: 0.5798787\ttotal: 1.54s\tremaining: 1.72s\n",
      "167:\tlearn: 0.5794335\ttotal: 1.55s\tremaining: 1.71s\n",
      "168:\tlearn: 0.5788854\ttotal: 1.56s\tremaining: 1.7s\n",
      "169:\tlearn: 0.5783349\ttotal: 1.57s\tremaining: 1.69s\n",
      "170:\tlearn: 0.5776012\ttotal: 1.58s\tremaining: 1.68s\n",
      "171:\tlearn: 0.5770923\ttotal: 1.59s\tremaining: 1.67s\n",
      "172:\tlearn: 0.5762338\ttotal: 1.6s\tremaining: 1.67s\n",
      "173:\tlearn: 0.5755143\ttotal: 1.61s\tremaining: 1.66s\n",
      "174:\tlearn: 0.5747504\ttotal: 1.62s\tremaining: 1.65s\n",
      "175:\tlearn: 0.5743090\ttotal: 1.63s\tremaining: 1.64s\n",
      "176:\tlearn: 0.5738084\ttotal: 1.64s\tremaining: 1.63s\n",
      "177:\tlearn: 0.5733871\ttotal: 1.65s\tremaining: 1.62s\n",
      "178:\tlearn: 0.5728979\ttotal: 1.66s\tremaining: 1.61s\n",
      "179:\tlearn: 0.5723494\ttotal: 1.67s\tremaining: 1.61s\n",
      "180:\tlearn: 0.5718998\ttotal: 1.68s\tremaining: 1.6s\n",
      "181:\tlearn: 0.5714260\ttotal: 1.69s\tremaining: 1.59s\n",
      "182:\tlearn: 0.5709203\ttotal: 1.7s\tremaining: 1.58s\n",
      "183:\tlearn: 0.5704067\ttotal: 1.71s\tremaining: 1.57s\n",
      "184:\tlearn: 0.5695590\ttotal: 1.72s\tremaining: 1.56s\n",
      "185:\tlearn: 0.5690775\ttotal: 1.73s\tremaining: 1.55s\n",
      "186:\tlearn: 0.5686249\ttotal: 1.74s\tremaining: 1.54s\n",
      "187:\tlearn: 0.5678731\ttotal: 1.75s\tremaining: 1.54s\n",
      "188:\tlearn: 0.5672094\ttotal: 1.76s\tremaining: 1.53s\n",
      "189:\tlearn: 0.5667661\ttotal: 1.77s\tremaining: 1.52s\n",
      "190:\tlearn: 0.5663043\ttotal: 1.78s\tremaining: 1.51s\n",
      "191:\tlearn: 0.5658258\ttotal: 1.79s\tremaining: 1.5s\n",
      "192:\tlearn: 0.5653676\ttotal: 1.8s\tremaining: 1.49s\n",
      "193:\tlearn: 0.5649404\ttotal: 1.81s\tremaining: 1.48s\n",
      "194:\tlearn: 0.5645242\ttotal: 1.82s\tremaining: 1.47s\n",
      "195:\tlearn: 0.5640499\ttotal: 1.83s\tremaining: 1.47s\n",
      "196:\tlearn: 0.5635785\ttotal: 1.84s\tremaining: 1.46s\n",
      "197:\tlearn: 0.5630756\ttotal: 1.85s\tremaining: 1.45s\n",
      "198:\tlearn: 0.5625951\ttotal: 1.86s\tremaining: 1.44s\n",
      "199:\tlearn: 0.5621246\ttotal: 1.87s\tremaining: 1.43s\n",
      "200:\tlearn: 0.5614314\ttotal: 1.88s\tremaining: 1.42s\n",
      "201:\tlearn: 0.5609713\ttotal: 1.89s\tremaining: 1.41s\n",
      "202:\tlearn: 0.5602618\ttotal: 1.9s\tremaining: 1.4s\n",
      "203:\tlearn: 0.5597808\ttotal: 1.9s\tremaining: 1.39s\n",
      "204:\tlearn: 0.5592937\ttotal: 1.91s\tremaining: 1.38s\n",
      "205:\tlearn: 0.5588402\ttotal: 1.92s\tremaining: 1.37s\n",
      "206:\tlearn: 0.5583077\ttotal: 1.93s\tremaining: 1.36s\n",
      "207:\tlearn: 0.5576193\ttotal: 1.94s\tremaining: 1.35s\n",
      "208:\tlearn: 0.5568941\ttotal: 1.95s\tremaining: 1.34s\n",
      "209:\tlearn: 0.5564238\ttotal: 1.96s\tremaining: 1.33s\n",
      "210:\tlearn: 0.5559813\ttotal: 1.97s\tremaining: 1.33s\n",
      "211:\tlearn: 0.5555604\ttotal: 1.98s\tremaining: 1.32s\n",
      "212:\tlearn: 0.5551195\ttotal: 1.99s\tremaining: 1.31s\n",
      "213:\tlearn: 0.5547062\ttotal: 2s\tremaining: 1.3s\n",
      "214:\tlearn: 0.5542959\ttotal: 2.01s\tremaining: 1.29s\n",
      "215:\tlearn: 0.5537875\ttotal: 2.02s\tremaining: 1.28s\n",
      "216:\tlearn: 0.5533362\ttotal: 2.03s\tremaining: 1.27s\n",
      "217:\tlearn: 0.5528457\ttotal: 2.04s\tremaining: 1.26s\n",
      "218:\tlearn: 0.5524185\ttotal: 2.05s\tremaining: 1.25s\n",
      "219:\tlearn: 0.5519465\ttotal: 2.06s\tremaining: 1.25s\n",
      "220:\tlearn: 0.5513833\ttotal: 2.07s\tremaining: 1.24s\n",
      "221:\tlearn: 0.5509049\ttotal: 2.08s\tremaining: 1.23s\n",
      "222:\tlearn: 0.5504440\ttotal: 2.09s\tremaining: 1.22s\n",
      "223:\tlearn: 0.5497065\ttotal: 2.1s\tremaining: 1.21s\n",
      "224:\tlearn: 0.5492321\ttotal: 2.11s\tremaining: 1.2s\n",
      "225:\tlearn: 0.5488026\ttotal: 2.12s\tremaining: 1.19s\n",
      "226:\tlearn: 0.5482913\ttotal: 2.13s\tremaining: 1.18s\n",
      "227:\tlearn: 0.5478347\ttotal: 2.14s\tremaining: 1.17s\n",
      "228:\tlearn: 0.5474298\ttotal: 2.15s\tremaining: 1.16s\n",
      "229:\tlearn: 0.5469119\ttotal: 2.15s\tremaining: 1.15s\n",
      "230:\tlearn: 0.5463972\ttotal: 2.16s\tremaining: 1.14s\n",
      "231:\tlearn: 0.5459543\ttotal: 2.17s\tremaining: 1.13s\n",
      "232:\tlearn: 0.5454716\ttotal: 2.18s\tremaining: 1.12s\n",
      "233:\tlearn: 0.5447973\ttotal: 2.19s\tremaining: 1.11s\n",
      "234:\tlearn: 0.5443413\ttotal: 2.2s\tremaining: 1.11s\n",
      "235:\tlearn: 0.5439437\ttotal: 2.21s\tremaining: 1.1s\n",
      "236:\tlearn: 0.5435101\ttotal: 2.22s\tremaining: 1.09s\n",
      "237:\tlearn: 0.5428799\ttotal: 2.23s\tremaining: 1.08s\n",
      "238:\tlearn: 0.5421687\ttotal: 2.24s\tremaining: 1.07s\n",
      "239:\tlearn: 0.5415333\ttotal: 2.25s\tremaining: 1.06s\n",
      "240:\tlearn: 0.5410946\ttotal: 2.26s\tremaining: 1.05s\n",
      "241:\tlearn: 0.5407148\ttotal: 2.27s\tremaining: 1.04s\n",
      "242:\tlearn: 0.5400614\ttotal: 2.28s\tremaining: 1.03s\n",
      "243:\tlearn: 0.5394652\ttotal: 2.29s\tremaining: 1.02s\n",
      "244:\tlearn: 0.5390965\ttotal: 2.3s\tremaining: 1.01s\n",
      "245:\tlearn: 0.5386782\ttotal: 2.31s\tremaining: 1s\n",
      "246:\tlearn: 0.5382523\ttotal: 2.32s\tremaining: 995ms\n",
      "247:\tlearn: 0.5378306\ttotal: 2.33s\tremaining: 986ms\n",
      "248:\tlearn: 0.5371814\ttotal: 2.34s\tremaining: 977ms\n",
      "249:\tlearn: 0.5368231\ttotal: 2.35s\tremaining: 967ms\n",
      "250:\tlearn: 0.5364731\ttotal: 2.36s\tremaining: 958ms\n",
      "251:\tlearn: 0.5360695\ttotal: 2.37s\tremaining: 949ms\n",
      "252:\tlearn: 0.5356276\ttotal: 2.38s\tremaining: 940ms\n",
      "253:\tlearn: 0.5352299\ttotal: 2.39s\tremaining: 931ms\n",
      "254:\tlearn: 0.5347826\ttotal: 2.4s\tremaining: 921ms\n",
      "255:\tlearn: 0.5341350\ttotal: 2.41s\tremaining: 912ms\n",
      "256:\tlearn: 0.5337207\ttotal: 2.42s\tremaining: 903ms\n",
      "257:\tlearn: 0.5332401\ttotal: 2.43s\tremaining: 894ms\n",
      "258:\tlearn: 0.5328348\ttotal: 2.44s\tremaining: 884ms\n",
      "259:\tlearn: 0.5324440\ttotal: 2.45s\tremaining: 875ms\n",
      "260:\tlearn: 0.5318408\ttotal: 2.46s\tremaining: 866ms\n",
      "261:\tlearn: 0.5314469\ttotal: 2.46s\tremaining: 856ms\n",
      "262:\tlearn: 0.5310272\ttotal: 2.48s\tremaining: 847ms\n",
      "263:\tlearn: 0.5305116\ttotal: 2.48s\tremaining: 838ms\n",
      "264:\tlearn: 0.5300164\ttotal: 2.49s\tremaining: 828ms\n",
      "265:\tlearn: 0.5296182\ttotal: 2.5s\tremaining: 819ms\n",
      "266:\tlearn: 0.5291817\ttotal: 2.51s\tremaining: 810ms\n",
      "267:\tlearn: 0.5287754\ttotal: 2.52s\tremaining: 801ms\n",
      "268:\tlearn: 0.5283845\ttotal: 2.54s\tremaining: 792ms\n",
      "269:\tlearn: 0.5277355\ttotal: 2.54s\tremaining: 783ms\n",
      "270:\tlearn: 0.5271296\ttotal: 2.56s\tremaining: 773ms\n",
      "271:\tlearn: 0.5266257\ttotal: 2.56s\tremaining: 764ms\n",
      "272:\tlearn: 0.5261980\ttotal: 2.57s\tremaining: 754ms\n",
      "273:\tlearn: 0.5258171\ttotal: 2.58s\tremaining: 745ms\n",
      "274:\tlearn: 0.5254302\ttotal: 2.59s\tremaining: 735ms\n",
      "275:\tlearn: 0.5248094\ttotal: 2.6s\tremaining: 726ms\n",
      "276:\tlearn: 0.5242193\ttotal: 2.61s\tremaining: 716ms\n",
      "277:\tlearn: 0.5235981\ttotal: 2.62s\tremaining: 707ms\n",
      "278:\tlearn: 0.5230657\ttotal: 2.63s\tremaining: 698ms\n",
      "279:\tlearn: 0.5225891\ttotal: 2.64s\tremaining: 689ms\n",
      "280:\tlearn: 0.5219980\ttotal: 2.65s\tremaining: 679ms\n",
      "281:\tlearn: 0.5216342\ttotal: 2.66s\tremaining: 670ms\n",
      "282:\tlearn: 0.5210350\ttotal: 2.67s\tremaining: 661ms\n",
      "283:\tlearn: 0.5206097\ttotal: 2.68s\tremaining: 651ms\n",
      "284:\tlearn: 0.5201930\ttotal: 2.69s\tremaining: 642ms\n",
      "285:\tlearn: 0.5198124\ttotal: 2.7s\tremaining: 632ms\n",
      "286:\tlearn: 0.5193725\ttotal: 2.71s\tremaining: 623ms\n",
      "287:\tlearn: 0.5189616\ttotal: 2.72s\tremaining: 614ms\n",
      "288:\tlearn: 0.5185959\ttotal: 2.73s\tremaining: 604ms\n",
      "289:\tlearn: 0.5182821\ttotal: 2.74s\tremaining: 595ms\n",
      "290:\tlearn: 0.5179505\ttotal: 2.75s\tremaining: 586ms\n",
      "291:\tlearn: 0.5173629\ttotal: 2.76s\tremaining: 576ms\n",
      "292:\tlearn: 0.5169076\ttotal: 2.77s\tremaining: 567ms\n",
      "293:\tlearn: 0.5165342\ttotal: 2.78s\tremaining: 558ms\n",
      "294:\tlearn: 0.5162075\ttotal: 2.79s\tremaining: 549ms\n",
      "295:\tlearn: 0.5155853\ttotal: 2.8s\tremaining: 540ms\n",
      "296:\tlearn: 0.5152025\ttotal: 2.81s\tremaining: 531ms\n",
      "297:\tlearn: 0.5147976\ttotal: 2.83s\tremaining: 522ms\n",
      "298:\tlearn: 0.5141546\ttotal: 2.84s\tremaining: 512ms\n",
      "299:\tlearn: 0.5137619\ttotal: 2.85s\tremaining: 503ms\n",
      "300:\tlearn: 0.5131727\ttotal: 2.86s\tremaining: 494ms\n",
      "301:\tlearn: 0.5127992\ttotal: 2.87s\tremaining: 484ms\n",
      "302:\tlearn: 0.5122336\ttotal: 2.88s\tremaining: 475ms\n",
      "303:\tlearn: 0.5118057\ttotal: 2.89s\tremaining: 466ms\n",
      "304:\tlearn: 0.5113882\ttotal: 2.9s\tremaining: 456ms\n",
      "305:\tlearn: 0.5110168\ttotal: 2.91s\tremaining: 447ms\n",
      "306:\tlearn: 0.5105825\ttotal: 2.92s\tremaining: 437ms\n",
      "307:\tlearn: 0.5102117\ttotal: 2.93s\tremaining: 428ms\n",
      "308:\tlearn: 0.5098320\ttotal: 2.94s\tremaining: 418ms\n",
      "309:\tlearn: 0.5094415\ttotal: 2.95s\tremaining: 409ms\n",
      "310:\tlearn: 0.5090514\ttotal: 2.96s\tremaining: 399ms\n",
      "311:\tlearn: 0.5085629\ttotal: 2.97s\tremaining: 390ms\n",
      "312:\tlearn: 0.5081929\ttotal: 2.98s\tremaining: 380ms\n",
      "313:\tlearn: 0.5074764\ttotal: 2.98s\tremaining: 371ms\n",
      "314:\tlearn: 0.5071039\ttotal: 3s\tremaining: 361ms\n",
      "315:\tlearn: 0.5067664\ttotal: 3s\tremaining: 352ms\n",
      "316:\tlearn: 0.5064120\ttotal: 3.01s\tremaining: 342ms\n",
      "317:\tlearn: 0.5060387\ttotal: 3.02s\tremaining: 333ms\n",
      "318:\tlearn: 0.5056705\ttotal: 3.03s\tremaining: 323ms\n",
      "319:\tlearn: 0.5053148\ttotal: 3.04s\tremaining: 314ms\n",
      "320:\tlearn: 0.5049811\ttotal: 3.05s\tremaining: 304ms\n",
      "321:\tlearn: 0.5046710\ttotal: 3.06s\tremaining: 295ms\n",
      "322:\tlearn: 0.5043013\ttotal: 3.07s\tremaining: 285ms\n",
      "323:\tlearn: 0.5039291\ttotal: 3.08s\tremaining: 276ms\n",
      "324:\tlearn: 0.5035123\ttotal: 3.09s\tremaining: 266ms\n",
      "325:\tlearn: 0.5031763\ttotal: 3.1s\tremaining: 257ms\n",
      "326:\tlearn: 0.5028067\ttotal: 3.11s\tremaining: 247ms\n",
      "327:\tlearn: 0.5024713\ttotal: 3.12s\tremaining: 237ms\n",
      "328:\tlearn: 0.5020739\ttotal: 3.13s\tremaining: 228ms\n",
      "329:\tlearn: 0.5017134\ttotal: 3.13s\tremaining: 219ms\n",
      "330:\tlearn: 0.5013700\ttotal: 3.15s\tremaining: 209ms\n",
      "331:\tlearn: 0.5009874\ttotal: 3.15s\tremaining: 200ms\n",
      "332:\tlearn: 0.5006089\ttotal: 3.16s\tremaining: 190ms\n",
      "333:\tlearn: 0.5002334\ttotal: 3.17s\tremaining: 181ms\n",
      "334:\tlearn: 0.4999220\ttotal: 3.18s\tremaining: 171ms\n",
      "335:\tlearn: 0.4996247\ttotal: 3.19s\tremaining: 161ms\n",
      "336:\tlearn: 0.4992707\ttotal: 3.2s\tremaining: 152ms\n",
      "337:\tlearn: 0.4989360\ttotal: 3.21s\tremaining: 142ms\n",
      "338:\tlearn: 0.4985850\ttotal: 3.22s\tremaining: 133ms\n",
      "339:\tlearn: 0.4981251\ttotal: 3.23s\tremaining: 123ms\n",
      "340:\tlearn: 0.4978237\ttotal: 3.23s\tremaining: 114ms\n",
      "341:\tlearn: 0.4972660\ttotal: 3.24s\tremaining: 104ms\n",
      "342:\tlearn: 0.4967136\ttotal: 3.25s\tremaining: 94.8ms\n",
      "343:\tlearn: 0.4964050\ttotal: 3.26s\tremaining: 85.4ms\n",
      "344:\tlearn: 0.4960125\ttotal: 3.27s\tremaining: 75.9ms\n",
      "345:\tlearn: 0.4954758\ttotal: 3.28s\tremaining: 66.4ms\n",
      "346:\tlearn: 0.4950465\ttotal: 3.29s\tremaining: 56.9ms\n",
      "347:\tlearn: 0.4947150\ttotal: 3.3s\tremaining: 47.4ms\n",
      "348:\tlearn: 0.4943993\ttotal: 3.31s\tremaining: 38ms\n",
      "349:\tlearn: 0.4941300\ttotal: 3.32s\tremaining: 28.5ms\n",
      "350:\tlearn: 0.4938074\ttotal: 3.33s\tremaining: 19ms\n",
      "351:\tlearn: 0.4934562\ttotal: 3.34s\tremaining: 9.49ms\n",
      "352:\tlearn: 0.4930495\ttotal: 3.35s\tremaining: 0us\n"
     ]
    },
    {
     "data": {
      "text/html": [
       "<style>#sk-container-id-1 {color: black;}#sk-container-id-1 pre{padding: 0;}#sk-container-id-1 div.sk-toggleable {background-color: white;}#sk-container-id-1 label.sk-toggleable__label {cursor: pointer;display: block;width: 100%;margin-bottom: 0;padding: 0.3em;box-sizing: border-box;text-align: center;}#sk-container-id-1 label.sk-toggleable__label-arrow:before {content: \"▸\";float: left;margin-right: 0.25em;color: #696969;}#sk-container-id-1 label.sk-toggleable__label-arrow:hover:before {color: black;}#sk-container-id-1 div.sk-estimator:hover label.sk-toggleable__label-arrow:before {color: black;}#sk-container-id-1 div.sk-toggleable__content {max-height: 0;max-width: 0;overflow: hidden;text-align: left;background-color: #f0f8ff;}#sk-container-id-1 div.sk-toggleable__content pre {margin: 0.2em;color: black;border-radius: 0.25em;background-color: #f0f8ff;}#sk-container-id-1 input.sk-toggleable__control:checked~div.sk-toggleable__content {max-height: 200px;max-width: 100%;overflow: auto;}#sk-container-id-1 input.sk-toggleable__control:checked~label.sk-toggleable__label-arrow:before {content: \"▾\";}#sk-container-id-1 div.sk-estimator input.sk-toggleable__control:checked~label.sk-toggleable__label {background-color: #d4ebff;}#sk-container-id-1 div.sk-label input.sk-toggleable__control:checked~label.sk-toggleable__label {background-color: #d4ebff;}#sk-container-id-1 input.sk-hidden--visually {border: 0;clip: rect(1px 1px 1px 1px);clip: rect(1px, 1px, 1px, 1px);height: 1px;margin: -1px;overflow: hidden;padding: 0;position: absolute;width: 1px;}#sk-container-id-1 div.sk-estimator {font-family: monospace;background-color: #f0f8ff;border: 1px dotted black;border-radius: 0.25em;box-sizing: border-box;margin-bottom: 0.5em;}#sk-container-id-1 div.sk-estimator:hover {background-color: #d4ebff;}#sk-container-id-1 div.sk-parallel-item::after {content: \"\";width: 100%;border-bottom: 1px solid gray;flex-grow: 1;}#sk-container-id-1 div.sk-label:hover label.sk-toggleable__label {background-color: #d4ebff;}#sk-container-id-1 div.sk-serial::before {content: \"\";position: absolute;border-left: 1px solid gray;box-sizing: border-box;top: 0;bottom: 0;left: 50%;z-index: 0;}#sk-container-id-1 div.sk-serial {display: flex;flex-direction: column;align-items: center;background-color: white;padding-right: 0.2em;padding-left: 0.2em;position: relative;}#sk-container-id-1 div.sk-item {position: relative;z-index: 1;}#sk-container-id-1 div.sk-parallel {display: flex;align-items: stretch;justify-content: center;background-color: white;position: relative;}#sk-container-id-1 div.sk-item::before, #sk-container-id-1 div.sk-parallel-item::before {content: \"\";position: absolute;border-left: 1px solid gray;box-sizing: border-box;top: 0;bottom: 0;left: 50%;z-index: -1;}#sk-container-id-1 div.sk-parallel-item {display: flex;flex-direction: column;z-index: 1;position: relative;background-color: white;}#sk-container-id-1 div.sk-parallel-item:first-child::after {align-self: flex-end;width: 50%;}#sk-container-id-1 div.sk-parallel-item:last-child::after {align-self: flex-start;width: 50%;}#sk-container-id-1 div.sk-parallel-item:only-child::after {width: 0;}#sk-container-id-1 div.sk-dashed-wrapped {border: 1px dashed gray;margin: 0 0.4em 0.5em 0.4em;box-sizing: border-box;padding-bottom: 0.4em;background-color: white;}#sk-container-id-1 div.sk-label label {font-family: monospace;font-weight: bold;display: inline-block;line-height: 1.2em;}#sk-container-id-1 div.sk-label-container {text-align: center;}#sk-container-id-1 div.sk-container {/* jupyter's `normalize.less` sets `[hidden] { display: none; }` but bootstrap.min.css set `[hidden] { display: none !important; }` so we also need the `!important` here to be able to override the default hidden behavior on the sphinx rendered scikit-learn.org. See: https://github.com/scikit-learn/scikit-learn/issues/21755 */display: inline-block !important;position: relative;}#sk-container-id-1 div.sk-text-repr-fallback {display: none;}</style><div id=\"sk-container-id-1\" class=\"sk-top-container\"><div class=\"sk-text-repr-fallback\"><pre>Pipeline(steps=[(&#x27;preprocessor&#x27;, StandardScaler()),\n",
       "                (&#x27;oversampling&#x27;, SMOTE(sampling_strategy=0.3)),\n",
       "                (&#x27;undersampling&#x27;, RandomUnderSampler(sampling_strategy=1)),\n",
       "                (&#x27;classifier&#x27;,\n",
       "                 &lt;catboost.core.CatBoostClassifier object at 0x0000027FEAC86E50&gt;)])</pre><b>In a Jupyter environment, please rerun this cell to show the HTML representation or trust the notebook. <br />On GitHub, the HTML representation is unable to render, please try loading this page with nbviewer.org.</b></div><div class=\"sk-container\" hidden><div class=\"sk-item sk-dashed-wrapped\"><div class=\"sk-label-container\"><div class=\"sk-label sk-toggleable\"><input class=\"sk-toggleable__control sk-hidden--visually\" id=\"sk-estimator-id-1\" type=\"checkbox\" ><label for=\"sk-estimator-id-1\" class=\"sk-toggleable__label sk-toggleable__label-arrow\">Pipeline</label><div class=\"sk-toggleable__content\"><pre>Pipeline(steps=[(&#x27;preprocessor&#x27;, StandardScaler()),\n",
       "                (&#x27;oversampling&#x27;, SMOTE(sampling_strategy=0.3)),\n",
       "                (&#x27;undersampling&#x27;, RandomUnderSampler(sampling_strategy=1)),\n",
       "                (&#x27;classifier&#x27;,\n",
       "                 &lt;catboost.core.CatBoostClassifier object at 0x0000027FEAC86E50&gt;)])</pre></div></div></div><div class=\"sk-serial\"><div class=\"sk-item\"><div class=\"sk-estimator sk-toggleable\"><input class=\"sk-toggleable__control sk-hidden--visually\" id=\"sk-estimator-id-2\" type=\"checkbox\" ><label for=\"sk-estimator-id-2\" class=\"sk-toggleable__label sk-toggleable__label-arrow\">StandardScaler</label><div class=\"sk-toggleable__content\"><pre>StandardScaler()</pre></div></div></div><div class=\"sk-item\"><div class=\"sk-estimator sk-toggleable\"><input class=\"sk-toggleable__control sk-hidden--visually\" id=\"sk-estimator-id-3\" type=\"checkbox\" ><label for=\"sk-estimator-id-3\" class=\"sk-toggleable__label sk-toggleable__label-arrow\">SMOTE</label><div class=\"sk-toggleable__content\"><pre>SMOTE(sampling_strategy=0.3)</pre></div></div></div><div class=\"sk-item\"><div class=\"sk-estimator sk-toggleable\"><input class=\"sk-toggleable__control sk-hidden--visually\" id=\"sk-estimator-id-4\" type=\"checkbox\" ><label for=\"sk-estimator-id-4\" class=\"sk-toggleable__label sk-toggleable__label-arrow\">RandomUnderSampler</label><div class=\"sk-toggleable__content\"><pre>RandomUnderSampler(sampling_strategy=1)</pre></div></div></div><div class=\"sk-item\"><div class=\"sk-estimator sk-toggleable\"><input class=\"sk-toggleable__control sk-hidden--visually\" id=\"sk-estimator-id-5\" type=\"checkbox\" ><label for=\"sk-estimator-id-5\" class=\"sk-toggleable__label sk-toggleable__label-arrow\">CatBoostClassifier</label><div class=\"sk-toggleable__content\"><pre>&lt;catboost.core.CatBoostClassifier object at 0x0000027FEAC86E50&gt;</pre></div></div></div></div></div></div></div>"
      ],
      "text/plain": [
       "Pipeline(steps=[('preprocessor', StandardScaler()),\n",
       "                ('oversampling', SMOTE(sampling_strategy=0.3)),\n",
       "                ('undersampling', RandomUnderSampler(sampling_strategy=1)),\n",
       "                ('classifier',\n",
       "                 <catboost.core.CatBoostClassifier object at 0x0000027FEAC86E50>)])"
      ]
     },
     "execution_count": 4,
     "metadata": {},
     "output_type": "execute_result"
    }
   ],
   "source": [
    "# Get the best parameters\n",
    "best_params = study.best_trial.params\n",
    "\n",
    "# Create the best model with the best parameters\n",
    "best_model = CatBoostClassifier(**best_params)\n",
    "\n",
    "\n",
    "# Create the pipeline\n",
    "pipeline = imbpipeline(\n",
    "    [\n",
    "        (\"preprocessor\", scaler),\n",
    "        (\"oversampling\", over),\n",
    "        (\"undersampling\", under),\n",
    "        (\"classifier\", best_model),\n",
    "    ]\n",
    ")\n",
    "\n",
    "# Fit the best model on the training data\n",
    "pipeline.fit(X_train, y_train)"
   ]
  },
  {
   "cell_type": "code",
   "execution_count": 5,
   "metadata": {},
   "outputs": [
    {
     "name": "stderr",
     "output_type": "stream",
     "text": [
      "findfont: Font family 'Helvetica' not found.\n",
      "findfont: Font family 'Helvetica' not found.\n",
      "findfont: Font family 'Helvetica' not found.\n",
      "findfont: Font family 'Helvetica' not found.\n",
      "findfont: Font family 'Helvetica' not found.\n",
      "findfont: Font family 'Helvetica' not found.\n",
      "findfont: Font family 'Helvetica' not found.\n",
      "findfont: Font family 'Helvetica' not found.\n",
      "findfont: Font family 'Helvetica' not found.\n",
      "findfont: Font family 'Helvetica' not found.\n",
      "findfont: Font family 'Helvetica' not found.\n",
      "findfont: Font family 'Helvetica' not found.\n",
      "findfont: Font family 'Helvetica' not found.\n",
      "findfont: Font family 'Helvetica' not found.\n",
      "findfont: Font family 'Helvetica' not found.\n",
      "findfont: Font family 'Helvetica' not found.\n",
      "findfont: Font family 'Helvetica' not found.\n",
      "findfont: Font family 'Helvetica' not found.\n",
      "findfont: Font family 'Helvetica' not found.\n",
      "findfont: Font family 'Helvetica' not found.\n",
      "findfont: Font family 'Helvetica' not found.\n",
      "findfont: Font family 'Helvetica' not found.\n",
      "findfont: Font family 'Helvetica' not found.\n",
      "findfont: Font family 'Helvetica' not found.\n",
      "findfont: Font family 'Helvetica' not found.\n",
      "findfont: Font family 'Helvetica' not found.\n",
      "findfont: Font family 'Helvetica' not found.\n",
      "findfont: Font family 'Helvetica' not found.\n",
      "findfont: Font family 'Helvetica' not found.\n",
      "findfont: Font family 'Helvetica' not found.\n",
      "findfont: Font family 'Helvetica' not found.\n",
      "findfont: Font family 'Helvetica' not found.\n",
      "findfont: Font family 'Helvetica' not found.\n",
      "findfont: Font family 'Helvetica' not found.\n",
      "findfont: Font family 'Helvetica' not found.\n",
      "findfont: Font family 'Helvetica' not found.\n",
      "findfont: Font family 'Helvetica' not found.\n",
      "findfont: Font family 'Helvetica' not found.\n",
      "findfont: Font family 'Helvetica' not found.\n",
      "findfont: Font family 'Helvetica' not found.\n",
      "findfont: Font family 'Helvetica' not found.\n",
      "findfont: Font family 'Helvetica' not found.\n",
      "findfont: Font family 'Helvetica' not found.\n",
      "findfont: Font family 'Helvetica' not found.\n",
      "findfont: Font family 'Helvetica' not found.\n",
      "findfont: Font family 'Helvetica' not found.\n",
      "findfont: Font family 'Helvetica' not found.\n",
      "findfont: Font family 'Helvetica' not found.\n",
      "findfont: Font family 'Helvetica' not found.\n",
      "findfont: Font family 'Helvetica' not found.\n",
      "findfont: Font family 'Helvetica' not found.\n",
      "findfont: Font family 'Helvetica' not found.\n",
      "findfont: Font family 'Helvetica' not found.\n",
      "findfont: Font family 'Helvetica' not found.\n",
      "findfont: Font family 'Helvetica' not found.\n"
     ]
    }
   ],
   "source": [
    "y_pred_train = pipeline.predict(X_train)\n",
    "y_proba_train = pipeline.predict_proba(X_train)\n",
    "\n",
    "y_pred_test = pipeline.predict(X_test)\n",
    "y_proba_test = pipeline.predict_proba(X_test)\n",
    "\n",
    "\n",
    "report = pd.DataFrame(\n",
    "    classification_report(y_test, y_pred_test, output_dict=True)\n",
    ").transpose()\n",
    "\n",
    "\n",
    "\n",
    "dfi.export(report, f\"../figures/optimised.catBoost.png\", table_conversion=\"matplotlib\")"
   ]
  },
  {
   "cell_type": "code",
   "execution_count": 6,
   "metadata": {},
   "outputs": [
    {
     "data": {
      "image/png": "[encoded data removed]",
      "text/plain": [
       "<Figure size 500x300 with 2 Axes>"
      ]
     },
     "metadata": {},
     "output_type": "display_data"
    }
   ],
   "source": [
    "fig, ax = plt.subplots(1, 2, sharey=True, figsize=(5, 3))\n",
    "ConfusionMatrixDisplay.from_predictions(y_test, y_pred_test, ax=ax[0], colorbar=False)\n",
    "ConfusionMatrixDisplay.from_predictions(\n",
    "    y_test,\n",
    "    y_pred_test,\n",
    "    normalize=\"true\",\n",
    "    values_format=\".2f\",\n",
    "    ax=ax[1],\n",
    "    im_kw={\"vmin\": 0, \"vmax\": 1},\n",
    "    colorbar=False,\n",
    ")\n",
    "fig.suptitle(\"Confusion Matrix\")\n",
    "ax[0].set_title(\"Counts\")\n",
    "ax[1].set_title(\"Proportions\")\n",
    "ax[1].set_ylabel(None)\n",
    "fig.savefig(f\"../figures/optimised.catBoost.cm.png\")"
   ]
  },
  {
   "cell_type": "code",
   "execution_count": 7,
   "metadata": {},
   "outputs": [
    {
     "data": {
      "image/png": "[encoded data removed]",
      "text/plain": [
       "<Figure size 640x480 with 1 Axes>"
      ]
     },
     "metadata": {},
     "output_type": "display_data"
    }
   ],
   "source": [
    "def make_roc_df(name, predictions, labels):\n",
    "    fp, tp, _ = roc_curve(labels, predictions)\n",
    "    return pd.DataFrame(\n",
    "        {\"False Positive\": fp * 100, \"True Positive\": tp * 100, \"Dataset\": name}\n",
    "    )\n",
    "\n",
    "\n",
    "roc_df = pd.concat(\n",
    "    [\n",
    "        make_roc_df(\"Training\", y_proba_train[:, -1], y_train),\n",
    "        make_roc_df(\"Test\", y_proba_test[:, -1], y_test),\n",
    "    ]\n",
    ")\n",
    "\n",
    "sns.lineplot(roc_df, x=\"False Positive\", y=\"True Positive\", hue=\"Dataset\")\n",
    "plt.title(\"ROC Curve - Optimised CatBoost\")\n",
    "plt.show()"
   ]
  }
 ],
 "metadata": {
  "kernelspec": {
   "display_name": "base",
   "language": "python",
   "name": "python3"
  },
  "language_info": {
   "codemirror_mode": {
    "name": "ipython",
    "version": 3
   },
   "file_extension": ".py",
   "mimetype": "text/x-python",
   "name": "python",
   "nbconvert_exporter": "python",
   "pygments_lexer": "ipython3",
   "version": "3.11.5"
  }
 },
 "nbformat": 4,
 "nbformat_minor": 2
}
